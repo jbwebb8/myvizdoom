{
 "cells": [
  {
   "cell_type": "markdown",
   "metadata": {},
   "source": [
    "# Network Builder"
   ]
  },
  {
   "cell_type": "code",
   "execution_count": 117,
   "metadata": {
    "collapsed": true
   },
   "outputs": [],
   "source": [
    "# Need to fix harded code shapes in input_layer, num_outputs in output layer\n",
    "# Args needed in addition to network file (suppled by agent):\n",
    "# - input_depth\n",
    "# - output_shape\n",
    "# - learning_rate"
   ]
  },
  {
   "cell_type": "markdown",
   "metadata": {},
   "source": [
    "## Initial Setup"
   ]
  },
  {
   "cell_type": "code",
   "execution_count": 118,
   "metadata": {
    "collapsed": true
   },
   "outputs": [],
   "source": [
    "import tensorflow as tf\n",
    "import json"
   ]
  },
  {
   "cell_type": "code",
   "execution_count": 119,
   "metadata": {
    "collapsed": true
   },
   "outputs": [],
   "source": [
    "tf.reset_default_graph()"
   ]
  },
  {
   "cell_type": "code",
   "execution_count": 120,
   "metadata": {
    "collapsed": false
   },
   "outputs": [],
   "source": [
    "# Load arguments from network file\n",
    "network_file = \"./dqn_basic_cpu.json\"\n",
    "if not network_file.lower().endswith(\".json\"): \n",
    "    raise Exception(\"No network JSON file.\")\n",
    "network = json.loads(open(network_file).read())"
   ]
  },
  {
   "cell_type": "code",
   "execution_count": 121,
   "metadata": {
    "collapsed": true
   },
   "outputs": [],
   "source": [
    "# Additional arguments that will be supplied by agent\n",
    "input_depth = 12\n",
    "output_shape = 5\n",
    "learning_rate = 0.0025"
   ]
  },
  {
   "cell_type": "code",
   "execution_count": 122,
   "metadata": {
    "collapsed": true
   },
   "outputs": [],
   "source": [
    "# Get input layer settings\n",
    "for ph in network[\"placeholders\"]:\n",
    "    if network[\"global_features\"][\"input_layer\"] == ph[\"name\"]:\n",
    "        input_settings = ph\n",
    "        break\n",
    "\n",
    "# Get output layer settings\n",
    "for l in network[\"layers\"]:\n",
    "    if network[\"global_features\"][\"output_layer\"] == l[\"name\"]:\n",
    "        output_settings = l\n",
    "        break"
   ]
  },
  {
   "cell_type": "code",
   "execution_count": 123,
   "metadata": {
    "collapsed": true
   },
   "outputs": [],
   "source": [
    "# Set up tf session and graph\n",
    "sess = tf.Session()\n",
    "graph = tf.get_default_graph()\n",
    "graph_dict = {}"
   ]
  },
  {
   "cell_type": "code",
   "execution_count": 124,
   "metadata": {
    "collapsed": true
   },
   "outputs": [],
   "source": [
    "def _get_object(names):\n",
    "    if type(names) == list:\n",
    "        obs = []\n",
    "        for name in ncames:\n",
    "            obs.append(graph_dict[name])\n",
    "        return obs\n",
    "    else:\n",
    "        return graph_dict[names]"
   ]
  },
  {
   "cell_type": "markdown",
   "metadata": {},
   "source": [
    "## Placeholders"
   ]
  },
  {
   "cell_type": "code",
   "execution_count": 125,
   "metadata": {
    "collapsed": false
   },
   "outputs": [],
   "source": [
    "def add_placeholder(ph):\n",
    "    if \"shape\" in ph[\"kwargs\"]:\n",
    "        for i in range(len(ph[\"kwargs\"][\"shape\"])):\n",
    "            if ph[\"kwargs\"][\"shape\"][i] == \"None\":\n",
    "                ph[\"kwargs\"][\"shape\"][i] = None\n",
    "    return tf.placeholder(ph[\"data_type\"], **ph[\"kwargs\"])"
   ]
  },
  {
   "cell_type": "code",
   "execution_count": 126,
   "metadata": {
    "collapsed": false
   },
   "outputs": [
    {
     "name": "stdout",
     "output_type": "stream",
     "text": [
      "Tensor(\"state:0\", shape=(?, 30, 45, 1), dtype=float32)\n",
      "Tensor(\"action:0\", shape=(?,), dtype=int32)\n",
      "Tensor(\"target_q:0\", shape=(?, ?), dtype=float32)\n"
     ]
    }
   ],
   "source": [
    "# Add placeholders\n",
    "for ph in network[\"placeholders\"]:\n",
    "    node = add_placeholder(ph)\n",
    "    graph_dict[ph[\"name\"]] = node\n",
    "\n",
    "for name in graph_dict:\n",
    "    print(graph_dict[name])"
   ]
  },
  {
   "cell_type": "markdown",
   "metadata": {},
   "source": [
    "## Layers"
   ]
  },
  {
   "cell_type": "code",
   "execution_count": 127,
   "metadata": {
    "collapsed": true
   },
   "outputs": [],
   "source": [
    "def add_layer(layer):\n",
    "    layer_type = layer[\"type\"].lower()\n",
    "    input_layer = _get_object(layer[\"input\"])\n",
    "    if layer_type == \"conv2d\":\n",
    "        return tf.contrib.layers.convolution2d(input_layer, **layer[\"kwargs\"])\n",
    "    elif layer_type == \"flatten\":\n",
    "        return tf.contrib.layers.flatten(input_layer, **layer[\"kwargs\"])\n",
    "    elif layer_type == \"fully_connected\" or \"fc\":\n",
    "        return tf.contrib.layers.fully_connected(input_layer, **layer[\"kwargs\"])\n",
    "    else:\n",
    "        raise ValueError(\"Layer \" + layer[\"type\"] + \" not yet defined.\")"
   ]
  },
  {
   "cell_type": "code",
   "execution_count": 128,
   "metadata": {
    "collapsed": false
   },
   "outputs": [
    {
     "name": "stdout",
     "output_type": "stream",
     "text": [
      "Tensor(\"state:0\", shape=(?, 30, 45, 1), dtype=float32)\n",
      "Tensor(\"action:0\", shape=(?,), dtype=int32)\n",
      "Tensor(\"target_q:0\", shape=(?, ?), dtype=float32)\n",
      "Tensor(\"CONV_1/Relu:0\", shape=(?, 9, 14, 8), dtype=float32)\n",
      "Tensor(\"CONV_2/Relu:0\", shape=(?, 2, 3, 8), dtype=float32)\n",
      "Tensor(\"CONV_2_FLAT/Reshape:0\", shape=(?, 48), dtype=float32)\n",
      "Tensor(\"FC_1/Relu:0\", shape=(?, 128), dtype=float32)\n",
      "Tensor(\"Q/Relu:0\", shape=(?, 5), dtype=float32)\n"
     ]
    }
   ],
   "source": [
    "# Add layers\n",
    "for layer in network[\"layers\"]:\n",
    "    l = add_layer(layer)\n",
    "    graph_dict[layer[\"name\"]] = l\n",
    "\n",
    "for name in graph_dict:\n",
    "    print(graph_dict[name])"
   ]
  },
  {
   "cell_type": "markdown",
   "metadata": {},
   "source": [
    "## Ops"
   ]
  },
  {
   "cell_type": "code",
   "execution_count": 129,
   "metadata": {
    "collapsed": true
   },
   "outputs": [],
   "source": [
    "def add_op(op):\n",
    "    input_op = _get_object(op[\"input\"])\n",
    "    op_type = op[\"type\"].lower()\n",
    "    if op_type == \"argmax\":\n",
    "        return tf.argmax(input_op, **op[\"kwargs\"])\n",
    "    elif op_type == \"mean_squared_error\":\n",
    "        return tf.losses.mean_squared_error(*input_op, **op[\"kwargs\"])\n",
    "    else:\n",
    "        raise ValueError(\"Op \" + op[\"type\"] + \" not yet defined.\")"
   ]
  },
  {
   "cell_type": "code",
   "execution_count": 130,
   "metadata": {
    "collapsed": false
   },
   "outputs": [
    {
     "name": "stdout",
     "output_type": "stream",
     "text": [
      "Tensor(\"state:0\", shape=(?, 30, 45, 1), dtype=float32)\n",
      "Tensor(\"action:0\", shape=(?,), dtype=int32)\n",
      "Tensor(\"target_q:0\", shape=(?, ?), dtype=float32)\n",
      "Tensor(\"CONV_1/Relu:0\", shape=(?, 9, 14, 8), dtype=float32)\n",
      "Tensor(\"CONV_2/Relu:0\", shape=(?, 2, 3, 8), dtype=float32)\n",
      "Tensor(\"CONV_2_FLAT/Reshape:0\", shape=(?, 48), dtype=float32)\n",
      "Tensor(\"FC_1/Relu:0\", shape=(?, 128), dtype=float32)\n",
      "Tensor(\"Q/Relu:0\", shape=(?, 5), dtype=float32)\n",
      "Tensor(\"best_action:0\", shape=(?,), dtype=int64)\n",
      "Tensor(\"loss/value:0\", shape=(), dtype=float32)\n"
     ]
    }
   ],
   "source": [
    "# Add ops\n",
    "for op in network[\"ops\"]:\n",
    "    node = add_op(op)\n",
    "    graph_dict[op[\"name\"]] = node\n",
    "\n",
    "for name in graph_dict:\n",
    "    print(graph_dict[name])"
   ]
  },
  {
   "cell_type": "markdown",
   "metadata": {},
   "source": [
    "## Optimizer"
   ]
  },
  {
   "cell_type": "code",
   "execution_count": 131,
   "metadata": {
    "collapsed": false
   },
   "outputs": [],
   "source": [
    "# Add optimizer\n",
    "def add_optimizer(opt):\n",
    "    loss_name = network[\"global_features\"][\"loss\"]\n",
    "    loss = graph_dict[loss_name]\n",
    "    if opt.lower() == \"rmsprop\":\n",
    "        optimizer = tf.train.RMSPropOptimizer(learning_rate)\n",
    "        return optimizer, optimizer.minimize(loss)"
   ]
  },
  {
   "cell_type": "code",
   "execution_count": 132,
   "metadata": {
    "collapsed": false
   },
   "outputs": [
    {
     "name": "stdout",
     "output_type": "stream",
     "text": [
      "state:  Tensor(\"state:0\", shape=(?, 30, 45, 1), dtype=float32)\n",
      "action:  Tensor(\"action:0\", shape=(?,), dtype=int32)\n",
      "target_q:  Tensor(\"target_q:0\", shape=(?, ?), dtype=float32)\n",
      "CONV_1:  Tensor(\"CONV_1/Relu:0\", shape=(?, 9, 14, 8), dtype=float32)\n",
      "CONV_2:  Tensor(\"CONV_2/Relu:0\", shape=(?, 2, 3, 8), dtype=float32)\n",
      "CONV_2_FLAT:  Tensor(\"CONV_2_FLAT/Reshape:0\", shape=(?, 48), dtype=float32)\n",
      "FC_1:  Tensor(\"FC_1/Relu:0\", shape=(?, 128), dtype=float32)\n",
      "Q:  Tensor(\"Q/Relu:0\", shape=(?, 5), dtype=float32)\n",
      "best_action:  Tensor(\"best_action:0\", shape=(?,), dtype=int64)\n",
      "loss:  Tensor(\"loss/value:0\", shape=(), dtype=float32)\n",
      "optimizer:  <tensorflow.python.training.rmsprop.RMSPropOptimizer object at 0x7fecf628b2b0>\n",
      "train_step:  name: \"RMSProp\"\n",
      "op: \"NoOp\"\n",
      "input: \"^RMSProp/update_CONV_1/weights/ApplyRMSProp\"\n",
      "input: \"^RMSProp/update_CONV_1/biases/ApplyRMSProp\"\n",
      "input: \"^RMSProp/update_CONV_2/weights/ApplyRMSProp\"\n",
      "input: \"^RMSProp/update_CONV_2/biases/ApplyRMSProp\"\n",
      "input: \"^RMSProp/update_FC_1/weights/ApplyRMSProp\"\n",
      "input: \"^RMSProp/update_FC_1/biases/ApplyRMSProp\"\n",
      "input: \"^RMSProp/update_Q/weights/ApplyRMSProp\"\n",
      "input: \"^RMSProp/update_Q/biases/ApplyRMSProp\"\n",
      "\n"
     ]
    }
   ],
   "source": [
    "optimizer, train_step = add_optimizer(network[\"global_features\"][\"optimizer\"])\n",
    "graph_dict[\"optimizer\"] = optimizer\n",
    "graph_dict[\"train_step\"] = train_step\n",
    "\n",
    "for name in graph_dict:\n",
    "    print(name + \": \", graph_dict[name])"
   ]
  },
  {
   "cell_type": "markdown",
   "metadata": {},
   "source": [
    "## Visualize with Tensorboard"
   ]
  },
  {
   "cell_type": "code",
   "execution_count": 143,
   "metadata": {
    "collapsed": true
   },
   "outputs": [],
   "source": [
    "log_dir = \"./logs/log_1/\"\n",
    "writer = tf.summary.FileWriter(log_dir, graph=graph)"
   ]
  },
  {
   "cell_type": "code",
   "execution_count": 144,
   "metadata": {
    "collapsed": false
   },
   "outputs": [],
   "source": [
    "import numpy as np\n",
    "s = np.random.rand(64, 30, 45, 1)\n",
    "tq = np.random.rand(64, 5) \n",
    "input_name = input_settings[\"name\"]\n",
    "input_node = graph_dict[input_name]\n",
    "tq_tensor = graph_dict[\"target_q\"]\n",
    "sess.run(tf.global_variables_initializer())\n",
    "for _ in range(100):\n",
    "    sess.run(train_step, feed_dict={input_node: s, tq_tensor: tq})\n",
    "writer.flush()"
   ]
  },
  {
   "cell_type": "code",
   "execution_count": 139,
   "metadata": {
    "collapsed": true
   },
   "outputs": [],
   "source": [
    "graph_def = graph.as_graph_def()\n",
    "graphpb_txt = str(a.graph.as_graph_def())\n",
    "with open('graphpb.txt', 'w') as f: f.write(graphpb_txt)"
   ]
  },
  {
   "cell_type": "code",
   "execution_count": null,
   "metadata": {
    "collapsed": true
   },
   "outputs": [],
   "source": []
  }
 ],
 "metadata": {
  "kernelspec": {
   "display_name": "Python 3",
   "language": "python",
   "name": "python3"
  },
  "language_info": {
   "codemirror_mode": {
    "name": "ipython",
    "version": 3
   },
   "file_extension": ".py",
   "mimetype": "text/x-python",
   "name": "python",
   "nbconvert_exporter": "python",
   "pygments_lexer": "ipython3",
   "version": "3.6.0"
  }
 },
 "nbformat": 4,
 "nbformat_minor": 2
}
