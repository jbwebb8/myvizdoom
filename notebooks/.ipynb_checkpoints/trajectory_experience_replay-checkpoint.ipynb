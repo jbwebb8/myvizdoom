{
 "cells": [
  {
   "cell_type": "markdown",
   "metadata": {},
   "source": [
    "# Trajectory replay"
   ]
  },
  {
   "cell_type": "markdown",
   "metadata": {},
   "source": [
    "## Initial setup"
   ]
  },
  {
   "cell_type": "code",
   "execution_count": 3,
   "metadata": {},
   "outputs": [],
   "source": [
    "import sys\n",
    "sys.path.insert(0, \"../python/\")\n",
    "from memory.ReplayMemory import ReplayMemory\n",
    "import numpy as np\n",
    "import random\n",
    "import copy"
   ]
  },
  {
   "cell_type": "markdown",
   "metadata": {},
   "source": [
    "## Numpy indexing"
   ]
  },
  {
   "cell_type": "code",
   "execution_count": 19,
   "metadata": {},
   "outputs": [
    {
     "name": "stdout",
     "output_type": "stream",
     "text": [
      "idx: [58  8 24 44 72 70 19]\n",
      "Slices:\n",
      " [58 59 60 61 62  8  9 10 11 12 24 25 26 27 28 44 45 46 47 48 72 73 74 75 76\n",
      " 70 71 72 73 74 19 20 21 22 23]\n",
      "Corrected slices:\n",
      " [58 59 60 61 62  8  9 10 11 12 24 25 26 27 28 44 45 46 47 48 72 73 74 75 76\n",
      " 70 71 72 73 74 19 20 21 22 23]\n",
      "Original:\n",
      "s1[0].shape: (100, 12, 84, 84)\n",
      "s1[0][slices][0, ...]:\n",
      "[[ 0.53546728  0.34858874  0.99254931]\n",
      " [ 0.98171926  0.22050952  0.32387461]\n",
      " [ 0.50426754  0.38082718  0.53164911]]\n",
      "s1[0][slices][5, ...]:\n",
      "[[ 0.90396477  0.21205504  0.47445172]\n",
      " [ 0.63509333  0.78279289  0.96300232]\n",
      " [ 0.17780579  0.22307001  0.1404238 ]]\n",
      "Reshape:\n",
      "s1[0][slices].shape: (7, 5, 12, 84, 84)\n",
      "s1[0][slices][0][...]:\n",
      "[[ 0.53546728  0.34858874  0.99254931]\n",
      " [ 0.98171926  0.22050952  0.32387461]\n",
      " [ 0.50426754  0.38082718  0.53164911]]\n",
      "s1[0][slices][1][...]:\n",
      "[[ 0.90396477  0.21205504  0.47445172]\n",
      " [ 0.63509333  0.78279289  0.96300232]\n",
      " [ 0.17780579  0.22307001  0.1404238 ]]\n"
     ]
    }
   ],
   "source": [
    "idx = np.random.randint(0, 100, 7)\n",
    "print(\"idx:\", idx)\n",
    "\n",
    "x, y = np.meshgrid(idx, np.arange(5))\n",
    "slices = np.transpose(x + y).flatten()\n",
    "print(\"Slices:\\n\", slices)\n",
    "slices %= 100\n",
    "print(\"Corrected slices:\\n\", slices)\n",
    "\n",
    "s1_0 = np.random.rand(100, 12, 84, 84) # mimics memory with capacity 100\n",
    "s1_1 = np.random.rand(2)\n",
    "s1 = [s1_0, s1_1]\n",
    "print(\"Original:\")\n",
    "print(\"s1[0].shape:\", s1[0].shape)\n",
    "print(\"s1[0][slices][0, ...]:\")\n",
    "print(s1[0][slices][0, 0, :3, :3])\n",
    "print(\"s1[0][slices][5, ...]:\")\n",
    "print(s1[0][slices][5, 0, :3, :3])\n",
    "\n",
    "rs = np.reshape(s1[0][slices], [7, 5, 12, 84, 84]) # [num of traj, traj len, state_shape...]\n",
    "print(\"Reshape:\")\n",
    "print(\"s1[0][slices].shape:\", rs.shape)\n",
    "print(\"s1[0][slices][0][...]:\")\n",
    "print(rs[0, 0, 0, :3, :3])\n",
    "print(\"s1[0][slices][1][...]:\")\n",
    "print(rs[1, 0, 0, :3, :3])"
   ]
  },
  {
   "cell_type": "markdown",
   "metadata": {},
   "source": [
    "## Class definition"
   ]
  },
  {
   "cell_type": "code",
   "execution_count": 42,
   "metadata": {},
   "outputs": [],
   "source": [
    "class TrajectoryReplayMemory(ReplayMemory):\n",
    "    def __init__(self, capacity, state_shape, num_game_var, input_overlap=0, \n",
    "                 trajectory_length=5):\n",
    "        # Initialize base replay memory\n",
    "        ReplayMemory.__init__(self, capacity, state_shape, num_game_var, input_overlap)\n",
    "\n",
    "        # Initialize trajectory parameters\n",
    "        self.tr_len = trajectory_length\n",
    "        \n",
    "    def get_sample(self, sample_size):\n",
    "        # Get random minibatch of indices\n",
    "        idx = np.random.randint(0, self.size, sample_size)\n",
    "        x, y = np.meshgrid(idx, np.arange(self.tr_len))\n",
    "        idx = np.transpose(x + y).flatten() # [i, i+1, ..., i+n, j, j+1, ..., j+n, k...]\n",
    "        idx %= self.capacity # wrap end cases\n",
    "        # TODO: find isterminal in sequences and cut short\n",
    "        \n",
    "        # s = [screen[trajectory id, trajectory step, state_shape...], gv[traj id, traj step, num_gv]]\n",
    "        \n",
    "        def create_sample(idx, t):    \n",
    "            # Make list of states\n",
    "            s1_sample, s2_sample = [], []\n",
    "            \n",
    "            # Get screen component\n",
    "            s1_slice = self.s1[0][idx]\n",
    "            if self.overlap > 0:\n",
    "                # Stack overlapping frames from s1 to stored frames of s2 to\n",
    "                # recreate full s2 state\n",
    "                s2_slice = np.concatenate((self.s1[0][[idx] + [slice(None)] * self.chdim \n",
    "                                                 + [slice(None, self.overlap)]], \n",
    "                                                 self.s2[0][idx]), \n",
    "                                                axis=self.chdim+1)\n",
    "            else:\n",
    "                s2_slice = self.s2[0][idx]\n",
    "            s1_sample.append(np.reshape(s1_slice, [sample_size, t] + self.state_shape))\n",
    "            s2_sample.append(np.reshape(s2_slice, [sample_size, t] + self.state_shape))\n",
    "            \n",
    "            # Get game variable component\n",
    "            s1_sample.append(np.reshape(self.s1[1][idx], [sample_size, t] + [self.num_game_var]))\n",
    "            s2_sample.append(np.reshape(self.s2[1][idx], [sample_size, t] + [self.num_game_var]))\n",
    "            \n",
    "            # Get other transition parameters\n",
    "            a_sample = np.reshape(self.a[idx], [sample_size, t])\n",
    "            isterminal_sample = np.reshape(self.isterminal[idx], [sample_size, t])\n",
    "            r_sample = np.reshape(self.r[idx], [sample_size, t])\n",
    "            \n",
    "            # Return importance sampling weights of one (stochastic distribution)\n",
    "            w = np.ones([sample_size, t])\n",
    "            \n",
    "            return s1_sample, a_sample, s2_sample, isterminal_sample, r_sample, w, idx\n",
    "        \n",
    "        return create_sample(idx, self.tr_len)"
   ]
  },
  {
   "cell_type": "code",
   "execution_count": 43,
   "metadata": {},
   "outputs": [],
   "source": [
    "capacity = 100\n",
    "state_shape = [12, 84, 84]\n",
    "num_game_var = 2\n",
    "input_overlap = 3\n",
    "trajectory_length = 10\n",
    "memory = TrajectoryReplayMemory(capacity=capacity,\n",
    "                                state_shape=state_shape,\n",
    "                                num_game_var=num_game_var,\n",
    "                                input_overlap=input_overlap,\n",
    "                                trajectory_length=trajectory_length)\n",
    "terminal_states = random.sample(range(capacity), 7)\n",
    "s1, s2 = [], []\n",
    "s2.append(np.random.rand(state_shape[0], state_shape[1], state_shape[2]))\n",
    "s2.append([random.random()] * num_game_var)\n",
    "for i in range(capacity):\n",
    "    s1 = [s2[0], s2[1]]\n",
    "    s2[0] = np.delete(s2[0], np.s_[0:input_overlap], axis=0)\n",
    "    s2[0] = np.append(s2[0], np.random.rand(input_overlap, state_shape[1], state_shape[2]), axis=0)\n",
    "    s2[1] = [random.random()] * num_game_var\n",
    "    a = random.sample(range(4), 1)[0]\n",
    "    r = random.random()\n",
    "    isterminal = i in terminal_states\n",
    "    memory.add_transition(s1, a, s2, isterminal, r)  "
   ]
  },
  {
   "cell_type": "code",
   "execution_count": 48,
   "metadata": {},
   "outputs": [
    {
     "name": "stdout",
     "output_type": "stream",
     "text": [
      "idx: [86 87 88 89 90 91 92 93 94 95 82 83 84 85 86 87 88 89 90 91  2  3  4  5  6\n",
      "  7  8  9 10 11 17 18 19 20 21 22 23 24 25 26  8  9 10 11 12 13 14 15 16 17\n",
      " 32 33 34 35 36 37 38 39 40 41 90 91 92 93 94 95 96 97 98 99]\n",
      "s1[0].shape: (7, 10, 12, 84, 84)\n",
      "s1[1].shape: (7, 10, 2)\n",
      "a.shape: (7, 10)\n",
      "s2[0].shape: (7, 10, 12, 84, 84)\n",
      "s2[1].shape: (7, 10, 2)\n",
      "isterminal.shape: (7, 10)\n",
      "r.shape: (7, 10)\n",
      "w.shape: (7, 10)\n"
     ]
    }
   ],
   "source": [
    "s1, a, s2, isterminal, r, w, idx = memory.get_sample(7)\n",
    "print(\"idx:\", idx)\n",
    "print(\"s1[0].shape:\", s1[0].shape)\n",
    "print(\"s1[1].shape:\", s1[1].shape)\n",
    "print(\"a.shape:\", a.shape)\n",
    "print(\"s2[0].shape:\", s2[0].shape)\n",
    "print(\"s2[1].shape:\", s2[1].shape)\n",
    "print(\"isterminal.shape:\", isterminal.shape)\n",
    "print(\"r.shape:\", r.shape)\n",
    "print(\"w.shape:\", w.shape)"
   ]
  },
  {
   "cell_type": "code",
   "execution_count": null,
   "metadata": {
    "collapsed": true
   },
   "outputs": [],
   "source": []
  }
 ],
 "metadata": {
  "kernelspec": {
   "display_name": "Python 3 (vizdoom)",
   "language": "python",
   "name": "vizdoom"
  }
 },
 "nbformat": 4,
 "nbformat_minor": 2
}
