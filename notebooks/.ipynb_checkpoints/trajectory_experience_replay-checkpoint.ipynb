{
 "cells": [
  {
   "cell_type": "markdown",
   "metadata": {},
   "source": [
    "# Trajectory replay"
   ]
  },
  {
   "cell_type": "markdown",
   "metadata": {},
   "source": [
    "## Initial setup"
   ]
  },
  {
   "cell_type": "code",
   "execution_count": 38,
   "metadata": {
    "collapsed": true
   },
   "outputs": [],
   "source": [
    "import sys\n",
    "sys.path.insert(0, \"../python/\")\n",
    "from memory.ReplayMemory import ReplayMemory\n",
    "import numpy as np\n",
    "import random\n",
    "import copy"
   ]
  },
  {
   "cell_type": "markdown",
   "metadata": {},
   "source": [
    "## Numpy indexing"
   ]
  },
  {
   "cell_type": "markdown",
   "metadata": {},
   "source": [
    "### Batch slicing"
   ]
  },
  {
   "cell_type": "code",
   "execution_count": 19,
   "metadata": {},
   "outputs": [
    {
     "name": "stdout",
     "output_type": "stream",
     "text": [
      "idx: [58  8 24 44 72 70 19]\n",
      "Slices:\n",
      " [58 59 60 61 62  8  9 10 11 12 24 25 26 27 28 44 45 46 47 48 72 73 74 75 76\n",
      " 70 71 72 73 74 19 20 21 22 23]\n",
      "Corrected slices:\n",
      " [58 59 60 61 62  8  9 10 11 12 24 25 26 27 28 44 45 46 47 48 72 73 74 75 76\n",
      " 70 71 72 73 74 19 20 21 22 23]\n",
      "Original:\n",
      "s1[0].shape: (100, 12, 84, 84)\n",
      "s1[0][slices][0, ...]:\n",
      "[[ 0.53546728  0.34858874  0.99254931]\n",
      " [ 0.98171926  0.22050952  0.32387461]\n",
      " [ 0.50426754  0.38082718  0.53164911]]\n",
      "s1[0][slices][5, ...]:\n",
      "[[ 0.90396477  0.21205504  0.47445172]\n",
      " [ 0.63509333  0.78279289  0.96300232]\n",
      " [ 0.17780579  0.22307001  0.1404238 ]]\n",
      "Reshape:\n",
      "s1[0][slices].shape: (7, 5, 12, 84, 84)\n",
      "s1[0][slices][0][...]:\n",
      "[[ 0.53546728  0.34858874  0.99254931]\n",
      " [ 0.98171926  0.22050952  0.32387461]\n",
      " [ 0.50426754  0.38082718  0.53164911]]\n",
      "s1[0][slices][1][...]:\n",
      "[[ 0.90396477  0.21205504  0.47445172]\n",
      " [ 0.63509333  0.78279289  0.96300232]\n",
      " [ 0.17780579  0.22307001  0.1404238 ]]\n"
     ]
    }
   ],
   "source": [
    "idx = np.random.randint(0, 100, 7)\n",
    "print(\"idx:\", idx)\n",
    "\n",
    "x, y = np.meshgrid(idx, np.arange(5))\n",
    "slices = np.transpose(x + y).flatten()\n",
    "print(\"Slices:\\n\", slices)\n",
    "slices %= 100\n",
    "print(\"Corrected slices:\\n\", slices)\n",
    "\n",
    "s1_0 = np.random.rand(100, 12, 84, 84) # mimics memory with capacity 100\n",
    "s1_1 = np.random.rand(2)\n",
    "s1 = [s1_0, s1_1]\n",
    "print(\"Original:\")\n",
    "print(\"s1[0].shape:\", s1[0].shape)\n",
    "print(\"s1[0][slices][0, ...]:\")\n",
    "print(s1[0][slices][0, 0, :3, :3])\n",
    "print(\"s1[0][slices][5, ...]:\")\n",
    "print(s1[0][slices][5, 0, :3, :3])\n",
    "\n",
    "rs = np.reshape(s1[0][slices], [7, 5, 12, 84, 84]) # [num of traj, traj len, state_shape...]\n",
    "print(\"Reshape:\")\n",
    "print(\"s1[0][slices].shape:\", rs.shape)\n",
    "print(\"s1[0][slices][0][...]:\")\n",
    "print(rs[0, 0, 0, :3, :3])\n",
    "print(\"s1[0][slices][1][...]:\")\n",
    "print(rs[1, 0, 0, :3, :3])"
   ]
  },
  {
   "cell_type": "markdown",
   "metadata": {},
   "source": [
    "### Reverse order\n",
    "Applicable for class without reshaping"
   ]
  },
  {
   "cell_type": "code",
   "execution_count": 57,
   "metadata": {},
   "outputs": [
    {
     "name": "stdout",
     "output_type": "stream",
     "text": [
      "a:\n",
      "[ 0.08736947  0.26904687  0.18850901  0.15742123  0.14138586  0.10484942\n",
      "  0.29992704  0.22221412  0.57461042  0.80538772  0.00261921  0.22227756\n",
      "  0.20479822  0.9082098   0.57885134  0.35208548  0.84299166  0.9774215\n",
      "  0.64349928  0.30795383  0.56341805  0.89320403  0.51121639  0.31188183\n",
      "  0.72205378  0.2704125   0.41581256  0.55601417  0.59611474  0.86199004]\n",
      "a[[lists]]:\n",
      "[ 0.14138586  0.80538772  0.57885134  0.30795383  0.72205378  0.86199004]\n",
      "a[fancy indexing]:\n",
      "[ 0.14138586  0.80538772  0.57885134  0.30795383  0.72205378  0.86199004]\n",
      "Reverse order:\n",
      "[ 0.14138586  0.80538772  0.57885134  0.30795383  0.72205378  0.86199004]\n",
      "[ 0.15742123  0.57461042  0.9082098   0.64349928  0.31188183  0.59611474]\n",
      "[ 0.18850901  0.22221412  0.20479822  0.9774215   0.51121639  0.55601417]\n",
      "[ 0.26904687  0.29992704  0.22227756  0.84299166  0.89320403  0.41581256]\n",
      "[ 0.08736947  0.10484942  0.00261921  0.35208548  0.56341805  0.2704125 ]\n"
     ]
    }
   ],
   "source": [
    "a = np.random.rand(30)\n",
    "print(\"a:\")\n",
    "print(a)\n",
    "print(\"a[[lists]]:\")\n",
    "print(a[[4, 9, 14, 19, 24, 29]])\n",
    "print(\"a[fancy indexing]:\")\n",
    "print(a[4::5])\n",
    "print(\"Reverse order:\")\n",
    "for i in range(5)[::-1]: \n",
    "    print(a[i::5])"
   ]
  },
  {
   "cell_type": "markdown",
   "metadata": {},
   "source": [
    "### Copying weights"
   ]
  },
  {
   "cell_type": "code",
   "execution_count": 47,
   "metadata": {},
   "outputs": [
    {
     "name": "stdout",
     "output_type": "stream",
     "text": [
      "[0 0 0 0 0 1 1 1 1 1 2 2 2 2 2 3 3 3 3 3]\n"
     ]
    }
   ],
   "source": [
    "w = np.transpose(np.tile(np.arange(4), [5, 1])).flatten()\n",
    "print(w)"
   ]
  },
  {
   "cell_type": "code",
   "execution_count": 48,
   "metadata": {},
   "outputs": [
    {
     "name": "stdout",
     "output_type": "stream",
     "text": [
      "[0 1 2 3]\n"
     ]
    }
   ],
   "source": [
    "w = np.transpose(np.tile(np.arange(4), [1, 1])).flatten()\n",
    "print(w)"
   ]
  },
  {
   "cell_type": "markdown",
   "metadata": {},
   "source": [
    "### Linear growth/decay"
   ]
  },
  {
   "cell_type": "code",
   "execution_count": 1,
   "metadata": {
    "collapsed": true
   },
   "outputs": [],
   "source": [
    "import matplotlib.pyplot as plt\n",
    "%matplotlib inline"
   ]
  },
  {
   "cell_type": "code",
   "execution_count": 2,
   "metadata": {
    "collapsed": true
   },
   "outputs": [],
   "source": [
    "def update_trajectory_length(epoch, total_epochs):\n",
    "    frac_train = epoch / total_epochs\n",
    "    if frac_train < tr_len_const:\n",
    "        tr_len = tr_len_start\n",
    "    elif frac_train < tr_len_const + tr_len_decay:\n",
    "        tr_len = ((tr_len_stop - tr_len_start)\n",
    "                       * (frac_train - tr_len_const) // tr_len_decay\n",
    "                       + tr_len_start)\n",
    "    else:\n",
    "        tr_len = tr_len_stop\n",
    "    return tr_len\n",
    "\n",
    "tr_len_start = 1\n",
    "tr_len_stop = 20\n",
    "tr_len_const = 0.3\n",
    "tr_len_decay = 0.7\n",
    "e_total = 100\n",
    "\n",
    "stats = []\n",
    "for e in range(e_total):\n",
    "    stats.append(update_trajectory_length(e, e_total))"
   ]
  },
  {
   "cell_type": "code",
   "execution_count": 3,
   "metadata": {
    "collapsed": true
   },
   "outputs": [],
   "source": [
    "def update_trajectory_length(epoch, total_epochs):\n",
    "    frac_train = epoch / total_epochs\n",
    "    if frac_train < tr_len_const:\n",
    "        tr_len = tr_len_start\n",
    "    elif frac_train < tr_len_const + tr_len_decay:\n",
    "        tr_len = ((tr_len_stop - tr_len_start)\n",
    "                  * (frac_train - tr_len_const) \n",
    "                  / tr_len_decay\n",
    "                  + tr_len_start)\n",
    "    else:\n",
    "        tr_len = tr_len_stop\n",
    "    return tr_len\n",
    "\n",
    "tr_len_start = 1\n",
    "tr_len_stop = 20\n",
    "tr_len_const = 0.3\n",
    "tr_len_decay = 0.7\n",
    "e_total = 100\n",
    "\n",
    "stats_ = []\n",
    "for e in range(e_total):\n",
    "    stats_.append(update_trajectory_length(e, e_total))"
   ]
  },
  {
   "cell_type": "code",
   "execution_count": 4,
   "metadata": {
    "collapsed": true
   },
   "outputs": [],
   "source": [
    "def update_trajectory_length(epoch, total_epochs):\n",
    "    frac_train = epoch / total_epochs\n",
    "    if frac_train < tr_len_const:\n",
    "        tr_len = tr_len_start\n",
    "    elif frac_train < tr_len_const + tr_len_decay:\n",
    "        tr_len = ((tr_len_stop - tr_len_start)\n",
    "                  * (frac_train - tr_len_const) \n",
    "                  / tr_len_decay\n",
    "                  + tr_len_start)\n",
    "    else:\n",
    "        tr_len = tr_len_stop\n",
    "    return int(round(tr_len))\n",
    "\n",
    "tr_len_start = 1\n",
    "tr_len_stop = 20\n",
    "tr_len_const = 0.3\n",
    "tr_len_decay = 0.7\n",
    "e_total = 100\n",
    "\n",
    "test_stats = []\n",
    "for e in range(e_total):\n",
    "    test_stats.append(update_trajectory_length(e, e_total))"
   ]
  },
  {
   "cell_type": "code",
   "execution_count": 5,
   "metadata": {},
   "outputs": [
    {
     "data": {
      "image/png": "[encoded data removed]",
      "text/plain": [
       "<matplotlib.figure.Figure at 0x7fdda04169b0>"
      ]
     },
     "metadata": {},
     "output_type": "display_data"
    }
   ],
   "source": [
    "a = plt.plot(stats)\n",
    "b = plt.plot(stats_)\n",
    "c = plt.plot(test_stats)"
   ]
  },
  {
   "cell_type": "code",
   "execution_count": 7,
   "metadata": {},
   "outputs": [
    {
     "data": {
      "image/png": "[encoded data removed]",
      "text/plain": [
       "<matplotlib.figure.Figure at 0x7fdd82ffaef0>"
      ]
     },
     "metadata": {},
     "output_type": "display_data"
    }
   ],
   "source": [
    "def get_exploration_rate(epoch, epoch_tot):\n",
    "    epsilon_const_epochs = epsilon_const_rate * epoch_tot\n",
    "    epsilon_decay_epochs = epsilon_decay_rate * epoch_tot\n",
    "    if epoch < epsilon_const_epochs:\n",
    "        return epsilon_start\n",
    "    elif epoch < epsilon_const_epochs + epsilon_decay_epochs:\n",
    "        # Linear decay\n",
    "        return (epsilon_start\n",
    "                + (epsilon_start - epsilon_end) / epsilon_decay_epochs \n",
    "                * (epsilon_const_epochs - epoch))\n",
    "    else:\n",
    "        return epsilon_end\n",
    "\n",
    "epsilon_start = 1\n",
    "epsilon_end = 0.1\n",
    "epsilon_const_rate = 0.1\n",
    "epsilon_decay_rate = 0.6\n",
    "e_total = 100\n",
    "\n",
    "test_stats = []\n",
    "for e in range(e_total):\n",
    "    test_stats.append(get_exploration_rate(e, e_total))\n",
    "\n",
    "c = plt.plot(test_stats)"
   ]
  },
  {
   "cell_type": "markdown",
   "metadata": {},
   "source": [
    "## Class definition"
   ]
  },
  {
   "cell_type": "markdown",
   "metadata": {},
   "source": [
    "### Reshaping into [# of trajectories, trajectory length, ...]\n",
    "I like the way this is organized and that the Replay Memory class is doing some of the dirty work. However, this is incompatible with other forms of replay memory, in which the shape is [batch_size, ...]."
   ]
  },
  {
   "cell_type": "code",
   "execution_count": 61,
   "metadata": {
    "collapsed": true
   },
   "outputs": [],
   "source": [
    "class TrajectoryReplayMemory(ReplayMemory):\n",
    "    def __init__(self, capacity, state_shape, num_game_var, input_overlap=0, \n",
    "                 trajectory_length=5):\n",
    "        # Initialize base replay memory\n",
    "        ReplayMemory.__init__(self, capacity, state_shape, num_game_var, input_overlap)\n",
    "\n",
    "        # Initialize trajectory parameters\n",
    "        self.tr_len = trajectory_length\n",
    "        \n",
    "    def get_sample(self, sample_size):\n",
    "        # Get random minibatch of indices\n",
    "        idx = np.random.randint(0, self.size, sample_size)\n",
    "        x, y = np.meshgrid(idx, np.arange(self.tr_len))\n",
    "        idx = np.transpose(x + y).flatten() # [i, i+1, ..., i+n, j, j+1, ..., j+n, k...]\n",
    "        idx %= self.capacity # wrap end cases\n",
    "        t = self.tr_len\n",
    "        # TODO: find isterminal in sequences and cut short\n",
    "        \n",
    "        # s = [screen[trajectory id, trajectory step, state_shape...], gv[traj id, traj step, num_gv]]\n",
    "        \n",
    "        # Make list of states\n",
    "        s1_sample, s2_sample = [], []\n",
    "\n",
    "        # Get screen component\n",
    "        s1_slice = self.s1[0][idx]\n",
    "        if self.overlap > 0:\n",
    "            # Stack overlapping frames from s1 to stored frames of s2 to\n",
    "            # recreate full s2 state\n",
    "            s2_slice = np.concatenate((self.s1[0][[idx] + [slice(None)] * self.chdim \n",
    "                                             + [slice(None, self.overlap)]], \n",
    "                                             self.s2[0][idx]), \n",
    "                                            axis=self.chdim+1)\n",
    "        else:\n",
    "            s2_slice = self.s2[0][idx]\n",
    "        s1_sample.append(np.reshape(s1_slice, [sample_size, t] + self.state_shape))\n",
    "        s2_sample.append(np.reshape(s2_slice, [sample_size, t] + self.state_shape))\n",
    "\n",
    "        # Get game variable component\n",
    "        s1_sample.append(np.reshape(self.s1[1][idx], [sample_size, t] + [self.num_game_var]))\n",
    "        s2_sample.append(np.reshape(self.s2[1][idx], [sample_size, t] + [self.num_game_var]))\n",
    "\n",
    "        # Get other transition parameters\n",
    "        a_sample = np.reshape(self.a[idx], [sample_size, t])\n",
    "        isterminal_sample = np.reshape(self.isterminal[idx], [sample_size, t])\n",
    "        r_sample = np.reshape(self.r[idx], [sample_size, t])\n",
    "\n",
    "        # Return importance sampling weights of one (stochastic distribution)\n",
    "        w = np.ones([sample_size, t])\n",
    "\n",
    "        return s1_sample, a_sample, s2_sample, isterminal_sample, r_sample, w, idx"
   ]
  },
  {
   "cell_type": "code",
   "execution_count": 62,
   "metadata": {
    "collapsed": true
   },
   "outputs": [],
   "source": [
    "capacity = 100\n",
    "state_shape = [12, 84, 84]\n",
    "num_game_var = 2\n",
    "input_overlap = 3\n",
    "trajectory_length = 10\n",
    "memory = TrajectoryReplayMemory(capacity=capacity,\n",
    "                                state_shape=state_shape,\n",
    "                                num_game_var=num_game_var,\n",
    "                                input_overlap=input_overlap,\n",
    "                                trajectory_length=trajectory_length)\n",
    "terminal_states = random.sample(range(capacity), 7)\n",
    "s1, s2 = [], []\n",
    "s2.append(np.random.rand(state_shape[0], state_shape[1], state_shape[2]))\n",
    "s2.append([random.random()] * num_game_var)\n",
    "for i in range(capacity):\n",
    "    s1 = [s2[0], s2[1]]\n",
    "    s2[0] = np.delete(s2[0], np.s_[0:input_overlap], axis=0)\n",
    "    s2[0] = np.append(s2[0], np.random.rand(input_overlap, state_shape[1], state_shape[2]), axis=0)\n",
    "    s2[1] = [random.random()] * num_game_var\n",
    "    a = random.sample(range(4), 1)[0]\n",
    "    r = random.random()\n",
    "    isterminal = i in terminal_states\n",
    "    memory.add_transition(s1, a, s2, isterminal, r)  "
   ]
  },
  {
   "cell_type": "code",
   "execution_count": 63,
   "metadata": {},
   "outputs": [
    {
     "name": "stdout",
     "output_type": "stream",
     "text": [
      "idx: [ 1  2  3  4  5  6  7  8  9 10 64 65 66 67 68 69 70 71 72 73 95 96 97 98 99\n",
      "  0  1  2  3  4 77 78 79 80 81 82 83 84 85 86 26 27 28 29 30 31 32 33 34 35\n",
      " 87 88 89 90 91 92 93 94 95 96  4  5  6  7  8  9 10 11 12 13]\n",
      "s1[0].shape: (7, 10, 12, 84, 84)\n",
      "s1[1].shape: (7, 10, 2)\n",
      "a.shape: (7, 10)\n",
      "s2[0].shape: (7, 10, 12, 84, 84)\n",
      "s2[1].shape: (7, 10, 2)\n",
      "isterminal.shape: (7, 10)\n",
      "r.shape: (7, 10)\n",
      "w.shape: (7, 10)\n"
     ]
    }
   ],
   "source": [
    "s1, a, s2, isterminal, r, w, idx = memory.get_sample(7)\n",
    "print(\"idx:\", idx)\n",
    "print(\"s1[0].shape:\", s1[0].shape)\n",
    "print(\"s1[1].shape:\", s1[1].shape)\n",
    "print(\"a.shape:\", a.shape)\n",
    "print(\"s2[0].shape:\", s2[0].shape)\n",
    "print(\"s2[1].shape:\", s2[1].shape)\n",
    "print(\"isterminal.shape:\", isterminal.shape)\n",
    "print(\"r.shape:\", r.shape)\n",
    "print(\"w.shape:\", w.shape)"
   ]
  },
  {
   "cell_type": "markdown",
   "metadata": {},
   "source": [
    "### No reshaping, [batch_size, ...]\n",
    "This returns experiences in the form [batch_size, ...], where batch_size = (# of trajectories, i.e. sample_size) * (trajectory length). This form is compatible with current Replay Memory classes."
   ]
  },
  {
   "cell_type": "code",
   "execution_count": 14,
   "metadata": {
    "collapsed": true
   },
   "outputs": [],
   "source": [
    "class TrajectoryReplayMemory(ReplayMemory):\n",
    "    def __init__(self, capacity, state_shape, num_game_var, input_overlap=0, \n",
    "                 trajectory_length=5):\n",
    "        # Initialize base replay memory\n",
    "        ReplayMemory.__init__(self, capacity, state_shape, num_game_var, input_overlap)\n",
    "\n",
    "        # Initialize trajectory parameters\n",
    "        self.tr_len = trajectory_length\n",
    "        \n",
    "    def get_sample(self, sample_size):\n",
    "        # Get random minibatch of indices\n",
    "        idx = np.random.randint(0, self.size, sample_size)\n",
    "        x, y = np.meshgrid(idx, np.arange(self.tr_len))\n",
    "        idx = np.transpose(x + y).flatten() # [i, i+1, ..., i+n, j, j+1, ..., j+n, k...]\n",
    "        idx %= self.capacity # wrap end cases\n",
    "        t = self.tr_len\n",
    "        # TODO: find isterminal in sequences and cut short\n",
    "          \n",
    "        # Make list of states\n",
    "        s1_sample, s2_sample = [], []\n",
    "\n",
    "        # Get screen component\n",
    "        s1_slice = self.s1[0][idx]\n",
    "        if self.overlap > 0:\n",
    "            # Stack overlapping frames from s1 to stored frames of s2 to\n",
    "            # recreate full s2 state\n",
    "            s2_slice = np.concatenate((self.s1[0][[idx] + [slice(None)] * self.chdim \n",
    "                                             + [slice(None, self.overlap)]], \n",
    "                                             self.s2[0][idx]), \n",
    "                                            axis=self.chdim+1)\n",
    "        else:\n",
    "            s2_slice = self.s2[0][idx]\n",
    "        s1_sample.append(s1_slice)\n",
    "        s2_sample.append(s2_slice)\n",
    "\n",
    "        # Get game variable component\n",
    "        s1_sample.append(self.s1[1][idx])\n",
    "        s2_sample.append(self.s2[1][idx])\n",
    "\n",
    "        # Get other transition parameters\n",
    "        a_sample = self.a[idx]\n",
    "        isterminal_sample = self.isterminal[idx]\n",
    "        r_sample = self.r[idx]\n",
    "\n",
    "        # Return importance sampling weights of one (stochastic distribution)\n",
    "        w = np.ones([sample_size * t])\n",
    "\n",
    "        return s1_sample, a_sample, s2_sample, isterminal_sample, r_sample, w, idx"
   ]
  },
  {
   "cell_type": "code",
   "execution_count": 15,
   "metadata": {
    "collapsed": true
   },
   "outputs": [],
   "source": [
    "capacity = 100\n",
    "state_shape = [12, 84, 84]\n",
    "num_game_var = 2\n",
    "input_overlap = 3\n",
    "trajectory_length = 10\n",
    "memory = TrajectoryReplayMemory(capacity=capacity,\n",
    "                                state_shape=state_shape,\n",
    "                                num_game_var=num_game_var,\n",
    "                                input_overlap=input_overlap,\n",
    "                                trajectory_length=trajectory_length)\n",
    "terminal_states = random.sample(range(capacity), 7)\n",
    "s1, s2 = [], []\n",
    "s2.append(np.random.rand(state_shape[0], state_shape[1], state_shape[2]))\n",
    "s2.append([random.random()] * num_game_var)\n",
    "for i in range(capacity):\n",
    "    s1 = [s2[0], s2[1]]\n",
    "    s2[0] = np.delete(s2[0], np.s_[0:input_overlap], axis=0)\n",
    "    s2[0] = np.append(s2[0], np.random.rand(input_overlap, state_shape[1], state_shape[2]), axis=0)\n",
    "    s2[1] = [random.random()] * num_game_var\n",
    "    a = random.sample(range(4), 1)[0]\n",
    "    r = random.random()\n",
    "    isterminal = i in terminal_states\n",
    "    memory.add_transition(s1, a, s2, isterminal, r)  "
   ]
  },
  {
   "cell_type": "code",
   "execution_count": 16,
   "metadata": {},
   "outputs": [
    {
     "name": "stdout",
     "output_type": "stream",
     "text": [
      "idx: [46 47 48 49 50 51 52 53 54 55 78 79 80 81 82 83 84 85 86 87 42 43 44 45 46\n",
      " 47 48 49 50 51 77 78 79 80 81 82 83 84 85 86 84 85 86 87 88 89 90 91 92 93\n",
      " 90 91 92 93 94 95 96 97 98 99 24 25 26 27 28 29 30 31 32 33]\n",
      "s1[0].shape: (70, 12, 84, 84)\n",
      "s1[1].shape: (70, 2)\n",
      "a.shape: (70,)\n",
      "s2[0].shape: (70, 12, 84, 84)\n",
      "s2[1].shape: (70, 2)\n",
      "isterminal.shape: (70,)\n",
      "r.shape: (70,)\n",
      "w.shape: (70,)\n"
     ]
    }
   ],
   "source": [
    "s1, a, s2, isterminal, r, w, idx = memory.get_sample(7)\n",
    "print(\"idx:\", idx)\n",
    "print(\"s1[0].shape:\", s1[0].shape)\n",
    "print(\"s1[1].shape:\", s1[1].shape)\n",
    "print(\"a.shape:\", a.shape)\n",
    "print(\"s2[0].shape:\", s2[0].shape)\n",
    "print(\"s2[1].shape:\", s2[1].shape)\n",
    "print(\"isterminal.shape:\", isterminal.shape)\n",
    "print(\"r.shape:\", r.shape)\n",
    "print(\"w.shape:\", w.shape)"
   ]
  },
  {
   "cell_type": "code",
   "execution_count": 24,
   "metadata": {},
   "outputs": [
    {
     "name": "stdout",
     "output_type": "stream",
     "text": [
      "2 (7, 12, 84, 84) (7, 2)\n"
     ]
    }
   ],
   "source": [
    "sample = [s1[0][6::10], s1[1][6::10]]\n",
    "print(len(sample), sample[0].shape, sample[1].shape)"
   ]
  },
  {
   "cell_type": "markdown",
   "metadata": {},
   "source": [
    "## Agent testing"
   ]
  },
  {
   "cell_type": "code",
   "execution_count": 39,
   "metadata": {
    "collapsed": true
   },
   "outputs": [],
   "source": [
    "# If using one or multiple GPUs\n",
    "import os\n",
    "os.environ[\"CUDA_VISIBLE_DEVICES\"]=\"\""
   ]
  },
  {
   "cell_type": "code",
   "execution_count": 40,
   "metadata": {},
   "outputs": [],
   "source": [
    "from helper import create_agent\n",
    "import tensorflow as tf\n",
    "from vizdoom import *\n",
    "%load_ext autoreload\n",
    "%autoreload 2"
   ]
  },
  {
   "cell_type": "code",
   "execution_count": 41,
   "metadata": {
    "collapsed": true
   },
   "outputs": [],
   "source": [
    "# Initializes DoomGame from config file\n",
    "def initialize_vizdoom(config_file):\n",
    "    print(\"Initializing doom... \", end=\"\"), sys.stdout.flush()\n",
    "    game = DoomGame()\n",
    "    game.load_config(config_file)\n",
    "    game.set_window_visible(True)\n",
    "    game.init()\n",
    "    print(\"Done.\")\n",
    "    return game"
   ]
  },
  {
   "cell_type": "markdown",
   "metadata": {},
   "source": [
    "### Standard experience replay"
   ]
  },
  {
   "cell_type": "code",
   "execution_count": 55,
   "metadata": {
    "scrolled": true
   },
   "outputs": [
    {
     "name": "stdout",
     "output_type": "stream",
     "text": [
      "Initializing doom... Done.\n",
      "\n",
      "Mapping of agent states --> network states:\n",
      "screen --> Tensor(\"main_network/screen:0\", shape=(?, 84, 84, 3), dtype=float32)\n",
      "[GameVariable.HEALTH] --> Tensor(\"main_network/health:0\", shape=(?, 1), dtype=float32)\n",
      "[GameVariable.VELOCITY_X, GameVariable.VELOCITY_Y] --> Tensor(\"main_network/velocity:0\", shape=(?, 2), dtype=float32)\n",
      "Done.\n"
     ]
    }
   ],
   "source": [
    "tf.reset_default_graph()\n",
    "agent_file_path = \"./trajectory_experience_replay/standard.json\"\n",
    "config_file_path = \"../config/open_field.cfg\"\n",
    "results_dir = \"./trajectory_experience_replay/results\"\n",
    "\n",
    "game = initialize_vizdoom(config_file_path)\n",
    "agent = create_agent(agent_file_path,\n",
    "                     game=game, \n",
    "                     params_file=None,\n",
    "                     action_set=None,\n",
    "                     output_directory=results_dir,\n",
    "                     train_mode=True)\n",
    "\n",
    "agent.initialize_new_episode()\n",
    "for i in range(500): # memory capacity set to 100\n",
    "    agent.perform_learning_step(1, 100)\n",
    "    if game.is_episode_finished():\n",
    "        agent.initialize_new_episode()\n",
    "game.close()\n",
    "print(\"Done.\")"
   ]
  },
  {
   "cell_type": "markdown",
   "metadata": {},
   "source": [
    "### Prioritized experience replay"
   ]
  },
  {
   "cell_type": "code",
   "execution_count": 61,
   "metadata": {},
   "outputs": [
    {
     "name": "stdout",
     "output_type": "stream",
     "text": [
      "Initializing doom... Done.\n",
      "\n",
      "Mapping of agent states --> network states:\n",
      "screen --> Tensor(\"main_network/screen:0\", shape=(?, 84, 84, 3), dtype=float32)\n",
      "[GameVariable.HEALTH] --> Tensor(\"main_network/health:0\", shape=(?, 1), dtype=float32)\n",
      "[GameVariable.VELOCITY_X, GameVariable.VELOCITY_Y] --> Tensor(\"main_network/velocity:0\", shape=(?, 2), dtype=float32)\n",
      "Done.\n"
     ]
    }
   ],
   "source": [
    "tf.reset_default_graph()\n",
    "agent_file_path = \"./trajectory_experience_replay/prioritized.json\"\n",
    "config_file_path = \"../config/open_field.cfg\"\n",
    "results_dir = \"./trajectory_experience_replay/results\"\n",
    "\n",
    "game = initialize_vizdoom(config_file_path)\n",
    "agent = create_agent(agent_file_path,\n",
    "                     game=game, \n",
    "                     params_file=None,\n",
    "                     action_set=None,\n",
    "                     output_directory=results_dir,\n",
    "                     train_mode=True)\n",
    "\n",
    "agent.initialize_new_episode()\n",
    "for i in range(250): # memory capacity set to 100\n",
    "    agent.perform_learning_step(1, 100)\n",
    "    if game.is_episode_finished():\n",
    "        agent.initialize_new_episode()\n",
    "game.close()\n",
    "print(\"Done.\")"
   ]
  },
  {
   "cell_type": "code",
   "execution_count": 64,
   "metadata": {},
   "outputs": [
    {
     "name": "stdout",
     "output_type": "stream",
     "text": [
      "Sampling...Done.\n",
      "Calculating probs...Done.\n",
      "Plotting...\n"
     ]
    },
    {
     "data": {
      "image/png": "[encoded data removed]",
      "text/plain": [
       "<matplotlib.figure.Figure at 0x7f60275ccd30>"
      ]
     },
     "metadata": {},
     "output_type": "display_data"
    }
   ],
   "source": [
    "import random\n",
    "import matplotlib.pyplot as plt\n",
    "\n",
    "# Get samples\n",
    "tr_len = agent.memory.tr_len\n",
    "batch_size = 5\n",
    "num_batches = 10000\n",
    "t = []\n",
    "print(\"Sampling...\", end=\"\"), sys.stdout.flush()\n",
    "for i in range(num_batches):\n",
    "    s1, a, s2, isterminal, r, w, t_i = agent.memory.get_sample(batch_size)\n",
    "    t.append(t_i[tr_len-1::tr_len])\n",
    "print(\"Done.\"), sys.stdout.flush()\n",
    "\n",
    "t = np.asarray(t)\n",
    "\n",
    "# Count how many times each\n",
    "heap = agent.memory.heap\n",
    "start_pos = agent.memory.start_pos\n",
    "capacity = agent.memory.capacity\n",
    "sample_size = 100\n",
    "p_tot = heap[1]\n",
    "calc_prob = np.zeros(sample_size)\n",
    "actual_prob = np.zeros(sample_size)\n",
    "print(\"Calculating probs...\", end=\"\"), sys.stdout.flush()\n",
    "for j, i in enumerate(range(capacity)):\n",
    "    p = heap[start_pos + i]\n",
    "    calc_prob[j] = p / p_tot\n",
    "    actual_prob[j] = np.sum(np.count_nonzero(t == i)) / t.size\n",
    "    #print(\"Transition %d: calculated prob=%.3f, actual prob=%.3f\" % (i, calc_prob, actual_prob))\n",
    "print(\"Done.\"), sys.stdout.flush()\n",
    "\n",
    "print(\"Plotting...\"), sys.stdout.flush()\n",
    "fig, ax = plt.subplots()\n",
    "idx = np.arange(sample_size)\n",
    "width = 0.3\n",
    "ax.bar(idx, calc_prob, width, color=\"orange\")\n",
    "ax.bar(idx + width, actual_prob, width, color=\"black\")\n",
    "fig.set_size_inches(16, 9)\n",
    "plt.show()"
   ]
  },
  {
   "cell_type": "markdown",
   "metadata": {},
   "source": [
    "### Backwards update function"
   ]
  },
  {
   "cell_type": "code",
   "execution_count": 42,
   "metadata": {},
   "outputs": [
    {
     "name": "stdout",
     "output_type": "stream",
     "text": [
      "Initializing doom... Done.\n",
      "Mapping of agent states --> network states:\n",
      "screen --> Tensor(\"main_network/screen:0\", shape=(?, 84, 84, 3), dtype=float32)\n"
     ]
    },
    {
     "name": "stderr",
     "output_type": "stream",
     "text": [
      "../python/agent/Agent.py:170: UserWarning: The following game variables were not used: \n",
      "  warnings.warn(msg)\n"
     ]
    },
    {
     "name": "stdout",
     "output_type": "stream",
     "text": [
      "Done.\n"
     ]
    }
   ],
   "source": [
    "tf.reset_default_graph()\n",
    "agent_file_path = \"./trajectory_experience_replay/standard.json\"\n",
    "config_file_path = \"../config/open_field.cfg\"\n",
    "results_dir = \"./trajectory_experience_replay/results\"\n",
    "\n",
    "game = initialize_vizdoom(config_file_path)\n",
    "agent = create_agent(agent_file_path,\n",
    "                     game=game, \n",
    "                     params_file=None,\n",
    "                     action_set=None,\n",
    "                     output_directory=results_dir,\n",
    "                     train_mode=True)\n",
    "\n",
    "agent.initialize_new_episode()\n",
    "for i in range(500): # memory capacity set to 100\n",
    "    agent.perform_learning_step(1, 100)\n",
    "    if game.is_episode_finished():\n",
    "        agent.initialize_new_episode()\n",
    "game.close()\n",
    "print(\"Done.\")"
   ]
  },
  {
   "cell_type": "code",
   "execution_count": 43,
   "metadata": {},
   "outputs": [
    {
     "name": "stdout",
     "output_type": "stream",
     "text": [
      "[65  0 82  2 29 30 52 21  0 15]\n",
      "[65 64 63 62 61 60 59 58 57 56  0 -1 -2 -3 -4 -5 -6 -7 -8 -9 82 81 80 79 78\n",
      " 77 76 75 74 73  2  1  0 -1 -2 -3 -4 -5 -6 -7 29 28 27 26 25 24 23 22 21 20\n",
      " 30 29 28 27 26 25 24 23 22 21 52 51 50 49 48 47 46 45 44 43 21 20 19 18 17\n",
      " 16 15 14 13 12  0 -1 -2 -3 -4 -5 -6 -7 -8 -9 15 14 13 12 11 10  9  8  7  6]\n"
     ]
    }
   ],
   "source": [
    "idx = np.random.randint(0, agent.memory.size, 10)\n",
    "print(idx)\n",
    "idx = agent.memory._get_valid_idx_trajectories(idx, \n",
    "                                               idx_start=None, \n",
    "                                               idx_end=None)\n",
    "print(idx)"
   ]
  },
  {
   "cell_type": "markdown",
   "metadata": {},
   "source": [
    "**3/13/18**: My fears confirmed. I had been assuming the order, which defaults to backwards update, was still chronological `([i-n, ..., i, j-n, ..., j, ...])`. However, it is in reverse order `([i, .., i-n, j, ..., j-n, ...])`, which matters both for backward trajectory updates in DQN and especially for temporal updates in DRQN.\n",
    "\n",
    "Let's modify this line\n",
    "```python\n",
    "idx = np.transpose(x - y).flatten()\n",
    "```\n",
    "\n",
    "to be:\n",
    "```python\n",
    "idx = np.transpose(x + y).flatten()\n",
    "idx -= (self.tr_len - 1) * self.n_step\n",
    "```"
   ]
  },
  {
   "cell_type": "code",
   "execution_count": 52,
   "metadata": {},
   "outputs": [
    {
     "name": "stdout",
     "output_type": "stream",
     "text": [
      "Initializing doom... Done.\n",
      "Mapping of agent states --> network states:\n",
      "screen --> Tensor(\"main_network/screen:0\", shape=(?, 84, 84, 3), dtype=float32)\n"
     ]
    },
    {
     "name": "stderr",
     "output_type": "stream",
     "text": [
      "../python/agent/Agent.py:170: UserWarning: The following game variables were not used: \n",
      "  warnings.warn(msg)\n"
     ]
    },
    {
     "name": "stdout",
     "output_type": "stream",
     "text": [
      "Done.\n"
     ]
    }
   ],
   "source": [
    "tf.reset_default_graph()\n",
    "agent_file_path = \"./trajectory_experience_replay/standard.json\"\n",
    "config_file_path = \"../config/open_field.cfg\"\n",
    "results_dir = \"./trajectory_experience_replay/results\"\n",
    "\n",
    "game = initialize_vizdoom(config_file_path)\n",
    "agent = create_agent(agent_file_path,\n",
    "                     game=game, \n",
    "                     params_file=None,\n",
    "                     action_set=None,\n",
    "                     output_directory=results_dir,\n",
    "                     train_mode=True)\n",
    "\n",
    "agent.initialize_new_episode()\n",
    "for i in range(500): # memory capacity set to 100\n",
    "    agent.perform_learning_step(1, 100)\n",
    "    if game.is_episode_finished():\n",
    "        agent.initialize_new_episode()\n",
    "game.close()\n",
    "print(\"Done.\")"
   ]
  },
  {
   "cell_type": "code",
   "execution_count": 53,
   "metadata": {},
   "outputs": [
    {
     "name": "stdout",
     "output_type": "stream",
     "text": [
      "[39 11 55 56 79 37 27 31 28  3]\n",
      "[30 31 32 33 34 35 36 37 38 39  2  3  4  5  6  7  8  9 10 11 46 47 48 49 50\n",
      " 51 52 53 54 55 47 48 49 50 51 52 53 54 55 56 70 71 72 73 74 75 76 77 78 79\n",
      " 28 29 30 31 32 33 34 35 36 37 18 19 20 21 22 23 24 25 26 27 22 23 24 25 26\n",
      " 27 28 29 30 31 19 20 21 22 23 24 25 26 27 28 -6 -5 -4 -3 -2 -1  0  1  2  3]\n"
     ]
    }
   ],
   "source": [
    "idx = np.random.randint(0, agent.memory.size, 10)\n",
    "print(idx)\n",
    "idx = agent.memory._get_valid_idx_trajectories(idx, \n",
    "                                               idx_start=None, \n",
    "                                               idx_end=None)\n",
    "print(idx)"
   ]
  },
  {
   "cell_type": "markdown",
   "metadata": {},
   "source": [
    "Now the trajectories are ordered correctly."
   ]
  },
  {
   "cell_type": "markdown",
   "metadata": {
    "collapsed": true
   },
   "source": [
    "## Constraining trajectories within episodes"
   ]
  },
  {
   "cell_type": "code",
   "execution_count": 2,
   "metadata": {
    "collapsed": true
   },
   "outputs": [],
   "source": [
    "import numpy as np"
   ]
  },
  {
   "cell_type": "code",
   "execution_count": 104,
   "metadata": {},
   "outputs": [
    {
     "name": "stdout",
     "output_type": "stream",
     "text": [
      "[ 0.  0.  0.  0.  0.  0.  0.  0.  0.  0.  0.  0.  0.  1.  1.  0.  0.  0.\n",
      "  0.  0.  1.  0.  0.  0.  0.  0.  0.  0.  1.  0.  0.  0.  0.  0.  0.  0.\n",
      "  0.  0.  0.  0.  0.  0.  0.  0.  0.  0.  0.  0.  1.  0.]\n"
     ]
    }
   ],
   "source": [
    "size = 50\n",
    "sample_size = 6\n",
    "tr_len = 4\n",
    "n_step = 3\n",
    "is_terminal = np.zeros(size)\n",
    "is_terminal[np.random.randint(0, size, 5)] = 1\n",
    "print(is_terminal)"
   ]
  },
  {
   "cell_type": "code",
   "execution_count": 105,
   "metadata": {},
   "outputs": [
    {
     "name": "stdout",
     "output_type": "stream",
     "text": [
      "[-7 -4 -1  2  6  9 12 15  8 11 14 17 -1  2  5  8 -5 -2  1  4 27 30 33 36]\n",
      "[0 0 0 0 0 0 0 0 0 0 1 0 0 0 0 0 0 0 0 0 0 0 0 0]\n",
      "[0 0 0 0 0 0 0 0 0 0 1 0 0 0 0 0 0 1 0 0 0 0 0 0]\n"
     ]
    }
   ],
   "source": [
    "# Get random minibatch of indices\n",
    "idx = np.random.randint(0, size, sample_size)\n",
    "\n",
    "# Create trajectories\n",
    "x, y = np.meshgrid(idx, np.arange(tr_len) * n_step) # non-overlapping n-step sequences\n",
    "idx = np.transpose(x + y).flatten() # [i-n, i-n+1, ..., i, j-n, j-n+1, ..., j, ...]\n",
    "idx -= (tr_len - 1) * n_step\n",
    "\n",
    "# Constrain to within episodes\n",
    "print(idx)\n",
    "idx_terminal = np.sum((idx == np.argwhere(is_terminal)), axis=0) # forward indexing i\n",
    "print(idx_terminal)\n",
    "idx_terminal += np.sum(idx == (np.argwhere(is_terminal) - size), axis=0) # reverse indexing -(size-i)\n",
    "print(idx_terminal)"
   ]
  },
  {
   "cell_type": "code",
   "execution_count": 110,
   "metadata": {},
   "outputs": [
    {
     "name": "stdout",
     "output_type": "stream",
     "text": [
      "[[13 14 20 28 48]\n",
      " [13 14 20 28 48]\n",
      " [13 14 20 28 48]\n",
      " [13 14 20 28 48]\n",
      " [13 14 20 28 48]\n",
      " [13 14 20 28 48]\n",
      " [13 14 20 28 48]\n",
      " [13 14 20 28 48]\n",
      " [13 14 20 28 48]]\n",
      "[[1 1 1 1 1]\n",
      " [2 2 2 2 2]\n",
      " [3 3 3 3 3]\n",
      " [4 4 4 4 4]\n",
      " [5 5 5 5 5]\n",
      " [6 6 6 6 6]\n",
      " [7 7 7 7 7]\n",
      " [8 8 8 8 8]\n",
      " [9 9 9 9 9]]\n",
      "[14 15 16 17 18 19 20 21 22 23 24 25 26 27 28 29 30 31 32 33 34 35 36 37 49\n",
      " 50 51 52 53 54 55 56 57]\n",
      "[14 15 16 17 18 19 20 21 22 23 24 25 26 27 28 29 30 31 32 33 34 35 36 37 49\n",
      "  0  1  2  3  4  5  6  7]\n",
      "[ 0.  0.  0.  0.  0.  0.  0.  0.  1.  1.  1.  1.  1.  1.  0.  0.  0.  0.\n",
      "  0.  0.  0.  0.  0.  0.  0.  0.  0.  0.  0.  0.  0.  0.  0.  0.  0.  0.\n",
      "  0.  0.  1.  1.  1.  1.  1.  1.  1.  1.  1.  1.  1.  0.]\n",
      "[ 8  9 10 11 12 13 38 39 40 41 42 43 44 45 46 47 48]\n"
     ]
    }
   ],
   "source": [
    "a, b = np.meshgrid(np.argwhere(is_terminal), np.arange((tr_len - 1) * n_step) + 1)\n",
    "print(a)\n",
    "print(b)\n",
    "invalid_end_idx = np.unique(np.transpose(a+b).flatten())\n",
    "print(invalid_end_idx)\n",
    "invalid_end_idx %= size\n",
    "print(invalid_end_idx)\n",
    "valid_end_idx = np.ones(size)\n",
    "valid_end_idx[invalid_end_idx] = 0\n",
    "print(valid_end_idx)\n",
    "valid_end_idx = np.argwhere(valid_end_idx)\n",
    "print(valid_end_idx.flatten())"
   ]
  },
  {
   "cell_type": "code",
   "execution_count": 111,
   "metadata": {},
   "outputs": [
    {
     "name": "stdout",
     "output_type": "stream",
     "text": [
      "[[13 14 20 28 48]\n",
      " [13 14 20 28 48]\n",
      " [13 14 20 28 48]\n",
      " [13 14 20 28 48]\n",
      " [13 14 20 28 48]\n",
      " [13 14 20 28 48]\n",
      " [13 14 20 28 48]\n",
      " [13 14 20 28 48]\n",
      " [13 14 20 28 48]]\n",
      "[[1 1 1 1 1]\n",
      " [2 2 2 2 2]\n",
      " [3 3 3 3 3]\n",
      " [4 4 4 4 4]\n",
      " [5 5 5 5 5]\n",
      " [6 6 6 6 6]\n",
      " [7 7 7 7 7]\n",
      " [8 8 8 8 8]\n",
      " [9 9 9 9 9]]\n",
      "[ 5  6  7  8  9 10 11 12 13 14 15 16 17 18 19 20 21 22 23 24 25 26 27 28 40\n",
      " 41 42 43 44 45 46 47 48]\n",
      "[ 5  6  7  8  9 10 11 12 13 14 15 16 17 18 19 20 21 22 23 24 25 26 27 28 40\n",
      " 41 42 43 44 45 46 47 48]\n",
      "[ 1.  1.  1.  1.  1.  0.  0.  0.  0.  0.  0.  0.  0.  0.  0.  0.  0.  0.\n",
      "  0.  0.  0.  0.  0.  0.  0.  0.  0.  0.  0.  1.  1.  1.  1.  1.  1.  1.\n",
      "  1.  1.  1.  1.  0.  0.  0.  0.  0.  0.  0.  0.  0.  1.]\n",
      "[ 0  1  2  3  4 29 30 31 32 33 34 35 36 37 38 39 49]\n"
     ]
    }
   ],
   "source": [
    "a, b = np.meshgrid(np.argwhere(is_terminal), np.arange((tr_len - 1) * n_step) + 1)\n",
    "print(a)\n",
    "print(b)\n",
    "invalid_end_idx = np.unique(np.transpose(a+b).flatten())\n",
    "invalid_end_idx -= (tr_len - 1) * n_step\n",
    "print(invalid_end_idx)\n",
    "invalid_end_idx %= size\n",
    "print(invalid_end_idx)\n",
    "valid_end_idx = np.ones(size)\n",
    "valid_end_idx[invalid_end_idx] = 0\n",
    "print(valid_end_idx)\n",
    "valid_end_idx = np.argwhere(valid_end_idx)\n",
    "print(valid_end_idx.flatten())"
   ]
  },
  {
   "cell_type": "code",
   "execution_count": 126,
   "metadata": {
    "collapsed": true
   },
   "outputs": [],
   "source": [
    "def _get_valid_idx(idx, valid_idx, side='right'):\n",
    "        # Check intent since 'right' assumed below\n",
    "        if side not in ['left', 'right']:\n",
    "            raise ValueError(\"Undefined value \\\"\" + side + \"\\\" for arg 'side'.\")\n",
    "        \n",
    "        # Round to nearest right-sided valid idx doing left-sided search\n",
    "        valid_idx = np.sort(valid_idx) # sort if not already sorted\n",
    "        new_idx_ = np.searchsorted(valid_idx, idx, side='left') # right-sided round\n",
    "        new_idx_ %= len(valid_idx) # wrap end case\n",
    "        \n",
    "        # Round to nearest left-sided valid idx if specified\n",
    "        if side == 'left':\n",
    "            new_idx = valid_idx[new_idx_]\n",
    "            new_idx_ = new_idx_ - (new_idx != idx) # left shift if not equal\n",
    "        \n",
    "        return valid_idx[new_idx_]\n",
    "\n",
    "def _get_valid_idx_trajectories(idx, idx_start=None, idx_end=None):\n",
    "        # Get trajectories constrained within episodes (do not cross terminal states)\n",
    "        a, b = np.meshgrid(np.argwhere(is_terminal), np.arange((tr_len - 1) * n_step) + 1)\n",
    "        invalid_idx = np.unique(np.transpose(a+b).flatten())\n",
    "        invalid_idx %= size\n",
    "        if idx_start is not None:\n",
    "            invalid_idx -= (tr_len - 1) * n_step\n",
    "        valid_idx = np.ones(size)\n",
    "        valid_idx[invalid_idx] = 0\n",
    "        valid_idx = np.argwhere(valid_idx).flatten()\n",
    "\n",
    "        # If shifted to valid start values, move forward in trajectory\n",
    "        if idx_start is not None:\n",
    "            idx_start = np.unique(np.concatenate(idx_start, valid_idx))\n",
    "            idx = _get_valid_idx(idx, idx_start, side='left')\n",
    "            x, y = np.meshgrid(idx, np.arange(tr_len) * n_step) # non-overlapping n-step sequences\n",
    "            idx = np.transpose(x + y).flatten() # [i, i+1, ..., i+n, j, j+1, ..., j+n, k...]\n",
    "            idx %= size # wrap end cases\n",
    "        \n",
    "        # Otherwise, move backward in trajectory\n",
    "        else:\n",
    "            if idx_end is not None:\n",
    "                idx_end = np.unique(np.concatenate(idx_end, valid_idx))\n",
    "            else:\n",
    "                idx_end = valid_idx\n",
    "            idx = _get_valid_idx(idx, idx_end, side='right')\n",
    "            x, y = np.meshgrid(idx, np.arange(tr_len) * n_step) # non-overlapping n-step sequences\n",
    "            idx = np.transpose(x + y).flatten() # [i, i+1, ..., i+n, j, j+1, ..., j+n, k...]\n",
    "            idx -= (tr_len - 1) * n_step # [i-n, i-n+1, ..., i, j-n, j-n+1, ..., j, ...]\n",
    "        \n",
    "        return idx"
   ]
  },
  {
   "cell_type": "code",
   "execution_count": 128,
   "metadata": {
    "scrolled": true
   },
   "outputs": [
    {
     "name": "stdout",
     "output_type": "stream",
     "text": [
      "[ 1  4 35 10 14 33]\n",
      "[ 0.  0.  0.  0.  0.  0.  0.  0.  0.  0.  0.  0.  0.  1.  1.  0.  0.  0.\n",
      "  0.  0.  1.  0.  0.  0.  0.  0.  0.  0.  1.  0.  0.  0.  0.  0.  0.  0.\n",
      "  0.  0.  0.  0.  0.  0.  0.  0.  0.  0.  0.  0.  1.  0.]\n",
      "[-1  2  5  8 -1  2  5  8 29 32 35 38  1  4  7 10 29 32 35 38 29 32 35 38]\n"
     ]
    }
   ],
   "source": [
    "idx = np.random.randint(0, size, sample_size)\n",
    "print(idx)\n",
    "print(is_terminal)\n",
    "idx = _get_valid_idx_trajectories(idx)\n",
    "print(idx)"
   ]
  },
  {
   "cell_type": "code",
   "execution_count": null,
   "metadata": {
    "collapsed": true
   },
   "outputs": [],
   "source": []
  }
 ],
 "metadata": {
  "kernelspec": {
   "display_name": "Python 3 (vizdoom)",
   "language": "python",
   "name": "vizdoom"
  },
  "language_info": {
   "codemirror_mode": {
    "name": "ipython",
    "version": 3
   },
   "file_extension": ".py",
   "mimetype": "text/x-python",
   "name": "python",
   "nbconvert_exporter": "python",
   "pygments_lexer": "ipython3",
   "version": "3.6.1"
  }
 },
 "nbformat": 4,
 "nbformat_minor": 2
}
