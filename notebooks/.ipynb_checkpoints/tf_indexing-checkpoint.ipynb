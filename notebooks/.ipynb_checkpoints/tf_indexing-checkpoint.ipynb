{
 "cells": [
  {
   "cell_type": "code",
   "execution_count": 5,
   "metadata": {
    "collapsed": true
   },
   "outputs": [],
   "source": [
    "import tensorflow as tf\n",
    "import numpy as np"
   ]
  },
  {
   "cell_type": "code",
   "execution_count": 33,
   "metadata": {
    "collapsed": true
   },
   "outputs": [],
   "source": [
    "a = tf.placeholder(tf.int32, shape=[None, 2])\n",
    "q_s = tf.placeholder(tf.float32, shape=[None, 4])"
   ]
  },
  {
   "cell_type": "code",
   "execution_count": 34,
   "metadata": {
    "collapsed": true
   },
   "outputs": [],
   "source": [
    "q_sa = tf.gather_nd(q_s, a)\n",
    "sess = tf.Session()"
   ]
  },
  {
   "cell_type": "code",
   "execution_count": 35,
   "metadata": {
    "collapsed": false
   },
   "outputs": [
    {
     "name": "stdout",
     "output_type": "stream",
     "text": [
      "[[ 0.35143887  0.22088295  0.78431705  0.22921055]\n",
      " [ 0.21140967  0.82402759  0.79057975  0.01022777]\n",
      " [ 0.01357729  0.51656414  0.09268521  0.03675706]]\n",
      "[[0, 1], [1, 3], [2, 2]]\n"
     ]
    },
    {
     "data": {
      "text/plain": [
       "array([ 0.22088295,  0.01022777,  0.09268521], dtype=float32)"
      ]
     },
     "execution_count": 35,
     "metadata": {},
     "output_type": "execute_result"
    }
   ],
   "source": [
    "q_s_t = np.random.rand(3, 4)\n",
    "a_t = [[0, 1], [1, 3], [2, 2]]\n",
    "print(q_s_t)\n",
    "print(a_t)\n",
    "fd = {q_s: q_s_t, a: a_t}\n",
    "sess.run(q_sa, feed_dict=fd)"
   ]
  },
  {
   "cell_type": "code",
   "execution_count": 61,
   "metadata": {
    "collapsed": false
   },
   "outputs": [
    {
     "name": "stdout",
     "output_type": "stream",
     "text": [
      "Cannot feed value of shape (3,) for Tensor 'Placeholder_6:0', which has shape '(?, 2)'\n",
      "[[0 2]\n",
      " [1 1]\n",
      " [2 3]]\n",
      "[ 0.78431708  0.8240276   0.03675706]\n"
     ]
    }
   ],
   "source": [
    "a_t = np.asarray([2, 1, 3])\n",
    "fd = {q_s: q_s_t, a: a_t}\n",
    "try:\n",
    "    sess.run(q_sa, feed_dict=fd)\n",
    "except Exception as e:\n",
    "    print(e)\n",
    "    a_t = np.column_stack([np.arange(a_t.shape[0]), a_t])\n",
    "    fd = {q_s: q_s_t, a: a_t}\n",
    "    print(a_t)\n",
    "    print(sess.run(q_sa, feed_dict=fd))"
   ]
  },
  {
   "cell_type": "code",
   "execution_count": null,
   "metadata": {
    "collapsed": true
   },
   "outputs": [],
   "source": []
  }
 ],
 "metadata": {
  "kernelspec": {
   "display_name": "Python 3 (vizdoom)",
   "language": "python",
   "name": "vizdoom"
  },
  "language_info": {
   "codemirror_mode": {
    "name": "ipython",
    "version": 3
   },
   "file_extension": ".py",
   "mimetype": "text/x-python",
   "name": "python",
   "nbconvert_exporter": "python",
   "pygments_lexer": "ipython3",
   "version": "3.6.1"
  }
 },
 "nbformat": 4,
 "nbformat_minor": 2
}
