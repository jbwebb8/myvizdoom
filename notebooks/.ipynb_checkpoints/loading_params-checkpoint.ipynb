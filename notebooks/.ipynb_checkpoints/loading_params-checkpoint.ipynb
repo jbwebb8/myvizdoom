{
 "cells": [
  {
   "cell_type": "code",
   "execution_count": 1,
   "metadata": {
    "collapsed": false
   },
   "outputs": [],
   "source": [
    "import sys\n",
    "sys.path.insert(0, \"../python\")\n",
    "from vizdoom import *\n",
    "import tensorflow as tf\n",
    "from helper import create_agent\n",
    "%load_ext autoreload\n",
    "%autoreload 2"
   ]
  },
  {
   "cell_type": "code",
   "execution_count": 2,
   "metadata": {
    "collapsed": true
   },
   "outputs": [],
   "source": [
    "import os"
   ]
  },
  {
   "cell_type": "code",
   "execution_count": 3,
   "metadata": {
    "collapsed": true
   },
   "outputs": [],
   "source": [
    "# Initializes DoomGame from config file\n",
    "def initialize_vizdoom(config_file):\n",
    "    game = DoomGame()\n",
    "    game.load_config(config_file)\n",
    "    game.init()\n",
    "    return game  "
   ]
  },
  {
   "cell_type": "code",
   "execution_count": 13,
   "metadata": {
    "collapsed": true
   },
   "outputs": [],
   "source": [
    "agent_file_path = \"../agents/ddqn_dm2015_1.json\"\n",
    "config_file_path = \"../config/linear_track.cfg\"\n",
    "results_dir = \"../tmp/tmp_results/\"\n",
    "action_set = \"basic_four\"\n",
    "params_file_path = \"../experiments/linear_track_1/trial_20/train_data/net_data/main_net/params/train_model-100\""
   ]
  },
  {
   "cell_type": "code",
   "execution_count": null,
   "metadata": {
    "collapsed": true
   },
   "outputs": [],
   "source": [
    "tf.reset_default_graph()\n",
    "game = initialize_vizdoom(config_file_path)\n",
    "agent = create_agent(agent_file_path,\n",
    "                     game=game, \n",
    "                     params_file=params_file_path,\n",
    "                     action_set=action_set,\n",
    "                     output_directory=results_dir,\n",
    "                     train_mode=True)\n",
    "agent.initialize_new_episode()\n",
    "current_screen = game.get_state().screen_buffer\n",
    "agent.update_state(current_screen)\n",
    "print(\"Q: \", agent.network.get_q_values(agent.state))"
   ]
  },
  {
   "cell_type": "code",
   "execution_count": 14,
   "metadata": {
    "collapsed": false
   },
   "outputs": [
    {
     "name": "stdout",
     "output_type": "stream",
     "text": [
      "INFO:tensorflow:Restoring parameters from ../experiments/linear_track_1/trial_20/train_data/net_data/main_net/params/train_model-100\n",
      "Q:  [[-21.1530571  -25.13306999 -21.8796978  -19.99013329]]\n"
     ]
    }
   ],
   "source": [
    "os.environ[\"CUDA_VISIBLE_DEVICES\"]=\"\"\n",
    "tf.reset_default_graph()\n",
    "game = initialize_vizdoom(config_file_path)\n",
    "agent = create_agent(agent_file_path,\n",
    "                     game=game, \n",
    "                     params_file=params_file_path,\n",
    "                     action_set=action_set,\n",
    "                     output_directory=results_dir,\n",
    "                     train_mode=True)\n",
    "agent.initialize_new_episode()\n",
    "current_screen = game.get_state().screen_buffer\n",
    "agent.update_state(current_screen)\n",
    "print(\"Q: \", agent.network.get_q_values(agent.state))"
   ]
  },
  {
   "cell_type": "code",
   "execution_count": 15,
   "metadata": {
    "collapsed": false
   },
   "outputs": [
    {
     "name": "stdout",
     "output_type": "stream",
     "text": [
      "INFO:tensorflow:Restoring parameters from ../experiments/linear_track_1/trial_20/train_data/net_data/main_net/params/train_model-100\n",
      "Q:  [[-21.1530571  -25.13306999 -21.8796978  -19.99013329]]\n"
     ]
    }
   ],
   "source": [
    "os.environ[\"CUDA_VISIBLE_DEVICES\"]=\"1\"\n",
    "tf.reset_default_graph()\n",
    "game = initialize_vizdoom(config_file_path)\n",
    "agent = create_agent(agent_file_path,\n",
    "                     game=game, \n",
    "                     params_file=params_file_path,\n",
    "                     action_set=action_set,\n",
    "                     output_directory=results_dir,\n",
    "                     train_mode=True)\n",
    "agent.initialize_new_episode()\n",
    "current_screen = game.get_state().screen_buffer\n",
    "agent.update_state(current_screen)\n",
    "print(\"Q: \", agent.network.get_q_values(agent.state))"
   ]
  },
  {
   "cell_type": "code",
   "execution_count": null,
   "metadata": {
    "collapsed": true
   },
   "outputs": [],
   "source": []
  }
 ],
 "metadata": {
  "kernelspec": {
   "display_name": "Python 3 (vizdoom)",
   "language": "python",
   "name": "vizdoom"
  },
  "language_info": {
   "codemirror_mode": {
    "name": "ipython",
    "version": 3
   },
   "file_extension": ".py",
   "mimetype": "text/x-python",
   "name": "python",
   "nbconvert_exporter": "python",
   "pygments_lexer": "ipython3",
   "version": "3.6.1"
  }
 },
 "nbformat": 4,
 "nbformat_minor": 2
}
