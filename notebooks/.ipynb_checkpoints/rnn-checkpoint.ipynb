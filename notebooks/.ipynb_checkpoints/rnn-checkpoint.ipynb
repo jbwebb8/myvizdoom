{
 "cells": [
  {
   "cell_type": "markdown",
   "metadata": {},
   "source": [
    "# RNNs\n",
    "Playing with RNNs"
   ]
  },
  {
   "cell_type": "code",
   "execution_count": 1,
   "metadata": {
    "collapsed": true
   },
   "outputs": [],
   "source": [
    "import tensorflow as tf"
   ]
  },
  {
   "cell_type": "markdown",
   "metadata": {},
   "source": [
    "## Custom RNN cells\n",
    "I'll first create my own basic RNN cells to test my understanding of how they work."
   ]
  },
  {
   "cell_type": "code",
   "execution_count": null,
   "metadata": {
    "collapsed": true
   },
   "outputs": [],
   "source": [
    "class RNN_cell:\n",
    "    def __init__(self, x, num_hidden, num_output, activation='tanh'):\n",
    "        # Get input shape\n",
    "        input_shape = tf.get_shape(x).as_list\n",
    "        batch_size = input_shape[0]\n",
    "        input_size = input_shape[1] # assume flattened\n",
    "        \n",
    "        # Set weight matrices\n",
    "        self.W_xh = tf.Variable(tf.truncated_normal([input_size, num_hidden]), name='W_xh')\n",
    "        self.W_hh = tf.Variable(tf.truncated_normal([num_hidden, num_hidden]), name='W_hh')\n",
    "        self.W_hy = tf.Variable(tf.truncated_normal([num_hidden, num_output]), name='W_hy')\n",
    "        \n",
    "        # Define hidden state\n",
    "        self.state = tf.placeholder(tf.float32, shape=[batch_size, num_hidden], name='hidden_state')\n",
    "        \n",
    "        # Set up activation fn\n",
    "        pass\n",
    "    \n",
    "    def step(self, x):\n",
    "        # Compute input transform\n",
    "        h1 = tf.matmul(self.W_xh, x)\n",
    "        \n",
    "        # Compute hidden transform\n",
    "        h2 = tf.matmul(self.W_hh, self.state)\n",
    "        # Add and apply activation\n",
    "        "
   ]
  }
 ],
 "metadata": {
  "kernelspec": {
   "display_name": "Python 3 (vizdoom)",
   "language": "python",
   "name": "vizdoom"
  },
  "language_info": {
   "codemirror_mode": {
    "name": "ipython",
    "version": 3
   },
   "file_extension": ".py",
   "mimetype": "text/x-python",
   "name": "python",
   "nbconvert_exporter": "python",
   "pygments_lexer": "ipython3",
   "version": "3.6.1"
  }
 },
 "nbformat": 4,
 "nbformat_minor": 2
}
