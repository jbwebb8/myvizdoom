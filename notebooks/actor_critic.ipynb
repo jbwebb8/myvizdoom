{
 "cells": [
  {
   "cell_type": "markdown",
   "metadata": {},
   "source": [
    "# Actor Critic Model"
   ]
  },
  {
   "cell_type": "markdown",
   "metadata": {},
   "source": [
    "## Initial setup"
   ]
  },
  {
   "cell_type": "code",
   "execution_count": 1,
   "metadata": {
    "collapsed": false
   },
   "outputs": [
    {
     "name": "stdout",
     "output_type": "stream",
     "text": [
      "['../python', '', '/home/james/anaconda3/envs/vizdoom/lib/python36.zip', '/home/james/anaconda3/envs/vizdoom/lib/python3.6', '/home/james/anaconda3/envs/vizdoom/lib/python3.6/lib-dynload', '/home/james/.local/lib/python3.6/site-packages', '/home/james/anaconda3/envs/vizdoom/lib/python3.6/site-packages', '/home/james/anaconda3/envs/vizdoom/lib/python3.6/site-packages/Sphinx-1.5.4-py3.6.egg', '/home/james/anaconda3/envs/vizdoom/lib/python3.6/site-packages/setuptools-27.2.0-py3.6.egg', '/home/james/anaconda3/envs/vizdoom/lib/python3.6/site-packages/IPython/extensions', '/home/james/.ipython']\n"
     ]
    }
   ],
   "source": [
    "import sys\n",
    "sys.path.insert(0, \"../python\")\n",
    "print(sys.path)"
   ]
  },
  {
   "cell_type": "code",
   "execution_count": 2,
   "metadata": {
    "collapsed": true
   },
   "outputs": [],
   "source": [
    "from vizdoom import *\n",
    "from helper import create_agent\n",
    "import tensorflow as tf"
   ]
  },
  {
   "cell_type": "code",
   "execution_count": 3,
   "metadata": {
    "collapsed": true
   },
   "outputs": [],
   "source": [
    "# If running other experiments on GPUs\n",
    "import os\n",
    "os.environ[\"CUDA_VISIBLE_DEVICES\"]=\"\""
   ]
  },
  {
   "cell_type": "code",
   "execution_count": 8,
   "metadata": {
    "collapsed": true
   },
   "outputs": [],
   "source": [
    "%load_ext autoreload\n",
    "%autoreload 2"
   ]
  },
  {
   "cell_type": "code",
   "execution_count": 9,
   "metadata": {
    "collapsed": true
   },
   "outputs": [],
   "source": [
    "# Initializes DoomGame from config file\n",
    "def initialize_vizdoom(config_file):\n",
    "    print(\"Initializing doom... \", end=\"\"), sys.stdout.flush()\n",
    "    game = DoomGame()\n",
    "    game.load_config(config_file)\n",
    "    game.init()\n",
    "    print(\"Done.\")\n",
    "    return game  "
   ]
  },
  {
   "cell_type": "code",
   "execution_count": 58,
   "metadata": {
    "collapsed": false,
    "scrolled": true
   },
   "outputs": [
    {
     "name": "stdout",
     "output_type": "stream",
     "text": [
      "Initializing doom... Done.\n"
     ]
    }
   ],
   "source": [
    "# Initialize agent and TensorFlow graph\n",
    "tf.reset_default_graph()\n",
    "agent_file_path = \"../agents/test.json\"\n",
    "config_file_path = \"../config/test.cfg\"\n",
    "results_dir = \"../tmp/tmp_results/\"\n",
    "action_set = \"basic_three\"\n",
    "game = initialize_vizdoom(config_file_path)\n",
    "agent = create_agent(agent_file_path,\n",
    "                     game=game, \n",
    "                     action_set=action_set,\n",
    "                     output_directory=results_dir)"
   ]
  },
  {
   "cell_type": "code",
   "execution_count": 59,
   "metadata": {
    "collapsed": true
   },
   "outputs": [],
   "source": [
    "def print_agent_status():\n",
    "    print(\"s1_buffer:    \\n\", agent.s1_buffer[:, :3, 1, 1])\n",
    "    print(\"a_buffer:     \\n\", agent.a_buffer)\n",
    "    print(\"s2_buffer:    \\n\", agent.s2_buffer[:, :3, 1, 1])\n",
    "    print(\"r_buffer:     \\n\", agent.r_buffer)\n",
    "    print(\"gamma_buffer: \\n\", agent.gamma_buffer)\n",
    "    print(\"memory r:     \\n\", agent.memory.r[:5])"
   ]
  },
  {
   "cell_type": "code",
   "execution_count": 60,
   "metadata": {
    "collapsed": false,
    "scrolled": true
   },
   "outputs": [
    {
     "name": "stdout",
     "output_type": "stream",
     "text": [
      "Step 1: \n",
      "s1_buffer:    \n",
      " [[ 0.28836533  0.28864545  0.26703683]\n",
      " [ 0.          0.          0.        ]\n",
      " [ 0.          0.          0.        ]\n",
      " [ 0.          0.          0.        ]\n",
      " [ 0.          0.          0.        ]]\n",
      "a_buffer:     \n",
      " [2 0 0 0 0]\n",
      "s2_buffer:    \n",
      " [[ 0.28836533  0.28864545  0.26703683]\n",
      " [ 0.          0.          0.        ]\n",
      " [ 0.          0.          0.        ]\n",
      " [ 0.          0.          0.        ]\n",
      " [ 0.          0.          0.        ]]\n",
      "r_buffer:     \n",
      " [-0.04  0.    0.    0.    0.  ]\n",
      "gamma_buffer: \n",
      " [ 1.          0.99        0.9801      0.970299    0.96059601]\n",
      "memory r:     \n",
      " [ 0.  0.  0.  0.  0.]\n",
      "Step 2: \n",
      "s1_buffer:    \n",
      " [[ 0.28836533  0.28864545  0.26703683]\n",
      " [ 0.28836533  0.28864545  0.26703683]\n",
      " [ 0.          0.          0.        ]\n",
      " [ 0.          0.          0.        ]\n",
      " [ 0.          0.          0.        ]]\n",
      "a_buffer:     \n",
      " [2 0 0 0 0]\n",
      "s2_buffer:    \n",
      " [[ 0.28836533  0.28864545  0.26703683]\n",
      " [ 0.28836533  0.28864545  0.26703683]\n",
      " [ 0.          0.          0.        ]\n",
      " [ 0.          0.          0.        ]\n",
      " [ 0.          0.          0.        ]]\n",
      "r_buffer:     \n",
      " [-0.04 -0.04  0.    0.    0.  ]\n",
      "gamma_buffer: \n",
      " [ 1.          0.99        0.9801      0.970299    0.96059601]\n",
      "memory r:     \n",
      " [ 0.  0.  0.  0.  0.]\n",
      "Step 3: \n",
      "s1_buffer:    \n",
      " [[ 0.28836533  0.28864545  0.26703683]\n",
      " [ 0.28836533  0.28864545  0.26703683]\n",
      " [ 0.28836533  0.28864545  0.26703683]\n",
      " [ 0.          0.          0.        ]\n",
      " [ 0.          0.          0.        ]]\n",
      "a_buffer:     \n",
      " [2 0 2 0 0]\n",
      "s2_buffer:    \n",
      " [[ 0.28836533  0.28864545  0.26703683]\n",
      " [ 0.28836533  0.28864545  0.26703683]\n",
      " [ 0.28836533  0.28864545  0.26703683]\n",
      " [ 0.          0.          0.        ]\n",
      " [ 0.          0.          0.        ]]\n",
      "r_buffer:     \n",
      " [-0.04 -0.04 -0.04  0.    0.  ]\n",
      "gamma_buffer: \n",
      " [ 1.          0.99        0.9801      0.970299    0.96059601]\n",
      "memory r:     \n",
      " [ 0.  0.  0.  0.  0.]\n",
      "Step 4: \n",
      "s1_buffer:    \n",
      " [[ 0.28836533  0.28864545  0.26703683]\n",
      " [ 0.28836533  0.28864545  0.26703683]\n",
      " [ 0.28836533  0.28864545  0.26703683]\n",
      " [ 0.28836533  0.28864545  0.26703683]\n",
      " [ 0.          0.          0.        ]]\n",
      "a_buffer:     \n",
      " [2 0 2 0 0]\n",
      "s2_buffer:    \n",
      " [[ 0.28836533  0.28864545  0.26703683]\n",
      " [ 0.28836533  0.28864545  0.26703683]\n",
      " [ 0.28836533  0.28864545  0.26703683]\n",
      " [ 0.34117648  0.37340936  0.34117648]\n",
      " [ 0.          0.          0.        ]]\n",
      "r_buffer:     \n",
      " [-0.04 -0.04 -0.04 -0.04  0.  ]\n",
      "gamma_buffer: \n",
      " [ 1.          0.99        0.9801      0.970299    0.96059601]\n",
      "memory r:     \n",
      " [ 0.  0.  0.  0.  0.]\n",
      "Step 5: \n",
      "s1_buffer:    \n",
      " [[ 0.28836533  0.28864545  0.26703683]\n",
      " [ 0.28836533  0.28864545  0.26703683]\n",
      " [ 0.28836533  0.28864545  0.26703683]\n",
      " [ 0.28836533  0.28864545  0.26703683]\n",
      " [ 0.34117648  0.37340936  0.34117648]]\n",
      "a_buffer:     \n",
      " [2 0 2 0 0]\n",
      "s2_buffer:    \n",
      " [[ 0.28836533  0.28864545  0.26703683]\n",
      " [ 0.28836533  0.28864545  0.26703683]\n",
      " [ 0.28836533  0.28864545  0.26703683]\n",
      " [ 0.34117648  0.37340936  0.34117648]\n",
      " [ 0.37389955  0.3882353   0.3739796 ]]\n",
      "r_buffer:     \n",
      " [-0.04 -0.04 -0.04 -0.04 -0.04]\n",
      "gamma_buffer: \n",
      " [ 0.96059601  1.          0.99        0.9801      0.970299  ]\n",
      "memory r:     \n",
      " [-9.88252354  0.          0.          0.          0.        ]\n"
     ]
    }
   ],
   "source": [
    "# View memory storage\n",
    "agent.initialize_new_episode()\n",
    "for i in range(5):\n",
    "    print(\"Step %d: \" % (i+1))\n",
    "    agent.perform_learning_step()\n",
    "    print_agent_status()"
   ]
  },
  {
   "cell_type": "code",
   "execution_count": 61,
   "metadata": {
    "collapsed": false
   },
   "outputs": [
    {
     "name": "stdout",
     "output_type": "stream",
     "text": [
      "Step 1: \n",
      "s1_buffer:    \n",
      " [[ 0.37389955  0.3882353   0.3739796 ]\n",
      " [ 0.28836533  0.28864545  0.26703683]\n",
      " [ 0.28836533  0.28864545  0.26703683]\n",
      " [ 0.28836533  0.28864545  0.26703683]\n",
      " [ 0.34117648  0.37340936  0.34117648]]\n",
      "a_buffer:     \n",
      " [0 0 2 0 0]\n",
      "s2_buffer:    \n",
      " [[ 0.40738297  0.3882353   0.3882353 ]\n",
      " [ 0.28836533  0.28864545  0.26703683]\n",
      " [ 0.28836533  0.28864545  0.26703683]\n",
      " [ 0.34117648  0.37340936  0.34117648]\n",
      " [ 0.37389955  0.3882353   0.3739796 ]]\n",
      "r_buffer:     \n",
      " [-0.04 -0.04 -0.04 -0.04 -0.04]\n",
      "gamma_buffer: \n",
      " [ 0.96059601  1.          0.99        0.9801      0.970299  ]\n",
      "memory r:     \n",
      " [-9.88252354  0.          0.          0.          0.        ]\n",
      "Step 2: \n",
      "s1_buffer:    \n",
      " [[ 0.37389955  0.3882353   0.3739796 ]\n",
      " [ 0.40738297  0.3882353   0.3882353 ]\n",
      " [ 0.28836533  0.28864545  0.26703683]\n",
      " [ 0.28836533  0.28864545  0.26703683]\n",
      " [ 0.34117648  0.37340936  0.34117648]]\n",
      "a_buffer:     \n",
      " [0 0 2 0 0]\n",
      "s2_buffer:    \n",
      " [[ 0.40738297  0.3882353   0.3882353 ]\n",
      " [ 0.40234095  0.46162465  0.41960785]\n",
      " [ 0.28836533  0.28864545  0.26703683]\n",
      " [ 0.34117648  0.37340936  0.34117648]\n",
      " [ 0.37389955  0.3882353   0.3739796 ]]\n",
      "r_buffer:     \n",
      " [-0.04 -0.04 -0.04 -0.04 -0.04]\n",
      "gamma_buffer: \n",
      " [ 0.96059601  1.          0.99        0.9801      0.970299  ]\n",
      "memory r:     \n",
      " [-9.88252354  0.          0.          0.          0.        ]\n",
      "Step 3: \n",
      "s1_buffer:    \n",
      " [[ 0.37389955  0.3882353   0.3739796 ]\n",
      " [ 0.40738297  0.3882353   0.3882353 ]\n",
      " [ 0.40234095  0.46162465  0.41960785]\n",
      " [ 0.28836533  0.28864545  0.26703683]\n",
      " [ 0.34117648  0.37340936  0.34117648]]\n",
      "a_buffer:     \n",
      " [0 0 0 0 0]\n",
      "s2_buffer:    \n",
      " [[ 0.40738297  0.3882353   0.3882353 ]\n",
      " [ 0.40234095  0.46162465  0.41960785]\n",
      " [ 0.37795117  0.41908765  0.43529412]\n",
      " [ 0.34117648  0.37340936  0.34117648]\n",
      " [ 0.37389955  0.3882353   0.3739796 ]]\n",
      "r_buffer:     \n",
      " [-0.04 -0.04 -0.04 -0.04 -0.04]\n",
      "gamma_buffer: \n",
      " [ 0.96059601  1.          0.99        0.9801      0.970299  ]\n",
      "memory r:     \n",
      " [-9.88252354  0.          0.          0.          0.        ]\n",
      "Step 4: \n",
      "s1_buffer:    \n",
      " [[ 0.37389955  0.3882353   0.3739796 ]\n",
      " [ 0.40738297  0.3882353   0.3882353 ]\n",
      " [ 0.40234095  0.46162465  0.41960785]\n",
      " [ 0.37795117  0.41908765  0.43529412]\n",
      " [ 0.34117648  0.37340936  0.34117648]]\n",
      "a_buffer:     \n",
      " [0 0 0 0 0]\n",
      "s2_buffer:    \n",
      " [[ 0.40738297  0.3882353   0.3882353 ]\n",
      " [ 0.40234095  0.46162465  0.41960785]\n",
      " [ 0.37795117  0.41908765  0.43529412]\n",
      " [ 0.43529412  0.43529412  0.43529412]\n",
      " [ 0.37389955  0.3882353   0.3739796 ]]\n",
      "r_buffer:     \n",
      " [-0.04 -0.04 -0.04 -0.04 -0.04]\n",
      "gamma_buffer: \n",
      " [ 0.96059601  1.          0.99        0.9801      0.970299  ]\n",
      "memory r:     \n",
      " [-9.88252354  0.          0.          0.          0.        ]\n",
      "Step 5: \n",
      "s1_buffer:    \n",
      " [[ 0.37389955  0.3882353   0.3739796 ]\n",
      " [ 0.40738297  0.3882353   0.3882353 ]\n",
      " [ 0.40234095  0.46162465  0.41960785]\n",
      " [ 0.37795117  0.41908765  0.43529412]\n",
      " [ 0.43529412  0.43529412  0.43529412]]\n",
      "a_buffer:     \n",
      " [0 0 0 0 0]\n",
      "s2_buffer:    \n",
      " [[ 0.40738297  0.3882353   0.3882353 ]\n",
      " [ 0.40234095  0.46162465  0.41960785]\n",
      " [ 0.37795117  0.41908765  0.43529412]\n",
      " [ 0.43529412  0.43529412  0.43529412]\n",
      " [ 0.47884154  0.45714286  0.48235294]]\n",
      "r_buffer:     \n",
      " [-0.04 -0.04 -0.04 -0.04 -0.04]\n",
      "gamma_buffer: \n",
      " [ 0.970299    0.96059601  1.          0.99        0.9801    ]\n",
      "memory r:     \n",
      " [ -9.88252354 -10.6321764    0.           0.           0.        ]\n"
     ]
    }
   ],
   "source": [
    "# Now view adding transition to memory\n",
    "for i in range(5):\n",
    "    print(\"Step %d: \" % (i+1))\n",
    "    agent.perform_learning_step()\n",
    "    print_agent_status()"
   ]
  },
  {
   "cell_type": "code",
   "execution_count": null,
   "metadata": {
    "collapsed": true
   },
   "outputs": [],
   "source": []
  }
 ],
 "metadata": {
  "kernelspec": {
   "display_name": "Python 3 (vizdoom)",
   "language": "python",
   "name": "vizdoom"
  },
  "language_info": {
   "codemirror_mode": {
    "name": "ipython",
    "version": 3
   },
   "file_extension": ".py",
   "mimetype": "text/x-python",
   "name": "python",
   "nbconvert_exporter": "python",
   "pygments_lexer": "ipython3",
   "version": "3.6.1"
  }
 },
 "nbformat": 4,
 "nbformat_minor": 2
}
