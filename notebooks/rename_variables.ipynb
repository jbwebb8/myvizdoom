{
 "cells": [
  {
   "cell_type": "markdown",
   "metadata": {},
   "source": [
    "# Rename tensorflow variables\n",
    "Script to rename variables in tensorflow checkpoint files. Modified to manipulate individual files rather than latest checkpoint in directory.\n",
    "\n",
    "Credit: https://gist.github.com/batzner/"
   ]
  },
  {
   "cell_type": "code",
   "execution_count": null,
   "metadata": {
    "collapsed": true
   },
   "outputs": [],
   "source": [
    "import tensorflow as tf\n",
    "from tensorflow.python.tools.inspect_checkpoint import print_tensors_in_checkpoint_file"
   ]
  },
  {
   "cell_type": "code",
   "execution_count": null,
   "metadata": {},
   "outputs": [],
   "source": [
    "checkpoint_dir = \"../experiments/open_field/trial_51/train_data/net_data/main_net/params/\"\n",
    "#checkpoint_dir = \"/home/james/Desktop/tmp/\"\n",
    "#checkpoint = tf.train.get_checkpoint_state(checkpoint_dir)\n",
    "checkpoint = checkpoint_dir + \"train_model-200\"\n",
    "print_tensors_in_checkpoint_file(file_name=checkpoint, tensor_name='', all_tensors=False, all_tensor_names=True)"
   ]
  },
  {
   "cell_type": "code",
   "execution_count": null,
   "metadata": {},
   "outputs": [],
   "source": [
    "replace_from = \"main_network/rnn/lstm_cell/biases\"\n",
    "replace_to = \"main_network/rnn/lstm_cell/bias\"\n",
    "add_prefix = False\n",
    "dry_run = False\n",
    "\n",
    "with tf.Session() as sess:\n",
    "    for var_name, _ in tf.contrib.framework.list_variables(checkpoint):\n",
    "        # Load the variable\n",
    "        var = tf.contrib.framework.load_variable(checkpoint, var_name)\n",
    "\n",
    "        # Set the new name\n",
    "        new_name = var_name\n",
    "        if None not in [replace_from, replace_to]:\n",
    "            new_name = new_name.replace(replace_from, replace_to)\n",
    "        if add_prefix:\n",
    "            new_name = add_prefix + new_name\n",
    "\n",
    "        if dry_run:\n",
    "            if var_name != new_name:\n",
    "                print(\"%s would be renamed to %s.\" % (var_name, new_name))\n",
    "            else:\n",
    "                print(\"%s would be unchanged.\" % (var_name))\n",
    "        else:\n",
    "            if var_name != new_name:\n",
    "                print(\"Renaming %s to %s.\" % (var_name, new_name))\n",
    "            else:\n",
    "                print(\"Leaving %s unchanged.\" % (var_name))\n",
    "            # Rename the variable (MUST do regardless of whether new name is different)\n",
    "            var = tf.Variable(var, name=new_name)\n",
    "\n",
    "    if not dry_run:\n",
    "        # Save the variables\n",
    "        saver = tf.train.Saver()\n",
    "        sess.run(tf.global_variables_initializer())\n",
    "        saver.save(sess, checkpoint)\n",
    "\n",
    "print(\"\\nCheckpoint updated!\")"
   ]
  }
 ],
 "metadata": {
  "kernelspec": {
   "display_name": "Python 3",
   "language": "python",
   "name": "python3"
  },
  "language_info": {
   "codemirror_mode": {
    "name": "ipython",
    "version": 3
   },
   "file_extension": ".py",
   "mimetype": "text/x-python",
   "name": "python",
   "nbconvert_exporter": "python",
   "pygments_lexer": "ipython3",
   "version": "3.6.1"
  }
 },
 "nbformat": 4,
 "nbformat_minor": 2
}
