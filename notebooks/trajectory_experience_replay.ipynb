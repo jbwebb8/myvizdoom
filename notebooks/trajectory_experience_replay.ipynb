{
 "cells": [
  {
   "cell_type": "markdown",
   "metadata": {},
   "source": [
    "# Trajectory replay"
   ]
  },
  {
   "cell_type": "markdown",
   "metadata": {},
   "source": [
    "## Initial setup"
   ]
  },
  {
   "cell_type": "code",
   "execution_count": 2,
   "metadata": {},
   "outputs": [],
   "source": [
    "import sys\n",
    "sys.path.insert(0, \"../python/\")\n",
    "from memory.ReplayMemory import ReplayMemory\n",
    "import numpy as np\n",
    "import random\n",
    "import copy"
   ]
  },
  {
   "cell_type": "markdown",
   "metadata": {},
   "source": [
    "## Numpy indexing"
   ]
  },
  {
   "cell_type": "markdown",
   "metadata": {},
   "source": [
    "### Batch slicing"
   ]
  },
  {
   "cell_type": "code",
   "execution_count": 19,
   "metadata": {},
   "outputs": [
    {
     "name": "stdout",
     "output_type": "stream",
     "text": [
      "idx: [58  8 24 44 72 70 19]\n",
      "Slices:\n",
      " [58 59 60 61 62  8  9 10 11 12 24 25 26 27 28 44 45 46 47 48 72 73 74 75 76\n",
      " 70 71 72 73 74 19 20 21 22 23]\n",
      "Corrected slices:\n",
      " [58 59 60 61 62  8  9 10 11 12 24 25 26 27 28 44 45 46 47 48 72 73 74 75 76\n",
      " 70 71 72 73 74 19 20 21 22 23]\n",
      "Original:\n",
      "s1[0].shape: (100, 12, 84, 84)\n",
      "s1[0][slices][0, ...]:\n",
      "[[ 0.53546728  0.34858874  0.99254931]\n",
      " [ 0.98171926  0.22050952  0.32387461]\n",
      " [ 0.50426754  0.38082718  0.53164911]]\n",
      "s1[0][slices][5, ...]:\n",
      "[[ 0.90396477  0.21205504  0.47445172]\n",
      " [ 0.63509333  0.78279289  0.96300232]\n",
      " [ 0.17780579  0.22307001  0.1404238 ]]\n",
      "Reshape:\n",
      "s1[0][slices].shape: (7, 5, 12, 84, 84)\n",
      "s1[0][slices][0][...]:\n",
      "[[ 0.53546728  0.34858874  0.99254931]\n",
      " [ 0.98171926  0.22050952  0.32387461]\n",
      " [ 0.50426754  0.38082718  0.53164911]]\n",
      "s1[0][slices][1][...]:\n",
      "[[ 0.90396477  0.21205504  0.47445172]\n",
      " [ 0.63509333  0.78279289  0.96300232]\n",
      " [ 0.17780579  0.22307001  0.1404238 ]]\n"
     ]
    }
   ],
   "source": [
    "idx = np.random.randint(0, 100, 7)\n",
    "print(\"idx:\", idx)\n",
    "\n",
    "x, y = np.meshgrid(idx, np.arange(5))\n",
    "slices = np.transpose(x + y).flatten()\n",
    "print(\"Slices:\\n\", slices)\n",
    "slices %= 100\n",
    "print(\"Corrected slices:\\n\", slices)\n",
    "\n",
    "s1_0 = np.random.rand(100, 12, 84, 84) # mimics memory with capacity 100\n",
    "s1_1 = np.random.rand(2)\n",
    "s1 = [s1_0, s1_1]\n",
    "print(\"Original:\")\n",
    "print(\"s1[0].shape:\", s1[0].shape)\n",
    "print(\"s1[0][slices][0, ...]:\")\n",
    "print(s1[0][slices][0, 0, :3, :3])\n",
    "print(\"s1[0][slices][5, ...]:\")\n",
    "print(s1[0][slices][5, 0, :3, :3])\n",
    "\n",
    "rs = np.reshape(s1[0][slices], [7, 5, 12, 84, 84]) # [num of traj, traj len, state_shape...]\n",
    "print(\"Reshape:\")\n",
    "print(\"s1[0][slices].shape:\", rs.shape)\n",
    "print(\"s1[0][slices][0][...]:\")\n",
    "print(rs[0, 0, 0, :3, :3])\n",
    "print(\"s1[0][slices][1][...]:\")\n",
    "print(rs[1, 0, 0, :3, :3])"
   ]
  },
  {
   "cell_type": "markdown",
   "metadata": {},
   "source": [
    "### Reverse order\n",
    "Applicable for class without reshaping"
   ]
  },
  {
   "cell_type": "code",
   "execution_count": 57,
   "metadata": {},
   "outputs": [
    {
     "name": "stdout",
     "output_type": "stream",
     "text": [
      "a:\n",
      "[ 0.08736947  0.26904687  0.18850901  0.15742123  0.14138586  0.10484942\n",
      "  0.29992704  0.22221412  0.57461042  0.80538772  0.00261921  0.22227756\n",
      "  0.20479822  0.9082098   0.57885134  0.35208548  0.84299166  0.9774215\n",
      "  0.64349928  0.30795383  0.56341805  0.89320403  0.51121639  0.31188183\n",
      "  0.72205378  0.2704125   0.41581256  0.55601417  0.59611474  0.86199004]\n",
      "a[[lists]]:\n",
      "[ 0.14138586  0.80538772  0.57885134  0.30795383  0.72205378  0.86199004]\n",
      "a[fancy indexing]:\n",
      "[ 0.14138586  0.80538772  0.57885134  0.30795383  0.72205378  0.86199004]\n",
      "Reverse order:\n",
      "[ 0.14138586  0.80538772  0.57885134  0.30795383  0.72205378  0.86199004]\n",
      "[ 0.15742123  0.57461042  0.9082098   0.64349928  0.31188183  0.59611474]\n",
      "[ 0.18850901  0.22221412  0.20479822  0.9774215   0.51121639  0.55601417]\n",
      "[ 0.26904687  0.29992704  0.22227756  0.84299166  0.89320403  0.41581256]\n",
      "[ 0.08736947  0.10484942  0.00261921  0.35208548  0.56341805  0.2704125 ]\n"
     ]
    }
   ],
   "source": [
    "a = np.random.rand(30)\n",
    "print(\"a:\")\n",
    "print(a)\n",
    "print(\"a[[lists]]:\")\n",
    "print(a[[4, 9, 14, 19, 24, 29]])\n",
    "print(\"a[fancy indexing]:\")\n",
    "print(a[4::5])\n",
    "print(\"Reverse order:\")\n",
    "for i in range(5)[::-1]: \n",
    "    print(a[i::5])"
   ]
  },
  {
   "cell_type": "markdown",
   "metadata": {},
   "source": [
    "### Copying weights"
   ]
  },
  {
   "cell_type": "code",
   "execution_count": 47,
   "metadata": {},
   "outputs": [
    {
     "name": "stdout",
     "output_type": "stream",
     "text": [
      "[0 0 0 0 0 1 1 1 1 1 2 2 2 2 2 3 3 3 3 3]\n"
     ]
    }
   ],
   "source": [
    "w = np.transpose(np.tile(np.arange(4), [5, 1])).flatten()\n",
    "print(w)"
   ]
  },
  {
   "cell_type": "code",
   "execution_count": 48,
   "metadata": {},
   "outputs": [
    {
     "name": "stdout",
     "output_type": "stream",
     "text": [
      "[0 1 2 3]\n"
     ]
    }
   ],
   "source": [
    "w = np.transpose(np.tile(np.arange(4), [1, 1])).flatten()\n",
    "print(w)"
   ]
  },
  {
   "cell_type": "markdown",
   "metadata": {},
   "source": [
    "## Class definition"
   ]
  },
  {
   "cell_type": "markdown",
   "metadata": {},
   "source": [
    "### Reshaping into [# of trajectories, trajectory length, ...]\n",
    "I like the way this is organized and that the Replay Memory class is doing some of the dirty work. However, this is incompatible with other forms of replay memory, in which the shape is [batch_size, ...]."
   ]
  },
  {
   "cell_type": "code",
   "execution_count": 61,
   "metadata": {},
   "outputs": [],
   "source": [
    "class TrajectoryReplayMemory(ReplayMemory):\n",
    "    def __init__(self, capacity, state_shape, num_game_var, input_overlap=0, \n",
    "                 trajectory_length=5):\n",
    "        # Initialize base replay memory\n",
    "        ReplayMemory.__init__(self, capacity, state_shape, num_game_var, input_overlap)\n",
    "\n",
    "        # Initialize trajectory parameters\n",
    "        self.tr_len = trajectory_length\n",
    "        \n",
    "    def get_sample(self, sample_size):\n",
    "        # Get random minibatch of indices\n",
    "        idx = np.random.randint(0, self.size, sample_size)\n",
    "        x, y = np.meshgrid(idx, np.arange(self.tr_len))\n",
    "        idx = np.transpose(x + y).flatten() # [i, i+1, ..., i+n, j, j+1, ..., j+n, k...]\n",
    "        idx %= self.capacity # wrap end cases\n",
    "        t = self.tr_len\n",
    "        # TODO: find isterminal in sequences and cut short\n",
    "        \n",
    "        # s = [screen[trajectory id, trajectory step, state_shape...], gv[traj id, traj step, num_gv]]\n",
    "        \n",
    "        # Make list of states\n",
    "        s1_sample, s2_sample = [], []\n",
    "\n",
    "        # Get screen component\n",
    "        s1_slice = self.s1[0][idx]\n",
    "        if self.overlap > 0:\n",
    "            # Stack overlapping frames from s1 to stored frames of s2 to\n",
    "            # recreate full s2 state\n",
    "            s2_slice = np.concatenate((self.s1[0][[idx] + [slice(None)] * self.chdim \n",
    "                                             + [slice(None, self.overlap)]], \n",
    "                                             self.s2[0][idx]), \n",
    "                                            axis=self.chdim+1)\n",
    "        else:\n",
    "            s2_slice = self.s2[0][idx]\n",
    "        s1_sample.append(np.reshape(s1_slice, [sample_size, t] + self.state_shape))\n",
    "        s2_sample.append(np.reshape(s2_slice, [sample_size, t] + self.state_shape))\n",
    "\n",
    "        # Get game variable component\n",
    "        s1_sample.append(np.reshape(self.s1[1][idx], [sample_size, t] + [self.num_game_var]))\n",
    "        s2_sample.append(np.reshape(self.s2[1][idx], [sample_size, t] + [self.num_game_var]))\n",
    "\n",
    "        # Get other transition parameters\n",
    "        a_sample = np.reshape(self.a[idx], [sample_size, t])\n",
    "        isterminal_sample = np.reshape(self.isterminal[idx], [sample_size, t])\n",
    "        r_sample = np.reshape(self.r[idx], [sample_size, t])\n",
    "\n",
    "        # Return importance sampling weights of one (stochastic distribution)\n",
    "        w = np.ones([sample_size, t])\n",
    "\n",
    "        return s1_sample, a_sample, s2_sample, isterminal_sample, r_sample, w, idx"
   ]
  },
  {
   "cell_type": "code",
   "execution_count": 62,
   "metadata": {},
   "outputs": [],
   "source": [
    "capacity = 100\n",
    "state_shape = [12, 84, 84]\n",
    "num_game_var = 2\n",
    "input_overlap = 3\n",
    "trajectory_length = 10\n",
    "memory = TrajectoryReplayMemory(capacity=capacity,\n",
    "                                state_shape=state_shape,\n",
    "                                num_game_var=num_game_var,\n",
    "                                input_overlap=input_overlap,\n",
    "                                trajectory_length=trajectory_length)\n",
    "terminal_states = random.sample(range(capacity), 7)\n",
    "s1, s2 = [], []\n",
    "s2.append(np.random.rand(state_shape[0], state_shape[1], state_shape[2]))\n",
    "s2.append([random.random()] * num_game_var)\n",
    "for i in range(capacity):\n",
    "    s1 = [s2[0], s2[1]]\n",
    "    s2[0] = np.delete(s2[0], np.s_[0:input_overlap], axis=0)\n",
    "    s2[0] = np.append(s2[0], np.random.rand(input_overlap, state_shape[1], state_shape[2]), axis=0)\n",
    "    s2[1] = [random.random()] * num_game_var\n",
    "    a = random.sample(range(4), 1)[0]\n",
    "    r = random.random()\n",
    "    isterminal = i in terminal_states\n",
    "    memory.add_transition(s1, a, s2, isterminal, r)  "
   ]
  },
  {
   "cell_type": "code",
   "execution_count": 63,
   "metadata": {},
   "outputs": [
    {
     "name": "stdout",
     "output_type": "stream",
     "text": [
      "idx: [ 1  2  3  4  5  6  7  8  9 10 64 65 66 67 68 69 70 71 72 73 95 96 97 98 99\n",
      "  0  1  2  3  4 77 78 79 80 81 82 83 84 85 86 26 27 28 29 30 31 32 33 34 35\n",
      " 87 88 89 90 91 92 93 94 95 96  4  5  6  7  8  9 10 11 12 13]\n",
      "s1[0].shape: (7, 10, 12, 84, 84)\n",
      "s1[1].shape: (7, 10, 2)\n",
      "a.shape: (7, 10)\n",
      "s2[0].shape: (7, 10, 12, 84, 84)\n",
      "s2[1].shape: (7, 10, 2)\n",
      "isterminal.shape: (7, 10)\n",
      "r.shape: (7, 10)\n",
      "w.shape: (7, 10)\n"
     ]
    }
   ],
   "source": [
    "s1, a, s2, isterminal, r, w, idx = memory.get_sample(7)\n",
    "print(\"idx:\", idx)\n",
    "print(\"s1[0].shape:\", s1[0].shape)\n",
    "print(\"s1[1].shape:\", s1[1].shape)\n",
    "print(\"a.shape:\", a.shape)\n",
    "print(\"s2[0].shape:\", s2[0].shape)\n",
    "print(\"s2[1].shape:\", s2[1].shape)\n",
    "print(\"isterminal.shape:\", isterminal.shape)\n",
    "print(\"r.shape:\", r.shape)\n",
    "print(\"w.shape:\", w.shape)"
   ]
  },
  {
   "cell_type": "markdown",
   "metadata": {},
   "source": [
    "### No reshaping, [batch_size, ...]\n",
    "This returns experiences in the form [batch_size, ...], where batch_size = (# of trajectories, i.e. sample_size) * (trajectory length). This form is compatible with current Replay Memory classes."
   ]
  },
  {
   "cell_type": "code",
   "execution_count": 14,
   "metadata": {
    "collapsed": true
   },
   "outputs": [],
   "source": [
    "class TrajectoryReplayMemory(ReplayMemory):\n",
    "    def __init__(self, capacity, state_shape, num_game_var, input_overlap=0, \n",
    "                 trajectory_length=5):\n",
    "        # Initialize base replay memory\n",
    "        ReplayMemory.__init__(self, capacity, state_shape, num_game_var, input_overlap)\n",
    "\n",
    "        # Initialize trajectory parameters\n",
    "        self.tr_len = trajectory_length\n",
    "        \n",
    "    def get_sample(self, sample_size):\n",
    "        # Get random minibatch of indices\n",
    "        idx = np.random.randint(0, self.size, sample_size)\n",
    "        x, y = np.meshgrid(idx, np.arange(self.tr_len))\n",
    "        idx = np.transpose(x + y).flatten() # [i, i+1, ..., i+n, j, j+1, ..., j+n, k...]\n",
    "        idx %= self.capacity # wrap end cases\n",
    "        t = self.tr_len\n",
    "        # TODO: find isterminal in sequences and cut short\n",
    "          \n",
    "        # Make list of states\n",
    "        s1_sample, s2_sample = [], []\n",
    "\n",
    "        # Get screen component\n",
    "        s1_slice = self.s1[0][idx]\n",
    "        if self.overlap > 0:\n",
    "            # Stack overlapping frames from s1 to stored frames of s2 to\n",
    "            # recreate full s2 state\n",
    "            s2_slice = np.concatenate((self.s1[0][[idx] + [slice(None)] * self.chdim \n",
    "                                             + [slice(None, self.overlap)]], \n",
    "                                             self.s2[0][idx]), \n",
    "                                            axis=self.chdim+1)\n",
    "        else:\n",
    "            s2_slice = self.s2[0][idx]\n",
    "        s1_sample.append(s1_slice)\n",
    "        s2_sample.append(s2_slice)\n",
    "\n",
    "        # Get game variable component\n",
    "        s1_sample.append(self.s1[1][idx])\n",
    "        s2_sample.append(self.s2[1][idx])\n",
    "\n",
    "        # Get other transition parameters\n",
    "        a_sample = self.a[idx]\n",
    "        isterminal_sample = self.isterminal[idx]\n",
    "        r_sample = self.r[idx]\n",
    "\n",
    "        # Return importance sampling weights of one (stochastic distribution)\n",
    "        w = np.ones([sample_size * t])\n",
    "\n",
    "        return s1_sample, a_sample, s2_sample, isterminal_sample, r_sample, w, idx"
   ]
  },
  {
   "cell_type": "code",
   "execution_count": 15,
   "metadata": {
    "collapsed": true
   },
   "outputs": [],
   "source": [
    "capacity = 100\n",
    "state_shape = [12, 84, 84]\n",
    "num_game_var = 2\n",
    "input_overlap = 3\n",
    "trajectory_length = 10\n",
    "memory = TrajectoryReplayMemory(capacity=capacity,\n",
    "                                state_shape=state_shape,\n",
    "                                num_game_var=num_game_var,\n",
    "                                input_overlap=input_overlap,\n",
    "                                trajectory_length=trajectory_length)\n",
    "terminal_states = random.sample(range(capacity), 7)\n",
    "s1, s2 = [], []\n",
    "s2.append(np.random.rand(state_shape[0], state_shape[1], state_shape[2]))\n",
    "s2.append([random.random()] * num_game_var)\n",
    "for i in range(capacity):\n",
    "    s1 = [s2[0], s2[1]]\n",
    "    s2[0] = np.delete(s2[0], np.s_[0:input_overlap], axis=0)\n",
    "    s2[0] = np.append(s2[0], np.random.rand(input_overlap, state_shape[1], state_shape[2]), axis=0)\n",
    "    s2[1] = [random.random()] * num_game_var\n",
    "    a = random.sample(range(4), 1)[0]\n",
    "    r = random.random()\n",
    "    isterminal = i in terminal_states\n",
    "    memory.add_transition(s1, a, s2, isterminal, r)  "
   ]
  },
  {
   "cell_type": "code",
   "execution_count": 16,
   "metadata": {},
   "outputs": [
    {
     "name": "stdout",
     "output_type": "stream",
     "text": [
      "idx: [46 47 48 49 50 51 52 53 54 55 78 79 80 81 82 83 84 85 86 87 42 43 44 45 46\n",
      " 47 48 49 50 51 77 78 79 80 81 82 83 84 85 86 84 85 86 87 88 89 90 91 92 93\n",
      " 90 91 92 93 94 95 96 97 98 99 24 25 26 27 28 29 30 31 32 33]\n",
      "s1[0].shape: (70, 12, 84, 84)\n",
      "s1[1].shape: (70, 2)\n",
      "a.shape: (70,)\n",
      "s2[0].shape: (70, 12, 84, 84)\n",
      "s2[1].shape: (70, 2)\n",
      "isterminal.shape: (70,)\n",
      "r.shape: (70,)\n",
      "w.shape: (70,)\n"
     ]
    }
   ],
   "source": [
    "s1, a, s2, isterminal, r, w, idx = memory.get_sample(7)\n",
    "print(\"idx:\", idx)\n",
    "print(\"s1[0].shape:\", s1[0].shape)\n",
    "print(\"s1[1].shape:\", s1[1].shape)\n",
    "print(\"a.shape:\", a.shape)\n",
    "print(\"s2[0].shape:\", s2[0].shape)\n",
    "print(\"s2[1].shape:\", s2[1].shape)\n",
    "print(\"isterminal.shape:\", isterminal.shape)\n",
    "print(\"r.shape:\", r.shape)\n",
    "print(\"w.shape:\", w.shape)"
   ]
  },
  {
   "cell_type": "code",
   "execution_count": 24,
   "metadata": {},
   "outputs": [
    {
     "name": "stdout",
     "output_type": "stream",
     "text": [
      "2 (7, 12, 84, 84) (7, 2)\n"
     ]
    }
   ],
   "source": [
    "sample = [s1[0][6::10], s1[1][6::10]]\n",
    "print(len(sample), sample[0].shape, sample[1].shape)"
   ]
  },
  {
   "cell_type": "markdown",
   "metadata": {},
   "source": [
    "## Agent testing"
   ]
  },
  {
   "cell_type": "code",
   "execution_count": 51,
   "metadata": {
    "collapsed": true
   },
   "outputs": [],
   "source": [
    "# If using one or multiple GPUs\n",
    "import os\n",
    "os.environ[\"CUDA_VISIBLE_DEVICES\"]=\"\""
   ]
  },
  {
   "cell_type": "code",
   "execution_count": 52,
   "metadata": {},
   "outputs": [
    {
     "name": "stdout",
     "output_type": "stream",
     "text": [
      "The autoreload extension is already loaded. To reload it, use:\n",
      "  %reload_ext autoreload\n"
     ]
    }
   ],
   "source": [
    "from helper import create_agent\n",
    "import tensorflow as tf\n",
    "from vizdoom import *\n",
    "%load_ext autoreload\n",
    "%autoreload 2"
   ]
  },
  {
   "cell_type": "code",
   "execution_count": 53,
   "metadata": {
    "collapsed": true
   },
   "outputs": [],
   "source": [
    "# Initializes DoomGame from config file\n",
    "def initialize_vizdoom(config_file):\n",
    "    print(\"Initializing doom... \", end=\"\"), sys.stdout.flush()\n",
    "    game = DoomGame()\n",
    "    game.load_config(config_file)\n",
    "    game.set_window_visible(True)\n",
    "    game.init()\n",
    "    print(\"Done.\")\n",
    "    return game"
   ]
  },
  {
   "cell_type": "markdown",
   "metadata": {},
   "source": [
    "### Standard experience replay"
   ]
  },
  {
   "cell_type": "code",
   "execution_count": 55,
   "metadata": {
    "scrolled": true
   },
   "outputs": [
    {
     "name": "stdout",
     "output_type": "stream",
     "text": [
      "Initializing doom... Done.\n",
      "\n",
      "Mapping of agent states --> network states:\n",
      "screen --> Tensor(\"main_network/screen:0\", shape=(?, 84, 84, 3), dtype=float32)\n",
      "[GameVariable.HEALTH] --> Tensor(\"main_network/health:0\", shape=(?, 1), dtype=float32)\n",
      "[GameVariable.VELOCITY_X, GameVariable.VELOCITY_Y] --> Tensor(\"main_network/velocity:0\", shape=(?, 2), dtype=float32)\n",
      "Done.\n"
     ]
    }
   ],
   "source": [
    "tf.reset_default_graph()\n",
    "agent_file_path = \"./trajectory_experience_replay/standard.json\"\n",
    "config_file_path = \"../config/open_field.cfg\"\n",
    "results_dir = \"./trajectory_experience_replay/results\"\n",
    "\n",
    "game = initialize_vizdoom(config_file_path)\n",
    "agent = create_agent(agent_file_path,\n",
    "                     game=game, \n",
    "                     params_file=None,\n",
    "                     action_set=None,\n",
    "                     output_directory=results_dir,\n",
    "                     train_mode=True)\n",
    "\n",
    "agent.initialize_new_episode()\n",
    "for i in range(500): # memory capacity set to 100\n",
    "    agent.perform_learning_step(1, 100)\n",
    "    if game.is_episode_finished():\n",
    "        agent.initialize_new_episode()\n",
    "game.close()\n",
    "print(\"Done.\")"
   ]
  },
  {
   "cell_type": "markdown",
   "metadata": {},
   "source": [
    "### Prioritized experience replay"
   ]
  },
  {
   "cell_type": "code",
   "execution_count": 61,
   "metadata": {},
   "outputs": [
    {
     "name": "stdout",
     "output_type": "stream",
     "text": [
      "Initializing doom... Done.\n",
      "\n",
      "Mapping of agent states --> network states:\n",
      "screen --> Tensor(\"main_network/screen:0\", shape=(?, 84, 84, 3), dtype=float32)\n",
      "[GameVariable.HEALTH] --> Tensor(\"main_network/health:0\", shape=(?, 1), dtype=float32)\n",
      "[GameVariable.VELOCITY_X, GameVariable.VELOCITY_Y] --> Tensor(\"main_network/velocity:0\", shape=(?, 2), dtype=float32)\n",
      "Done.\n"
     ]
    }
   ],
   "source": [
    "tf.reset_default_graph()\n",
    "agent_file_path = \"./trajectory_experience_replay/prioritized.json\"\n",
    "config_file_path = \"../config/open_field.cfg\"\n",
    "results_dir = \"./trajectory_experience_replay/results\"\n",
    "\n",
    "game = initialize_vizdoom(config_file_path)\n",
    "agent = create_agent(agent_file_path,\n",
    "                     game=game, \n",
    "                     params_file=None,\n",
    "                     action_set=None,\n",
    "                     output_directory=results_dir,\n",
    "                     train_mode=True)\n",
    "\n",
    "agent.initialize_new_episode()\n",
    "for i in range(250): # memory capacity set to 100\n",
    "    agent.perform_learning_step(1, 100)\n",
    "    if game.is_episode_finished():\n",
    "        agent.initialize_new_episode()\n",
    "game.close()\n",
    "print(\"Done.\")"
   ]
  },
  {
   "cell_type": "code",
   "execution_count": 64,
   "metadata": {},
   "outputs": [
    {
     "name": "stdout",
     "output_type": "stream",
     "text": [
      "Sampling...Done.\n",
      "Calculating probs...Done.\n",
      "Plotting...\n"
     ]
    },
    {
     "data": {
      "image/png": "[encoded data removed]",
      "text/plain": [
       "<matplotlib.figure.Figure at 0x7f60275ccd30>"
      ]
     },
     "metadata": {},
     "output_type": "display_data"
    }
   ],
   "source": [
    "import random\n",
    "import matplotlib.pyplot as plt\n",
    "\n",
    "# Get samples\n",
    "tr_len = agent.memory.tr_len\n",
    "batch_size = 5\n",
    "num_batches = 10000\n",
    "t = []\n",
    "print(\"Sampling...\", end=\"\"), sys.stdout.flush()\n",
    "for i in range(num_batches):\n",
    "    s1, a, s2, isterminal, r, w, t_i = agent.memory.get_sample(batch_size)\n",
    "    t.append(t_i[tr_len-1::tr_len])\n",
    "print(\"Done.\"), sys.stdout.flush()\n",
    "\n",
    "t = np.asarray(t)\n",
    "\n",
    "# Count how many times each\n",
    "heap = agent.memory.heap\n",
    "start_pos = agent.memory.start_pos\n",
    "capacity = agent.memory.capacity\n",
    "sample_size = 100\n",
    "p_tot = heap[1]\n",
    "calc_prob = np.zeros(sample_size)\n",
    "actual_prob = np.zeros(sample_size)\n",
    "print(\"Calculating probs...\", end=\"\"), sys.stdout.flush()\n",
    "for j, i in enumerate(range(capacity)):\n",
    "    p = heap[start_pos + i]\n",
    "    calc_prob[j] = p / p_tot\n",
    "    actual_prob[j] = np.sum(np.count_nonzero(t == i)) / t.size\n",
    "    #print(\"Transition %d: calculated prob=%.3f, actual prob=%.3f\" % (i, calc_prob, actual_prob))\n",
    "print(\"Done.\"), sys.stdout.flush()\n",
    "\n",
    "print(\"Plotting...\"), sys.stdout.flush()\n",
    "fig, ax = plt.subplots()\n",
    "idx = np.arange(sample_size)\n",
    "width = 0.3\n",
    "ax.bar(idx, calc_prob, width, color=\"orange\")\n",
    "ax.bar(idx + width, actual_prob, width, color=\"black\")\n",
    "fig.set_size_inches(16, 9)\n",
    "plt.show()"
   ]
  },
  {
   "cell_type": "code",
   "execution_count": null,
   "metadata": {
    "collapsed": true
   },
   "outputs": [],
   "source": []
  }
 ],
 "metadata": {
  "kernelspec": {
   "display_name": "Python 3 (vizdoom)",
   "language": "python",
   "name": "vizdoom"
  },
  "language_info": {
   "codemirror_mode": {
    "name": "ipython",
    "version": 3
   },
   "file_extension": ".py",
   "mimetype": "text/x-python",
   "name": "python",
   "nbconvert_exporter": "python",
   "pygments_lexer": "ipython3",
   "version": "3.6.1"
  }
 },
 "nbformat": 4,
 "nbformat_minor": 2
}
