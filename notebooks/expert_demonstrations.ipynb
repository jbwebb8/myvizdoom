{
 "cells": [
  {
   "cell_type": "markdown",
   "metadata": {},
   "source": [
    "# Expert Demonstrations\n",
    "Generate experience replay consisting of state transitions from user play."
   ]
  },
  {
   "cell_type": "markdown",
   "metadata": {},
   "source": [
    "## Initial setup"
   ]
  },
  {
   "cell_type": "code",
   "execution_count": 9,
   "metadata": {
    "collapsed": true
   },
   "outputs": [],
   "source": [
    "from vizdoom import *\n",
    "import sys\n",
    "sys.path.insert(0, \"../python\")\n",
    "import numpy as np"
   ]
  },
  {
   "cell_type": "code",
   "execution_count": 4,
   "metadata": {
    "collapsed": true
   },
   "outputs": [],
   "source": [
    "# Creates and initializes ViZDoom environment.\n",
    "def initialize_vizdoom(config_file_path):\n",
    "    print(\"Initializing doom... \", end=\"\"), sys.stdout.flush()\n",
    "    game = DoomGame()\n",
    "    game.load_config(config_file_path)\n",
    "    game.set_window_visible(True)\n",
    "    game.init()\n",
    "    print(\"Done.\")\n",
    "    return game"
   ]
  },
  {
   "cell_type": "markdown",
   "metadata": {},
   "source": [
    "## Collect state transitions"
   ]
  },
  {
   "cell_type": "code",
   "execution_count": 10,
   "metadata": {},
   "outputs": [
    {
     "name": "stdout",
     "output_type": "stream",
     "text": [
      "Initializing doom... Done.\n",
      "Done.de %d finished!\n"
     ]
    }
   ],
   "source": [
    "config_file_path = \"../config/pretraining.cfg\" # must be in SPECTATOR mode\n",
    "episodes = 1\n",
    "game = initialize_vizdoom(config_file_path)\n",
    "\n",
    "states = []\n",
    "coordinates = []\n",
    "actions = []\n",
    "rewards = []\n",
    "for i in range(episodes):\n",
    "    # Create new episode\n",
    "    game.new_episode()\n",
    "    while not game.is_episode_finished():\n",
    "        # Get state, advance current user action, and obtain reward\n",
    "        states.append(game.get_state())\n",
    "        x = game.get_game_variable(GameVariable.POSITION_X)\n",
    "        y = game.get_game_variable(GameVariable.POSITION_Y)\n",
    "        z = game.get_game_variable(GameVariable.POSITION_Z)\n",
    "        angle = game.get_game_variable(GameVariable.ANGLE)\n",
    "        coordinates.append(np.array([x, y, z, angle]))\n",
    "        game.advance_action()\n",
    "        actions.append(game.get_last_action())\n",
    "        rewards.append(game.get_last_reward())\n",
    "\n",
    "    print(\"Episode %d finished!\\r\" % i, end=\"\")\n",
    "\n",
    "print(\"\\nDone.\")\n",
    "game.close()"
   ]
  },
  {
   "cell_type": "code",
   "execution_count": 7,
   "metadata": {
    "collapsed": true
   },
   "outputs": [],
   "source": [
    "# After this, run inference on networks to see their Q-value heatmaps \n",
    "# for each action across the map"
   ]
  },
  {
   "cell_type": "code",
   "execution_count": 23,
   "metadata": {},
   "outputs": [
    {
     "name": "stdout",
     "output_type": "stream",
     "text": [
      "Last reward: 0.99\n",
      "Last state transition:\n"
     ]
    },
    {
     "data": {
      "image/png": "[encoded data removed]",
      "text/plain": [
       "<matplotlib.figure.Figure at 0x7f6f4028a438>"
      ]
     },
     "metadata": {},
     "output_type": "display_data"
    }
   ],
   "source": [
    "import matplotlib.pyplot as plt\n",
    "% matplotlib inline\n",
    "\n",
    "print(\"Last reward: %.2f\" % rewards[-2])\n",
    "print(\"Last state transition:\")\n",
    "fig, ax = plt.subplots(1, 2)\n",
    "s1 = ax[0].imshow(states[-2].screen_buffer.transpose([1, 2, 0]))\n",
    "s2 = ax[1].imshow(states[-1].screen_buffer.transpose([1, 2, 0]))"
   ]
  },
  {
   "cell_type": "code",
   "execution_count": 18,
   "metadata": {},
   "outputs": [
    {
     "name": "stdout",
     "output_type": "stream",
     "text": [
      "[-0.01, -0.01, -0.01, -0.01, -0.01, -0.01, -0.01, -0.01, -0.01, -0.01, -0.01, -0.01, -0.01, -0.01, -0.01, -0.01, -0.01, -0.01, -0.01, -0.01, -0.01, -0.01, -0.01, -0.01, -0.01, -0.01, -0.01, 0.99, -0.01]\n"
     ]
    }
   ],
   "source": [
    "print(rewards)"
   ]
  },
  {
   "cell_type": "code",
   "execution_count": null,
   "metadata": {
    "collapsed": true
   },
   "outputs": [],
   "source": []
  }
 ],
 "metadata": {
  "kernelspec": {
   "display_name": "Python 3 (vizdoom)",
   "language": "python",
   "name": "vizdoom"
  },
  "language_info": {
   "codemirror_mode": {
    "name": "ipython",
    "version": 3
   },
   "file_extension": ".py",
   "mimetype": "text/x-python",
   "name": "python",
   "nbconvert_exporter": "python",
   "pygments_lexer": "ipython3",
   "version": "3.6.1"
  }
 },
 "nbformat": 4,
 "nbformat_minor": 2
}
