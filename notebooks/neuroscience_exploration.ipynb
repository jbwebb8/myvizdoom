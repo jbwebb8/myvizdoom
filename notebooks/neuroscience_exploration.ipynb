{
 "cells": [
  {
   "cell_type": "markdown",
   "metadata": {},
   "source": [
    "# Neuroscience-inspired Exploration vs. Exploitation\n",
    "In this notebook, we will examine the exploration vs. exploitation trade-off in an agent modeled after two recent papers in the neuroscience literature:\n",
    "\n",
    "The idea is that the norepinephrine and serotonin sytems promote exploration and exploitation, respectively, by modulating system-wide neural activity."
   ]
  },
  {
   "cell_type": "markdown",
   "metadata": {},
   "source": [
    "## Initial setup"
   ]
  },
  {
   "cell_type": "markdown",
   "metadata": {},
   "source": [
    "### Import packages"
   ]
  },
  {
   "cell_type": "code",
   "execution_count": 12,
   "metadata": {},
   "outputs": [
    {
     "name": "stdout",
     "output_type": "stream",
     "text": [
      "The autoreload extension is already loaded. To reload it, use:\n",
      "  %reload_ext autoreload\n"
     ]
    }
   ],
   "source": [
    "# NN packages\n",
    "import numpy as np\n",
    "import tensorflow as tf\n",
    "%load_ext autoreload\n",
    "%autoreload 2\n",
    "\n",
    "# Environment setup\n",
    "import sys\n",
    "sys.path.insert(0, \"../gridworld\")\n",
    "from gridworld import gameEnv\n",
    "\n",
    "# Network setup\n",
    "sys.path.insert(0, \"../python\")\n",
    "from helper import create_agent, create_network, create_wrapper"
   ]
  },
  {
   "cell_type": "markdown",
   "metadata": {},
   "source": [
    "### Load game environment\n",
    "We'll use Arthur Juliani's [gridworld environment](https://github.com/awjuliani/DeepRL-Agents/blob/master/gridworld.py). If this proves too complex, then we can try a simpler gridworld implementation that avoids the need for a convnet."
   ]
  },
  {
   "cell_type": "code",
   "execution_count": 13,
   "metadata": {},
   "outputs": [
    {
     "ename": "ModuleNotFoundError",
     "evalue": "No module named 'Wrapper'",
     "output_type": "error",
     "traceback": [
      "\u001b[0;31m---------------------------------------------------------------------------\u001b[0m",
      "\u001b[0;31mModuleNotFoundError\u001b[0m                       Traceback (most recent call last)",
      "\u001b[0;32m<ipython-input-13-f29edb0e7bbb>\u001b[0m in \u001b[0;36m<module>\u001b[0;34m()\u001b[0m\n\u001b[1;32m      5\u001b[0m \u001b[0;31m# Create env object and game wrapper\u001b[0m\u001b[0;34m\u001b[0m\u001b[0;34m\u001b[0m\u001b[0m\n\u001b[1;32m      6\u001b[0m \u001b[0menv\u001b[0m \u001b[0;34m=\u001b[0m \u001b[0mgameEnv\u001b[0m\u001b[0;34m(\u001b[0m\u001b[0mpartial\u001b[0m\u001b[0;34m=\u001b[0m\u001b[0mpartial_env\u001b[0m\u001b[0;34m,\u001b[0m \u001b[0msize\u001b[0m\u001b[0;34m=\u001b[0m\u001b[0menv_size\u001b[0m\u001b[0;34m)\u001b[0m\u001b[0;34m\u001b[0m\u001b[0m\n\u001b[0;32m----> 7\u001b[0;31m \u001b[0mgame\u001b[0m \u001b[0;34m=\u001b[0m \u001b[0mcreate_wrapper\u001b[0m\u001b[0;34m(\u001b[0m\u001b[0menv\u001b[0m\u001b[0;34m,\u001b[0m \u001b[0menv_type\u001b[0m\u001b[0;34m=\u001b[0m\u001b[0;34m\"gridworld\"\u001b[0m\u001b[0;34m)\u001b[0m\u001b[0;34m\u001b[0m\u001b[0m\n\u001b[0m",
      "\u001b[0;32m~/DRL/myvizdoom/python/helper.py\u001b[0m in \u001b[0;36mcreate_wrapper\u001b[0;34m(env, env_type, **kwargs)\u001b[0m\n\u001b[1;32m     43\u001b[0m \u001b[0;34m\u001b[0m\u001b[0m\n\u001b[1;32m     44\u001b[0m \u001b[0;32mdef\u001b[0m \u001b[0mcreate_wrapper\u001b[0m\u001b[0;34m(\u001b[0m\u001b[0menv\u001b[0m\u001b[0;34m,\u001b[0m \u001b[0menv_type\u001b[0m\u001b[0;34m,\u001b[0m \u001b[0;34m**\u001b[0m\u001b[0mkwargs\u001b[0m\u001b[0;34m)\u001b[0m\u001b[0;34m:\u001b[0m\u001b[0;34m\u001b[0m\u001b[0m\n\u001b[0;32m---> 45\u001b[0;31m     \u001b[0;32mfrom\u001b[0m \u001b[0menv\u001b[0m \u001b[0;32mimport\u001b[0m \u001b[0mGridworld\u001b[0m\u001b[0;34m\u001b[0m\u001b[0m\n\u001b[0m\u001b[1;32m     46\u001b[0m     \u001b[0menv_types\u001b[0m \u001b[0;34m=\u001b[0m \u001b[0;34m{\u001b[0m\u001b[0;34m\"gridworld\"\u001b[0m\u001b[0;34m:\u001b[0m \u001b[0mGridworld\u001b[0m\u001b[0;34m.\u001b[0m\u001b[0mGridworld\u001b[0m\u001b[0;34m}\u001b[0m\u001b[0;34m\u001b[0m\u001b[0m\n\u001b[1;32m     47\u001b[0m     \u001b[0;32mreturn\u001b[0m \u001b[0menv_types\u001b[0m\u001b[0;34m[\u001b[0m\u001b[0menv_type\u001b[0m\u001b[0;34m]\u001b[0m\u001b[0;34m(\u001b[0m\u001b[0menv\u001b[0m\u001b[0;34m,\u001b[0m \u001b[0;34m**\u001b[0m\u001b[0mkwargs\u001b[0m\u001b[0;34m)\u001b[0m\u001b[0;34m\u001b[0m\u001b[0m\n",
      "\u001b[0;32m~/DRL/myvizdoom/python/env/Gridworld.py\u001b[0m in \u001b[0;36m<module>\u001b[0;34m()\u001b[0m\n\u001b[0;32m----> 1\u001b[0;31m \u001b[0;32mfrom\u001b[0m \u001b[0mWrapper\u001b[0m \u001b[0;32mimport\u001b[0m \u001b[0mWrapper\u001b[0m\u001b[0;34m\u001b[0m\u001b[0m\n\u001b[0m\u001b[1;32m      2\u001b[0m \u001b[0;34m\u001b[0m\u001b[0m\n\u001b[1;32m      3\u001b[0m \u001b[0;32mclass\u001b[0m \u001b[0mGridworld\u001b[0m\u001b[0;34m(\u001b[0m\u001b[0mWrapper\u001b[0m\u001b[0;34m)\u001b[0m\u001b[0;34m:\u001b[0m\u001b[0;34m\u001b[0m\u001b[0m\n\u001b[1;32m      4\u001b[0m     \"\"\"\n\u001b[1;32m      5\u001b[0m     \u001b[0mWrapper\u001b[0m \u001b[0;32mclass\u001b[0m \u001b[0;32mfor\u001b[0m \u001b[0mGridworld\u001b[0m \u001b[0menvironment\u001b[0m \u001b[0mto\u001b[0m \u001b[0mconfer\u001b[0m \u001b[0mDoomGame\u001b[0m \u001b[0mfunctions\u001b[0m\u001b[0;34m\u001b[0m\u001b[0m\n",
      "\u001b[0;31mModuleNotFoundError\u001b[0m: No module named 'Wrapper'"
     ]
    }
   ],
   "source": [
    "# Settings\n",
    "partial_env = False\n",
    "env_size = 5\n",
    "\n",
    "# Create env object and game wrapper\n",
    "env = gameEnv(partial=partial_env, size=env_size)\n",
    "game = create_wrapper(env, env_type=\"gridworld\")"
   ]
  },
  {
   "cell_type": "markdown",
   "metadata": {
    "collapsed": true
   },
   "source": [
    "### Create gridworld agent\n",
    "We will utilize the Q-network class instantiated by the `create_network` helper function to build the computational graph. This class will then add basic functions to perform learning steps, make actions, etc."
   ]
  },
  {
   "cell_type": "code",
   "execution_count": null,
   "metadata": {
    "collapsed": true
   },
   "outputs": [],
   "source": [
    "agent_file_path = \"./neuroscience_exploration/dqn_agent.json\"\n",
    "\n",
    "agent = create_agent(agent_file_path,\n",
    "                     game=env, \n",
    "                     params_file=params_file_path,\n",
    "                     action_set=action_set,\n",
    "                     output_directory=results_dir)"
   ]
  },
  {
   "cell_type": "markdown",
   "metadata": {},
   "source": [
    "## Exploration: LC-NE\n",
    "First, we will look at adaptive gain theory, which, in so many words, states that LC-NE promotes exploratory activity by essentially increasing noise in the system. In the same way, we can add a noisy layer to some combination of input and hidden units that is controlled by a learned parameter–that is, the agent learns how much noise to inject at a given state to promote exploration.\n",
    "\n",
    "The network will be a simple DQN created from the JSON file building scheme. For now, the only addition will be a noisy layer that feeds into the hidden layer. We will then create a parameter that controls the level of this noise as a placeholder, the value of which will can be modulated in several ways:\n",
    "- Simple **linear decay** over training (much like the epislon-decay scheme commonly used)\n",
    "- Proportional to **recent performance** (such as moving average of reward)\n",
    "- **Learned** through training (a function of the input and/or hidden values)\n",
    "\n",
    "We will examine each of them in order, but first we will look at the positive control: **epsilon-greedy exploration**."
   ]
  },
  {
   "cell_type": "markdown",
   "metadata": {},
   "source": [
    "### Epsilon-greedy exploration"
   ]
  },
  {
   "cell_type": "code",
   "execution_count": null,
   "metadata": {
    "collapsed": true
   },
   "outputs": [],
   "source": [
    "net = create_network()"
   ]
  },
  {
   "cell_type": "markdown",
   "metadata": {},
   "source": [
    "### Noise controlled by linear decay"
   ]
  },
  {
   "cell_type": "code",
   "execution_count": null,
   "metadata": {
    "collapsed": true
   },
   "outputs": [],
   "source": []
  }
 ],
 "metadata": {
  "kernelspec": {
   "display_name": "Python 3 (vizdoom)",
   "language": "python",
   "name": "vizdoom"
  },
  "language_info": {
   "codemirror_mode": {
    "name": "ipython",
    "version": 3
   },
   "file_extension": ".py",
   "mimetype": "text/x-python",
   "name": "python",
   "nbconvert_exporter": "python",
   "pygments_lexer": "ipython3",
   "version": "3.6.1"
  }
 },
 "nbformat": 4,
 "nbformat_minor": 2
}
