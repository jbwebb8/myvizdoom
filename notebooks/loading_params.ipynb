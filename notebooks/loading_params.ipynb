{
 "cells": [
  {
   "cell_type": "markdown",
   "metadata": {},
   "source": [
    "# Loading Parameters\n",
    "The network output is different when running on GPU vs. CPU, presumably due to formatting differences (NCHW vs. NHWC). Is this the case, and if so, can it be fixed?"
   ]
  },
  {
   "cell_type": "markdown",
   "metadata": {},
   "source": [
    "## Initial setup"
   ]
  },
  {
   "cell_type": "code",
   "execution_count": 1,
   "metadata": {
    "collapsed": false
   },
   "outputs": [],
   "source": [
    "import sys\n",
    "sys.path.insert(0, \"../python\")\n",
    "from vizdoom import *\n",
    "import tensorflow as tf\n",
    "from helper import create_agent\n",
    "%load_ext autoreload\n",
    "%autoreload 2"
   ]
  },
  {
   "cell_type": "code",
   "execution_count": 2,
   "metadata": {
    "collapsed": true
   },
   "outputs": [],
   "source": [
    "import os\n",
    "import numpy as np"
   ]
  },
  {
   "cell_type": "code",
   "execution_count": 3,
   "metadata": {
    "collapsed": true
   },
   "outputs": [],
   "source": [
    "# Initializes DoomGame from config file\n",
    "def initialize_vizdoom(config_file):\n",
    "    game = DoomGame()\n",
    "    game.load_config(config_file)\n",
    "    game.init()\n",
    "    return game  "
   ]
  },
  {
   "cell_type": "code",
   "execution_count": 4,
   "metadata": {
    "collapsed": true
   },
   "outputs": [],
   "source": [
    "agent_file_path = \"../agents/ddqn_dm2015_1.json\"\n",
    "config_file_path = \"../config/linear_track.cfg\"\n",
    "results_dir = \"./loading_params/results_dir\"\n",
    "action_set = \"basic_four\"\n",
    "params_file_path = \"../experiments/linear_track_1/trial_20/train_data/net_data/main_net/params/train_model-100\""
   ]
  },
  {
   "cell_type": "markdown",
   "metadata": {},
   "source": [
    "## CPU results\n",
    "By setting the environment variable `CUDA_VISIBLE_DEVICES` to empty, we force TensorFlow to load everything on the CPU. The trained network on the GPU had output Q values for the initial state around -4.5 for all actions."
   ]
  },
  {
   "cell_type": "code",
   "execution_count": 20,
   "metadata": {
    "collapsed": false
   },
   "outputs": [
    {
     "name": "stdout",
     "output_type": "stream",
     "text": [
      "INFO:tensorflow:Restoring parameters from ../experiments/linear_track_1/trial_20/train_data/net_data/main_net/params/train_model-100\n",
      "data format:  NHWC\n",
      "state shape:  (84, 84, 12)\n",
      "Q:  [[-21.41444397 -23.56121445 -21.40477943 -19.81874275]]\n"
     ]
    }
   ],
   "source": [
    "os.environ[\"CUDA_VISIBLE_DEVICES\"]=\"\"\n",
    "tf.reset_default_graph()\n",
    "game = initialize_vizdoom(config_file_path)\n",
    "agent = create_agent(agent_file_path,\n",
    "                     game=game, \n",
    "                     params_file=params_file_path,\n",
    "                     action_set=action_set,\n",
    "                     output_directory=results_dir,\n",
    "                     train_mode=False)\n",
    "agent.initialize_new_episode()\n",
    "current_screen = game.get_state().screen_buffer\n",
    "agent.update_state(current_screen)\n",
    "print(\"data format: \", agent.network.data_format)\n",
    "print(\"state shape: \", agent.state.shape)\n",
    "print(\"Q: \", agent.network.get_q_values(agent.state))"
   ]
  },
  {
   "cell_type": "markdown",
   "metadata": {},
   "source": [
    "Clearly, these values are off. What are the shapes of the variables and layers in this NHWC format?"
   ]
  },
  {
   "cell_type": "code",
   "execution_count": 21,
   "metadata": {
    "collapsed": false
   },
   "outputs": [
    {
     "name": "stdout",
     "output_type": "stream",
     "text": [
      "<tf.Variable 'main_network/CONV_1/weights:0' shape=(8, 8, 12, 32) dtype=float32_ref>\n",
      "<tf.Variable 'main_network/CONV_1/biases:0' shape=(32,) dtype=float32_ref>\n",
      "<tf.Variable 'main_network/CONV_2/weights:0' shape=(4, 4, 32, 64) dtype=float32_ref>\n",
      "<tf.Variable 'main_network/CONV_2/biases:0' shape=(64,) dtype=float32_ref>\n",
      "<tf.Variable 'main_network/main_network/CONV_1/weights/RMSProp:0' shape=(8, 8, 12, 32) dtype=float32_ref>\n",
      "<tf.Variable 'main_network/main_network/CONV_1/weights/RMSProp_1:0' shape=(8, 8, 12, 32) dtype=float32_ref>\n",
      "<tf.Variable 'main_network/main_network/CONV_1/biases/RMSProp:0' shape=(32,) dtype=float32_ref>\n",
      "<tf.Variable 'main_network/main_network/CONV_1/biases/RMSProp_1:0' shape=(32,) dtype=float32_ref>\n",
      "<tf.Variable 'main_network/main_network/CONV_2/weights/RMSProp:0' shape=(4, 4, 32, 64) dtype=float32_ref>\n",
      "<tf.Variable 'main_network/main_network/CONV_2/weights/RMSProp_1:0' shape=(4, 4, 32, 64) dtype=float32_ref>\n",
      "<tf.Variable 'main_network/main_network/CONV_2/biases/RMSProp:0' shape=(64,) dtype=float32_ref>\n",
      "<tf.Variable 'main_network/main_network/CONV_2/biases/RMSProp_1:0' shape=(64,) dtype=float32_ref>\n",
      "Tensor(\"main_network/CONV_1/Relu:0\", shape=(?, 20, 20, 32), dtype=float32)\n"
     ]
    }
   ],
   "source": [
    "[print(v) for v in tf.get_collection(tf.GraphKeys.GLOBAL_VARIABLES, scope=\"main_network\") \\\n",
    " if \"CONV\" in v.name]\n",
    "print(tf.get_default_graph().get_tensor_by_name(\"main_network/CONV_1/Relu:0\"))"
   ]
  },
  {
   "cell_type": "markdown",
   "metadata": {},
   "source": [
    "Okay, does creating the network without loading parameters change anything?"
   ]
  },
  {
   "cell_type": "code",
   "execution_count": 22,
   "metadata": {
    "collapsed": false
   },
   "outputs": [
    {
     "name": "stdout",
     "output_type": "stream",
     "text": [
      "<tf.Variable 'main_network/CONV_1/weights:0' shape=(8, 8, 12, 32) dtype=float32_ref>\n",
      "<tf.Variable 'main_network/CONV_1/biases:0' shape=(32,) dtype=float32_ref>\n",
      "<tf.Variable 'main_network/CONV_2/weights:0' shape=(4, 4, 32, 64) dtype=float32_ref>\n",
      "<tf.Variable 'main_network/CONV_2/biases:0' shape=(64,) dtype=float32_ref>\n",
      "<tf.Variable 'main_network/main_network/CONV_1/weights/RMSProp:0' shape=(8, 8, 12, 32) dtype=float32_ref>\n",
      "<tf.Variable 'main_network/main_network/CONV_1/weights/RMSProp_1:0' shape=(8, 8, 12, 32) dtype=float32_ref>\n",
      "<tf.Variable 'main_network/main_network/CONV_1/biases/RMSProp:0' shape=(32,) dtype=float32_ref>\n",
      "<tf.Variable 'main_network/main_network/CONV_1/biases/RMSProp_1:0' shape=(32,) dtype=float32_ref>\n",
      "<tf.Variable 'main_network/main_network/CONV_2/weights/RMSProp:0' shape=(4, 4, 32, 64) dtype=float32_ref>\n",
      "<tf.Variable 'main_network/main_network/CONV_2/weights/RMSProp_1:0' shape=(4, 4, 32, 64) dtype=float32_ref>\n",
      "<tf.Variable 'main_network/main_network/CONV_2/biases/RMSProp:0' shape=(64,) dtype=float32_ref>\n",
      "<tf.Variable 'main_network/main_network/CONV_2/biases/RMSProp_1:0' shape=(64,) dtype=float32_ref>\n",
      "Tensor(\"main_network/CONV_1/Relu:0\", shape=(?, 20, 20, 32), dtype=float32)\n"
     ]
    }
   ],
   "source": [
    "tf.reset_default_graph()\n",
    "game = initialize_vizdoom(config_file_path)\n",
    "agent = create_agent(agent_file_path,\n",
    "                     game=game, \n",
    "                     params_file=None,\n",
    "                     action_set=action_set,\n",
    "                     output_directory=results_dir,\n",
    "                     train_mode=False)\n",
    "[print(v) for v in tf.get_collection(tf.GraphKeys.GLOBAL_VARIABLES, scope=\"main_network\") \\\n",
    " if \"CONV\" in v.name]\n",
    "print(tf.get_default_graph().get_tensor_by_name(\"main_network/CONV_1/Relu:0\"))"
   ]
  },
  {
   "cell_type": "markdown",
   "metadata": {},
   "source": [
    "No, the shapes are the same. What are the values of the weights and intermediate layers?"
   ]
  },
  {
   "cell_type": "code",
   "execution_count": 33,
   "metadata": {
    "collapsed": false
   },
   "outputs": [
    {
     "name": "stdout",
     "output_type": "stream",
     "text": [
      "INFO:tensorflow:Restoring parameters from ../experiments/linear_track_1/trial_20/train_data/net_data/main_net/params/train_model-100\n",
      "CONV_1 weights:  [[-0.21754628 -0.02670558  0.17301919 -0.21873856 -0.04389495 -0.21369149\n",
      "   0.33146971 -0.16915736]\n",
      " [ 0.09168395  0.23878217  0.2326481   0.02665762 -0.2114628  -0.03435934\n",
      "   0.07497527 -0.26659325]\n",
      " [-0.25824946  0.06228131  0.14520782 -0.00580286 -0.28452948 -0.30995023\n",
      "  -0.14012729 -0.19221263]\n",
      " [-0.12438106  0.06364045  0.25386235 -0.09242661 -0.24531648 -0.28857112\n",
      "  -0.04376693 -0.07326075]\n",
      " [ 0.0009142   0.05994602  0.0938239  -0.1217043  -0.2188206  -0.12539618\n",
      "   0.04423197 -0.15963058]\n",
      " [ 0.06693146  0.05401253 -0.17208847  0.02707538 -0.20046464  0.02171924\n",
      "   0.11382003 -0.08820896]\n",
      " [ 0.02807241  0.02692594 -0.14877053 -0.15393072 -0.2587145   0.0991367\n",
      "   0.18433155 -0.17461354]\n",
      " [-0.1480585  -0.24462163 -0.24611878 -0.00386733 -0.34481272  0.0156329\n",
      "   0.05573718 -0.14490856]]\n",
      "CONV_1 biases:  [-0.06518342  0.07556296  0.66925728  0.23798732  0.07687632]\n",
      "CONV_2 weights:  [[-0.00353002  0.04464573  0.0768547   0.11665118]\n",
      " [ 0.31979382  0.24274419 -0.22150366  0.59730273]\n",
      " [-0.18035831  0.09146626  0.51631498 -0.39694983]\n",
      " [-0.1608742   0.3044132   0.13294473 -0.27330166]]\n",
      "CONV_2 biases:  [-0.62437266 -0.42566103 -0.57288784 -0.60425794 -0.50744063]\n",
      "CONV_1 output:  [[ 0.03837261  0.26594603  0.29002607  0.26074293  0.25854298]\n",
      " [ 0.20793968  0.09130857  0.12054066  0.12953535  0.44114196]\n",
      " [ 0.204276    0.11779773  0.17113645  0.0692721   0.20673428]\n",
      " [ 0.21371049  0.28638342  0.11607227  0.05713356  0.05935973]\n",
      " [ 0.15736553  0.1060152   0.15089522  0.26303053  0.01551646]]\n"
     ]
    }
   ],
   "source": [
    "tf.reset_default_graph()\n",
    "game = initialize_vizdoom(config_file_path)\n",
    "agent = create_agent(agent_file_path,\n",
    "                     game=game, \n",
    "                     params_file=params_file_path,\n",
    "                     action_set=action_set,\n",
    "                     output_directory=results_dir,\n",
    "                     train_mode=False)\n",
    "agent.initialize_new_episode()\n",
    "sess = agent.network.sess\n",
    "s1 = agent.network._check_state(agent.state)\n",
    "fd = {agent.network.state: s1}\n",
    "conv1_w = tf.get_default_graph().get_tensor_by_name(\"main_network/CONV_1/weights:0\")\n",
    "print(\"CONV_1 weights: \", sess.run(conv1_w[:, :, 0, 0]))\n",
    "conv1_b = tf.get_default_graph().get_tensor_by_name(\"main_network/CONV_1/biases:0\")\n",
    "print(\"CONV_1 biases: \", sess.run(conv1_b[:5]))\n",
    "conv2_w = tf.get_default_graph().get_tensor_by_name(\"main_network/CONV_2/weights:0\")\n",
    "print(\"CONV_2 weights: \", sess.run(conv2_w[:, :, 0, 0]))\n",
    "conv2_b = tf.get_default_graph().get_tensor_by_name(\"main_network/CONV_2/biases:0\")\n",
    "print(\"CONV_2 biases: \", sess.run(conv2_b[:5]))\n",
    "conv1_relu = tf.get_default_graph().get_tensor_by_name(\"main_network/CONV_1/Relu:0\")\n",
    "print(\"CONV_1 output: \", sess.run(conv1_relu, feed_dict=fd)[0, :5, :5, 10])"
   ]
  },
  {
   "cell_type": "markdown",
   "metadata": {},
   "source": [
    "## GPU Results\n",
    "Let's compare the values above to those on the GPU. We first must restart the kernel and set the environment variable prior to importing tensorflow."
   ]
  },
  {
   "cell_type": "code",
   "execution_count": null,
   "metadata": {
    "collapsed": true
   },
   "outputs": [],
   "source": [
    "os.environ[\"CUDA_VISIBLE_DEVICES\"]=\"1\"\n",
    "# Now run initial setup cells"
   ]
  },
  {
   "cell_type": "code",
   "execution_count": null,
   "metadata": {
    "collapsed": true
   },
   "outputs": [],
   "source": [
    "from tensorflow.python.client import device_lib\n",
    "print(device_lib.list_local_devices())"
   ]
  },
  {
   "cell_type": "code",
   "execution_count": 7,
   "metadata": {
    "collapsed": false
   },
   "outputs": [
    {
     "name": "stdout",
     "output_type": "stream",
     "text": [
      "INFO:tensorflow:Restoring parameters from ../experiments/linear_track_1/trial_20/train_data/net_data/main_net/params/train_model-100\n"
     ]
    },
    {
     "ename": "ResourceExhaustedError",
     "evalue": "OOM when allocating tensor with shape[4,4,32,64]\n\t [[Node: main_network/save/Assign_3 = Assign[T=DT_FLOAT, _class=[\"loc:@main_network/CONV_2/weights\"], use_locking=true, validate_shape=true, _device=\"/job:localhost/replica:0/task:0/gpu:0\"](main_network/CONV_2/weights, main_network/save/RestoreV2_3/_43)]]\n\nCaused by op 'main_network/save/Assign_3', defined at:\n  File \"/home/james/anaconda3/envs/vizdoom/lib/python3.6/runpy.py\", line 193, in _run_module_as_main\n    \"__main__\", mod_spec)\n  File \"/home/james/anaconda3/envs/vizdoom/lib/python3.6/runpy.py\", line 85, in _run_code\n    exec(code, run_globals)\n  File \"/home/james/anaconda3/envs/vizdoom/lib/python3.6/site-packages/ipykernel_launcher.py\", line 16, in <module>\n    app.launch_new_instance()\n  File \"/home/james/anaconda3/envs/vizdoom/lib/python3.6/site-packages/traitlets/config/application.py\", line 658, in launch_instance\n    app.start()\n  File \"/home/james/anaconda3/envs/vizdoom/lib/python3.6/site-packages/ipykernel/kernelapp.py\", line 477, in start\n    ioloop.IOLoop.instance().start()\n  File \"/home/james/anaconda3/envs/vizdoom/lib/python3.6/site-packages/zmq/eventloop/ioloop.py\", line 177, in start\n    super(ZMQIOLoop, self).start()\n  File \"/home/james/anaconda3/envs/vizdoom/lib/python3.6/site-packages/tornado/ioloop.py\", line 888, in start\n    handler_func(fd_obj, events)\n  File \"/home/james/anaconda3/envs/vizdoom/lib/python3.6/site-packages/tornado/stack_context.py\", line 277, in null_wrapper\n    return fn(*args, **kwargs)\n  File \"/home/james/anaconda3/envs/vizdoom/lib/python3.6/site-packages/zmq/eventloop/zmqstream.py\", line 440, in _handle_events\n    self._handle_recv()\n  File \"/home/james/anaconda3/envs/vizdoom/lib/python3.6/site-packages/zmq/eventloop/zmqstream.py\", line 472, in _handle_recv\n    self._run_callback(callback, msg)\n  File \"/home/james/anaconda3/envs/vizdoom/lib/python3.6/site-packages/zmq/eventloop/zmqstream.py\", line 414, in _run_callback\n    callback(*args, **kwargs)\n  File \"/home/james/anaconda3/envs/vizdoom/lib/python3.6/site-packages/tornado/stack_context.py\", line 277, in null_wrapper\n    return fn(*args, **kwargs)\n  File \"/home/james/anaconda3/envs/vizdoom/lib/python3.6/site-packages/ipykernel/kernelbase.py\", line 283, in dispatcher\n    return self.dispatch_shell(stream, msg)\n  File \"/home/james/anaconda3/envs/vizdoom/lib/python3.6/site-packages/ipykernel/kernelbase.py\", line 235, in dispatch_shell\n    handler(stream, idents, msg)\n  File \"/home/james/anaconda3/envs/vizdoom/lib/python3.6/site-packages/ipykernel/kernelbase.py\", line 399, in execute_request\n    user_expressions, allow_stdin)\n  File \"/home/james/anaconda3/envs/vizdoom/lib/python3.6/site-packages/ipykernel/ipkernel.py\", line 196, in do_execute\n    res = shell.run_cell(code, store_history=store_history, silent=silent)\n  File \"/home/james/anaconda3/envs/vizdoom/lib/python3.6/site-packages/ipykernel/zmqshell.py\", line 533, in run_cell\n    return super(ZMQInteractiveShell, self).run_cell(*args, **kwargs)\n  File \"/home/james/anaconda3/envs/vizdoom/lib/python3.6/site-packages/IPython/core/interactiveshell.py\", line 2698, in run_cell\n    interactivity=interactivity, compiler=compiler, result=result)\n  File \"/home/james/anaconda3/envs/vizdoom/lib/python3.6/site-packages/IPython/core/interactiveshell.py\", line 2802, in run_ast_nodes\n    if self.run_code(code, result):\n  File \"/home/james/anaconda3/envs/vizdoom/lib/python3.6/site-packages/IPython/core/interactiveshell.py\", line 2862, in run_code\n    exec(code_obj, self.user_global_ns, self.user_ns)\n  File \"<ipython-input-7-32a9a711a612>\", line 9, in <module>\n    train_mode=False)\n  File \"../python/helper.py\", line 17, in create_agent\n    return agent_types[agent_type](agent_file=agent_filename, **kwargs)\n  File \"../python/agent/DDQNAgent.py\", line 18, in __init__\n    **kwargs)\n  File \"../python/agent/DQNAgent.py\", line 71, in __init__\n    **kwargs)\n  File \"../python/agent/Agent.py\", line 113, in __init__\n    scope=self.MAIN_SCOPE)\n  File \"../python/helper.py\", line 26, in create_network\n    return network_types[net_type](network_file=network_filename, **kwargs)\n  File \"../python/network/DQNetwork.py\", line 31, in __init__\n    scope=scope)\n  File \"../python/network/Network.py\", line 80, in __init__\n    self.saver = tf.train.Saver(max_to_keep=None)\n  File \"/home/james/anaconda3/envs/vizdoom/lib/python3.6/site-packages/tensorflow/python/training/saver.py\", line 1056, in __init__\n    self.build()\n  File \"/home/james/anaconda3/envs/vizdoom/lib/python3.6/site-packages/tensorflow/python/training/saver.py\", line 1086, in build\n    restore_sequentially=self._restore_sequentially)\n  File \"/home/james/anaconda3/envs/vizdoom/lib/python3.6/site-packages/tensorflow/python/training/saver.py\", line 691, in build\n    restore_sequentially, reshape)\n  File \"/home/james/anaconda3/envs/vizdoom/lib/python3.6/site-packages/tensorflow/python/training/saver.py\", line 419, in _AddRestoreOps\n    assign_ops.append(saveable.restore(tensors, shapes))\n  File \"/home/james/anaconda3/envs/vizdoom/lib/python3.6/site-packages/tensorflow/python/training/saver.py\", line 155, in restore\n    self.op.get_shape().is_fully_defined())\n  File \"/home/james/anaconda3/envs/vizdoom/lib/python3.6/site-packages/tensorflow/python/ops/state_ops.py\", line 270, in assign\n    validate_shape=validate_shape)\n  File \"/home/james/anaconda3/envs/vizdoom/lib/python3.6/site-packages/tensorflow/python/ops/gen_state_ops.py\", line 47, in assign\n    use_locking=use_locking, name=name)\n  File \"/home/james/anaconda3/envs/vizdoom/lib/python3.6/site-packages/tensorflow/python/framework/op_def_library.py\", line 768, in apply_op\n    op_def=op_def)\n  File \"/home/james/anaconda3/envs/vizdoom/lib/python3.6/site-packages/tensorflow/python/framework/ops.py\", line 2336, in create_op\n    original_op=self._default_original_op, op_def=op_def)\n  File \"/home/james/anaconda3/envs/vizdoom/lib/python3.6/site-packages/tensorflow/python/framework/ops.py\", line 1228, in __init__\n    self._traceback = _extract_stack()\n\nResourceExhaustedError (see above for traceback): OOM when allocating tensor with shape[4,4,32,64]\n\t [[Node: main_network/save/Assign_3 = Assign[T=DT_FLOAT, _class=[\"loc:@main_network/CONV_2/weights\"], use_locking=true, validate_shape=true, _device=\"/job:localhost/replica:0/task:0/gpu:0\"](main_network/CONV_2/weights, main_network/save/RestoreV2_3/_43)]]\n",
     "output_type": "error",
     "traceback": [
      "\u001b[0;31m---------------------------------------------------------------------------\u001b[0m",
      "\u001b[0;31mResourceExhaustedError\u001b[0m                    Traceback (most recent call last)",
      "\u001b[0;32m~/anaconda3/envs/vizdoom/lib/python3.6/site-packages/tensorflow/python/client/session.py\u001b[0m in \u001b[0;36m_do_call\u001b[0;34m(self, fn, *args)\u001b[0m\n\u001b[1;32m   1038\u001b[0m     \u001b[0;32mtry\u001b[0m\u001b[0;34m:\u001b[0m\u001b[0;34m\u001b[0m\u001b[0m\n\u001b[0;32m-> 1039\u001b[0;31m       \u001b[0;32mreturn\u001b[0m \u001b[0mfn\u001b[0m\u001b[0;34m(\u001b[0m\u001b[0;34m*\u001b[0m\u001b[0margs\u001b[0m\u001b[0;34m)\u001b[0m\u001b[0;34m\u001b[0m\u001b[0m\n\u001b[0m\u001b[1;32m   1040\u001b[0m     \u001b[0;32mexcept\u001b[0m \u001b[0merrors\u001b[0m\u001b[0;34m.\u001b[0m\u001b[0mOpError\u001b[0m \u001b[0;32mas\u001b[0m \u001b[0me\u001b[0m\u001b[0;34m:\u001b[0m\u001b[0;34m\u001b[0m\u001b[0m\n",
      "\u001b[0;32m~/anaconda3/envs/vizdoom/lib/python3.6/site-packages/tensorflow/python/client/session.py\u001b[0m in \u001b[0;36m_run_fn\u001b[0;34m(session, feed_dict, fetch_list, target_list, options, run_metadata)\u001b[0m\n\u001b[1;32m   1020\u001b[0m                                  \u001b[0mfeed_dict\u001b[0m\u001b[0;34m,\u001b[0m \u001b[0mfetch_list\u001b[0m\u001b[0;34m,\u001b[0m \u001b[0mtarget_list\u001b[0m\u001b[0;34m,\u001b[0m\u001b[0;34m\u001b[0m\u001b[0m\n\u001b[0;32m-> 1021\u001b[0;31m                                  status, run_metadata)\n\u001b[0m\u001b[1;32m   1022\u001b[0m \u001b[0;34m\u001b[0m\u001b[0m\n",
      "\u001b[0;32m~/anaconda3/envs/vizdoom/lib/python3.6/contextlib.py\u001b[0m in \u001b[0;36m__exit__\u001b[0;34m(self, type, value, traceback)\u001b[0m\n\u001b[1;32m     88\u001b[0m             \u001b[0;32mtry\u001b[0m\u001b[0;34m:\u001b[0m\u001b[0;34m\u001b[0m\u001b[0m\n\u001b[0;32m---> 89\u001b[0;31m                 \u001b[0mnext\u001b[0m\u001b[0;34m(\u001b[0m\u001b[0mself\u001b[0m\u001b[0;34m.\u001b[0m\u001b[0mgen\u001b[0m\u001b[0;34m)\u001b[0m\u001b[0;34m\u001b[0m\u001b[0m\n\u001b[0m\u001b[1;32m     90\u001b[0m             \u001b[0;32mexcept\u001b[0m \u001b[0mStopIteration\u001b[0m\u001b[0;34m:\u001b[0m\u001b[0;34m\u001b[0m\u001b[0m\n",
      "\u001b[0;32m~/anaconda3/envs/vizdoom/lib/python3.6/site-packages/tensorflow/python/framework/errors_impl.py\u001b[0m in \u001b[0;36mraise_exception_on_not_ok_status\u001b[0;34m()\u001b[0m\n\u001b[1;32m    465\u001b[0m           \u001b[0mcompat\u001b[0m\u001b[0;34m.\u001b[0m\u001b[0mas_text\u001b[0m\u001b[0;34m(\u001b[0m\u001b[0mpywrap_tensorflow\u001b[0m\u001b[0;34m.\u001b[0m\u001b[0mTF_Message\u001b[0m\u001b[0;34m(\u001b[0m\u001b[0mstatus\u001b[0m\u001b[0;34m)\u001b[0m\u001b[0;34m)\u001b[0m\u001b[0;34m,\u001b[0m\u001b[0;34m\u001b[0m\u001b[0m\n\u001b[0;32m--> 466\u001b[0;31m           pywrap_tensorflow.TF_GetCode(status))\n\u001b[0m\u001b[1;32m    467\u001b[0m   \u001b[0;32mfinally\u001b[0m\u001b[0;34m:\u001b[0m\u001b[0;34m\u001b[0m\u001b[0m\n",
      "\u001b[0;31mResourceExhaustedError\u001b[0m: OOM when allocating tensor with shape[4,4,32,64]\n\t [[Node: main_network/save/Assign_3 = Assign[T=DT_FLOAT, _class=[\"loc:@main_network/CONV_2/weights\"], use_locking=true, validate_shape=true, _device=\"/job:localhost/replica:0/task:0/gpu:0\"](main_network/CONV_2/weights, main_network/save/RestoreV2_3/_43)]]",
      "\nDuring handling of the above exception, another exception occurred:\n",
      "\u001b[0;31mResourceExhaustedError\u001b[0m                    Traceback (most recent call last)",
      "\u001b[0;32m<ipython-input-7-32a9a711a612>\u001b[0m in \u001b[0;36m<module>\u001b[0;34m()\u001b[0m\n\u001b[1;32m      7\u001b[0m                      \u001b[0maction_set\u001b[0m\u001b[0;34m=\u001b[0m\u001b[0maction_set\u001b[0m\u001b[0;34m,\u001b[0m\u001b[0;34m\u001b[0m\u001b[0m\n\u001b[1;32m      8\u001b[0m                      \u001b[0moutput_directory\u001b[0m\u001b[0;34m=\u001b[0m\u001b[0mresults_dir\u001b[0m\u001b[0;34m,\u001b[0m\u001b[0;34m\u001b[0m\u001b[0m\n\u001b[0;32m----> 9\u001b[0;31m                      train_mode=False)\n\u001b[0m\u001b[1;32m     10\u001b[0m \u001b[0magent\u001b[0m\u001b[0;34m.\u001b[0m\u001b[0minitialize_new_episode\u001b[0m\u001b[0;34m(\u001b[0m\u001b[0;34m)\u001b[0m\u001b[0;34m\u001b[0m\u001b[0m\n\u001b[1;32m     11\u001b[0m \u001b[0mcurrent_screen\u001b[0m \u001b[0;34m=\u001b[0m \u001b[0mgame\u001b[0m\u001b[0;34m.\u001b[0m\u001b[0mget_state\u001b[0m\u001b[0;34m(\u001b[0m\u001b[0;34m)\u001b[0m\u001b[0;34m.\u001b[0m\u001b[0mscreen_buffer\u001b[0m\u001b[0;34m\u001b[0m\u001b[0m\n",
      "\u001b[0;32m~/DRL/ViZDoom/myvizdoom/python/helper.py\u001b[0m in \u001b[0;36mcreate_agent\u001b[0;34m(agent_filename, **kwargs)\u001b[0m\n\u001b[1;32m     15\u001b[0m     \u001b[0magent_file\u001b[0m \u001b[0;34m=\u001b[0m \u001b[0mjson\u001b[0m\u001b[0;34m.\u001b[0m\u001b[0mloads\u001b[0m\u001b[0;34m(\u001b[0m\u001b[0mopen\u001b[0m\u001b[0;34m(\u001b[0m\u001b[0magent_filename\u001b[0m\u001b[0;34m)\u001b[0m\u001b[0;34m.\u001b[0m\u001b[0mread\u001b[0m\u001b[0;34m(\u001b[0m\u001b[0;34m)\u001b[0m\u001b[0;34m)\u001b[0m\u001b[0;34m\u001b[0m\u001b[0m\n\u001b[1;32m     16\u001b[0m     \u001b[0magent_type\u001b[0m \u001b[0;34m=\u001b[0m \u001b[0magent_file\u001b[0m\u001b[0;34m[\u001b[0m\u001b[0;34m\"agent_args\"\u001b[0m\u001b[0;34m]\u001b[0m\u001b[0;34m[\u001b[0m\u001b[0;34m\"type\"\u001b[0m\u001b[0;34m]\u001b[0m\u001b[0;34m\u001b[0m\u001b[0m\n\u001b[0;32m---> 17\u001b[0;31m     \u001b[0;32mreturn\u001b[0m \u001b[0magent_types\u001b[0m\u001b[0;34m[\u001b[0m\u001b[0magent_type\u001b[0m\u001b[0;34m]\u001b[0m\u001b[0;34m(\u001b[0m\u001b[0magent_file\u001b[0m\u001b[0;34m=\u001b[0m\u001b[0magent_filename\u001b[0m\u001b[0;34m,\u001b[0m \u001b[0;34m**\u001b[0m\u001b[0mkwargs\u001b[0m\u001b[0;34m)\u001b[0m\u001b[0;34m\u001b[0m\u001b[0m\n\u001b[0m\u001b[1;32m     18\u001b[0m \u001b[0;34m\u001b[0m\u001b[0m\n\u001b[1;32m     19\u001b[0m \u001b[0;32mdef\u001b[0m \u001b[0mcreate_network\u001b[0m\u001b[0;34m(\u001b[0m\u001b[0mnetwork_filename\u001b[0m\u001b[0;34m,\u001b[0m \u001b[0;34m**\u001b[0m\u001b[0mkwargs\u001b[0m\u001b[0;34m)\u001b[0m\u001b[0;34m:\u001b[0m\u001b[0;34m\u001b[0m\u001b[0m\n",
      "\u001b[0;32m~/DRL/ViZDoom/myvizdoom/python/agent/DDQNAgent.py\u001b[0m in \u001b[0;36m__init__\u001b[0;34m(self, game, output_directory, agent_file, params_file, train_mode, action_set, frame_repeat, **kwargs)\u001b[0m\n\u001b[1;32m     16\u001b[0m                           \u001b[0maction_set\u001b[0m\u001b[0;34m=\u001b[0m\u001b[0maction_set\u001b[0m\u001b[0;34m,\u001b[0m\u001b[0;34m\u001b[0m\u001b[0m\n\u001b[1;32m     17\u001b[0m                           \u001b[0mframe_repeat\u001b[0m\u001b[0;34m=\u001b[0m\u001b[0mframe_repeat\u001b[0m\u001b[0;34m,\u001b[0m\u001b[0;34m\u001b[0m\u001b[0m\n\u001b[0;32m---> 18\u001b[0;31m                           **kwargs)\n\u001b[0m\u001b[1;32m     19\u001b[0m \u001b[0;34m\u001b[0m\u001b[0m\n\u001b[1;32m     20\u001b[0m     \u001b[0;31m# Override DQN update function with Double DQN update\u001b[0m\u001b[0;34m\u001b[0m\u001b[0;34m\u001b[0m\u001b[0m\n",
      "\u001b[0;32m~/DRL/ViZDoom/myvizdoom/python/agent/DQNAgent.py\u001b[0m in \u001b[0;36m__init__\u001b[0;34m(self, game, output_directory, agent_file, params_file, train_mode, action_set, frame_repeat, **kwargs)\u001b[0m\n\u001b[1;32m     69\u001b[0m                        \u001b[0maction_set\u001b[0m\u001b[0;34m=\u001b[0m\u001b[0maction_set\u001b[0m\u001b[0;34m,\u001b[0m\u001b[0;34m\u001b[0m\u001b[0m\n\u001b[1;32m     70\u001b[0m                        \u001b[0mframe_repeat\u001b[0m\u001b[0;34m=\u001b[0m\u001b[0mframe_repeat\u001b[0m\u001b[0;34m,\u001b[0m\u001b[0;34m\u001b[0m\u001b[0m\n\u001b[0;32m---> 71\u001b[0;31m                        **kwargs)\n\u001b[0m\u001b[1;32m     72\u001b[0m \u001b[0;34m\u001b[0m\u001b[0m\n\u001b[1;32m     73\u001b[0m         \u001b[0;31m# Load DQN-specific learning and network parameters\u001b[0m\u001b[0;34m\u001b[0m\u001b[0;34m\u001b[0m\u001b[0m\n",
      "\u001b[0;32m~/DRL/ViZDoom/myvizdoom/python/agent/Agent.py\u001b[0m in \u001b[0;36m__init__\u001b[0;34m(self, game, output_directory, agent_file, params_file, train_mode, action_set, frame_repeat, **kwargs)\u001b[0m\n\u001b[1;32m    111\u001b[0m                                       \u001b[0moutput_directory\u001b[0m\u001b[0;34m=\u001b[0m\u001b[0mself\u001b[0m\u001b[0;34m.\u001b[0m\u001b[0mmain_net_dir\u001b[0m\u001b[0;34m,\u001b[0m\u001b[0;34m\u001b[0m\u001b[0m\n\u001b[1;32m    112\u001b[0m                                       \u001b[0msession\u001b[0m\u001b[0;34m=\u001b[0m\u001b[0mself\u001b[0m\u001b[0;34m.\u001b[0m\u001b[0msess\u001b[0m\u001b[0;34m,\u001b[0m\u001b[0;34m\u001b[0m\u001b[0m\n\u001b[0;32m--> 113\u001b[0;31m                                       scope=self.MAIN_SCOPE)\n\u001b[0m\u001b[1;32m    114\u001b[0m         \u001b[0mself\u001b[0m\u001b[0;34m.\u001b[0m\u001b[0mstate\u001b[0m \u001b[0;34m=\u001b[0m \u001b[0mnp\u001b[0m\u001b[0;34m.\u001b[0m\u001b[0mzeros\u001b[0m\u001b[0;34m(\u001b[0m\u001b[0mself\u001b[0m\u001b[0;34m.\u001b[0m\u001b[0mnetwork\u001b[0m\u001b[0;34m.\u001b[0m\u001b[0minput_shape\u001b[0m\u001b[0;34m,\u001b[0m \u001b[0mdtype\u001b[0m\u001b[0;34m=\u001b[0m\u001b[0mnp\u001b[0m\u001b[0;34m.\u001b[0m\u001b[0mfloat32\u001b[0m\u001b[0;34m)\u001b[0m\u001b[0;34m\u001b[0m\u001b[0m\n\u001b[1;32m    115\u001b[0m \u001b[0;34m\u001b[0m\u001b[0m\n",
      "\u001b[0;32m~/DRL/ViZDoom/myvizdoom/python/helper.py\u001b[0m in \u001b[0;36mcreate_network\u001b[0;34m(network_filename, **kwargs)\u001b[0m\n\u001b[1;32m     24\u001b[0m     \u001b[0mnet_file\u001b[0m \u001b[0;34m=\u001b[0m \u001b[0mjson\u001b[0m\u001b[0;34m.\u001b[0m\u001b[0mloads\u001b[0m\u001b[0;34m(\u001b[0m\u001b[0mopen\u001b[0m\u001b[0;34m(\u001b[0m\u001b[0mnetwork_filename\u001b[0m\u001b[0;34m)\u001b[0m\u001b[0;34m.\u001b[0m\u001b[0mread\u001b[0m\u001b[0;34m(\u001b[0m\u001b[0;34m)\u001b[0m\u001b[0;34m)\u001b[0m\u001b[0;34m\u001b[0m\u001b[0m\n\u001b[1;32m     25\u001b[0m     \u001b[0mnet_type\u001b[0m \u001b[0;34m=\u001b[0m \u001b[0mnet_file\u001b[0m\u001b[0;34m[\u001b[0m\u001b[0;34m\"global_features\"\u001b[0m\u001b[0;34m]\u001b[0m\u001b[0;34m[\u001b[0m\u001b[0;34m\"type\"\u001b[0m\u001b[0;34m]\u001b[0m\u001b[0;34m.\u001b[0m\u001b[0mlower\u001b[0m\u001b[0;34m(\u001b[0m\u001b[0;34m)\u001b[0m\u001b[0;34m\u001b[0m\u001b[0m\n\u001b[0;32m---> 26\u001b[0;31m     \u001b[0;32mreturn\u001b[0m \u001b[0mnetwork_types\u001b[0m\u001b[0;34m[\u001b[0m\u001b[0mnet_type\u001b[0m\u001b[0;34m]\u001b[0m\u001b[0;34m(\u001b[0m\u001b[0mnetwork_file\u001b[0m\u001b[0;34m=\u001b[0m\u001b[0mnetwork_filename\u001b[0m\u001b[0;34m,\u001b[0m \u001b[0;34m**\u001b[0m\u001b[0mkwargs\u001b[0m\u001b[0;34m)\u001b[0m\u001b[0;34m\u001b[0m\u001b[0m\n\u001b[0m\u001b[1;32m     27\u001b[0m \u001b[0;34m\u001b[0m\u001b[0m\n\u001b[1;32m     28\u001b[0m \u001b[0;32mdef\u001b[0m \u001b[0mcreate_memory\u001b[0m\u001b[0;34m(\u001b[0m\u001b[0mmemory_type\u001b[0m\u001b[0;34m,\u001b[0m \u001b[0;34m**\u001b[0m\u001b[0mkwargs\u001b[0m\u001b[0;34m)\u001b[0m\u001b[0;34m:\u001b[0m\u001b[0;34m\u001b[0m\u001b[0m\n",
      "\u001b[0;32m~/DRL/ViZDoom/myvizdoom/python/network/DQNetwork.py\u001b[0m in \u001b[0;36m__init__\u001b[0;34m(self, phi, num_channels, num_actions, output_directory, session, train_mode, learning_rate, network_file, params_file, scope)\u001b[0m\n\u001b[1;32m     29\u001b[0m                          \u001b[0mnetwork_file\u001b[0m\u001b[0;34m=\u001b[0m\u001b[0mnetwork_file\u001b[0m\u001b[0;34m,\u001b[0m\u001b[0;34m\u001b[0m\u001b[0m\n\u001b[1;32m     30\u001b[0m                          \u001b[0mparams_file\u001b[0m\u001b[0;34m=\u001b[0m\u001b[0mparams_file\u001b[0m\u001b[0;34m,\u001b[0m\u001b[0;34m\u001b[0m\u001b[0m\n\u001b[0;32m---> 31\u001b[0;31m                          scope=scope)\n\u001b[0m\u001b[1;32m     32\u001b[0m \u001b[0;34m\u001b[0m\u001b[0m\n\u001b[1;32m     33\u001b[0m         \u001b[0;31m# Set Q-learning variables\u001b[0m\u001b[0;34m\u001b[0m\u001b[0;34m\u001b[0m\u001b[0m\n",
      "\u001b[0;32m~/DRL/ViZDoom/myvizdoom/python/network/Network.py\u001b[0m in \u001b[0;36m__init__\u001b[0;34m(self, phi, num_channels, num_actions, output_directory, session, train_mode, learning_rate, network_file, params_file, scope)\u001b[0m\n\u001b[1;32m     88\u001b[0m         \u001b[0;31m# Initialize variables or load parameters if provided\u001b[0m\u001b[0;34m\u001b[0m\u001b[0;34m\u001b[0m\u001b[0m\n\u001b[1;32m     89\u001b[0m         \u001b[0;32mif\u001b[0m \u001b[0mparams_file\u001b[0m \u001b[0;32mis\u001b[0m \u001b[0;32mnot\u001b[0m \u001b[0;32mNone\u001b[0m\u001b[0;34m:\u001b[0m\u001b[0;34m\u001b[0m\u001b[0m\n\u001b[0;32m---> 90\u001b[0;31m             \u001b[0mself\u001b[0m\u001b[0;34m.\u001b[0m\u001b[0msaver\u001b[0m\u001b[0;34m.\u001b[0m\u001b[0mrestore\u001b[0m\u001b[0;34m(\u001b[0m\u001b[0mself\u001b[0m\u001b[0;34m.\u001b[0m\u001b[0msess\u001b[0m\u001b[0;34m,\u001b[0m \u001b[0mparams_file\u001b[0m\u001b[0;34m)\u001b[0m\u001b[0;34m\u001b[0m\u001b[0m\n\u001b[0m\u001b[1;32m     91\u001b[0m         \u001b[0;32melse\u001b[0m\u001b[0;34m:\u001b[0m\u001b[0;34m\u001b[0m\u001b[0m\n\u001b[1;32m     92\u001b[0m             var_list = tf.get_collection(tf.GraphKeys.GLOBAL_VARIABLES,\n",
      "\u001b[0;32m~/anaconda3/envs/vizdoom/lib/python3.6/site-packages/tensorflow/python/training/saver.py\u001b[0m in \u001b[0;36mrestore\u001b[0;34m(self, sess, save_path)\u001b[0m\n\u001b[1;32m   1455\u001b[0m     \u001b[0mlogging\u001b[0m\u001b[0;34m.\u001b[0m\u001b[0minfo\u001b[0m\u001b[0;34m(\u001b[0m\u001b[0;34m\"Restoring parameters from %s\"\u001b[0m\u001b[0;34m,\u001b[0m \u001b[0msave_path\u001b[0m\u001b[0;34m)\u001b[0m\u001b[0;34m\u001b[0m\u001b[0m\n\u001b[1;32m   1456\u001b[0m     sess.run(self.saver_def.restore_op_name,\n\u001b[0;32m-> 1457\u001b[0;31m              {self.saver_def.filename_tensor_name: save_path})\n\u001b[0m\u001b[1;32m   1458\u001b[0m \u001b[0;34m\u001b[0m\u001b[0m\n\u001b[1;32m   1459\u001b[0m   \u001b[0;34m@\u001b[0m\u001b[0mstaticmethod\u001b[0m\u001b[0;34m\u001b[0m\u001b[0m\n",
      "\u001b[0;32m~/anaconda3/envs/vizdoom/lib/python3.6/site-packages/tensorflow/python/client/session.py\u001b[0m in \u001b[0;36mrun\u001b[0;34m(self, fetches, feed_dict, options, run_metadata)\u001b[0m\n\u001b[1;32m    776\u001b[0m     \u001b[0;32mtry\u001b[0m\u001b[0;34m:\u001b[0m\u001b[0;34m\u001b[0m\u001b[0m\n\u001b[1;32m    777\u001b[0m       result = self._run(None, fetches, feed_dict, options_ptr,\n\u001b[0;32m--> 778\u001b[0;31m                          run_metadata_ptr)\n\u001b[0m\u001b[1;32m    779\u001b[0m       \u001b[0;32mif\u001b[0m \u001b[0mrun_metadata\u001b[0m\u001b[0;34m:\u001b[0m\u001b[0;34m\u001b[0m\u001b[0m\n\u001b[1;32m    780\u001b[0m         \u001b[0mproto_data\u001b[0m \u001b[0;34m=\u001b[0m \u001b[0mtf_session\u001b[0m\u001b[0;34m.\u001b[0m\u001b[0mTF_GetBuffer\u001b[0m\u001b[0;34m(\u001b[0m\u001b[0mrun_metadata_ptr\u001b[0m\u001b[0;34m)\u001b[0m\u001b[0;34m\u001b[0m\u001b[0m\n",
      "\u001b[0;32m~/anaconda3/envs/vizdoom/lib/python3.6/site-packages/tensorflow/python/client/session.py\u001b[0m in \u001b[0;36m_run\u001b[0;34m(self, handle, fetches, feed_dict, options, run_metadata)\u001b[0m\n\u001b[1;32m    980\u001b[0m     \u001b[0;32mif\u001b[0m \u001b[0mfinal_fetches\u001b[0m \u001b[0;32mor\u001b[0m \u001b[0mfinal_targets\u001b[0m\u001b[0;34m:\u001b[0m\u001b[0;34m\u001b[0m\u001b[0m\n\u001b[1;32m    981\u001b[0m       results = self._do_run(handle, final_targets, final_fetches,\n\u001b[0;32m--> 982\u001b[0;31m                              feed_dict_string, options, run_metadata)\n\u001b[0m\u001b[1;32m    983\u001b[0m     \u001b[0;32melse\u001b[0m\u001b[0;34m:\u001b[0m\u001b[0;34m\u001b[0m\u001b[0m\n\u001b[1;32m    984\u001b[0m       \u001b[0mresults\u001b[0m \u001b[0;34m=\u001b[0m \u001b[0;34m[\u001b[0m\u001b[0;34m]\u001b[0m\u001b[0;34m\u001b[0m\u001b[0m\n",
      "\u001b[0;32m~/anaconda3/envs/vizdoom/lib/python3.6/site-packages/tensorflow/python/client/session.py\u001b[0m in \u001b[0;36m_do_run\u001b[0;34m(self, handle, target_list, fetch_list, feed_dict, options, run_metadata)\u001b[0m\n\u001b[1;32m   1030\u001b[0m     \u001b[0;32mif\u001b[0m \u001b[0mhandle\u001b[0m \u001b[0;32mis\u001b[0m \u001b[0;32mNone\u001b[0m\u001b[0;34m:\u001b[0m\u001b[0;34m\u001b[0m\u001b[0m\n\u001b[1;32m   1031\u001b[0m       return self._do_call(_run_fn, self._session, feed_dict, fetch_list,\n\u001b[0;32m-> 1032\u001b[0;31m                            target_list, options, run_metadata)\n\u001b[0m\u001b[1;32m   1033\u001b[0m     \u001b[0;32melse\u001b[0m\u001b[0;34m:\u001b[0m\u001b[0;34m\u001b[0m\u001b[0m\n\u001b[1;32m   1034\u001b[0m       return self._do_call(_prun_fn, self._session, handle, feed_dict,\n",
      "\u001b[0;32m~/anaconda3/envs/vizdoom/lib/python3.6/site-packages/tensorflow/python/client/session.py\u001b[0m in \u001b[0;36m_do_call\u001b[0;34m(self, fn, *args)\u001b[0m\n\u001b[1;32m   1050\u001b[0m         \u001b[0;32mexcept\u001b[0m \u001b[0mKeyError\u001b[0m\u001b[0;34m:\u001b[0m\u001b[0;34m\u001b[0m\u001b[0m\n\u001b[1;32m   1051\u001b[0m           \u001b[0;32mpass\u001b[0m\u001b[0;34m\u001b[0m\u001b[0m\n\u001b[0;32m-> 1052\u001b[0;31m       \u001b[0;32mraise\u001b[0m \u001b[0mtype\u001b[0m\u001b[0;34m(\u001b[0m\u001b[0me\u001b[0m\u001b[0;34m)\u001b[0m\u001b[0;34m(\u001b[0m\u001b[0mnode_def\u001b[0m\u001b[0;34m,\u001b[0m \u001b[0mop\u001b[0m\u001b[0;34m,\u001b[0m \u001b[0mmessage\u001b[0m\u001b[0;34m)\u001b[0m\u001b[0;34m\u001b[0m\u001b[0m\n\u001b[0m\u001b[1;32m   1053\u001b[0m \u001b[0;34m\u001b[0m\u001b[0m\n\u001b[1;32m   1054\u001b[0m   \u001b[0;32mdef\u001b[0m \u001b[0m_extend_graph\u001b[0m\u001b[0;34m(\u001b[0m\u001b[0mself\u001b[0m\u001b[0;34m)\u001b[0m\u001b[0;34m:\u001b[0m\u001b[0;34m\u001b[0m\u001b[0m\n",
      "\u001b[0;31mResourceExhaustedError\u001b[0m: OOM when allocating tensor with shape[4,4,32,64]\n\t [[Node: main_network/save/Assign_3 = Assign[T=DT_FLOAT, _class=[\"loc:@main_network/CONV_2/weights\"], use_locking=true, validate_shape=true, _device=\"/job:localhost/replica:0/task:0/gpu:0\"](main_network/CONV_2/weights, main_network/save/RestoreV2_3/_43)]]\n\nCaused by op 'main_network/save/Assign_3', defined at:\n  File \"/home/james/anaconda3/envs/vizdoom/lib/python3.6/runpy.py\", line 193, in _run_module_as_main\n    \"__main__\", mod_spec)\n  File \"/home/james/anaconda3/envs/vizdoom/lib/python3.6/runpy.py\", line 85, in _run_code\n    exec(code, run_globals)\n  File \"/home/james/anaconda3/envs/vizdoom/lib/python3.6/site-packages/ipykernel_launcher.py\", line 16, in <module>\n    app.launch_new_instance()\n  File \"/home/james/anaconda3/envs/vizdoom/lib/python3.6/site-packages/traitlets/config/application.py\", line 658, in launch_instance\n    app.start()\n  File \"/home/james/anaconda3/envs/vizdoom/lib/python3.6/site-packages/ipykernel/kernelapp.py\", line 477, in start\n    ioloop.IOLoop.instance().start()\n  File \"/home/james/anaconda3/envs/vizdoom/lib/python3.6/site-packages/zmq/eventloop/ioloop.py\", line 177, in start\n    super(ZMQIOLoop, self).start()\n  File \"/home/james/anaconda3/envs/vizdoom/lib/python3.6/site-packages/tornado/ioloop.py\", line 888, in start\n    handler_func(fd_obj, events)\n  File \"/home/james/anaconda3/envs/vizdoom/lib/python3.6/site-packages/tornado/stack_context.py\", line 277, in null_wrapper\n    return fn(*args, **kwargs)\n  File \"/home/james/anaconda3/envs/vizdoom/lib/python3.6/site-packages/zmq/eventloop/zmqstream.py\", line 440, in _handle_events\n    self._handle_recv()\n  File \"/home/james/anaconda3/envs/vizdoom/lib/python3.6/site-packages/zmq/eventloop/zmqstream.py\", line 472, in _handle_recv\n    self._run_callback(callback, msg)\n  File \"/home/james/anaconda3/envs/vizdoom/lib/python3.6/site-packages/zmq/eventloop/zmqstream.py\", line 414, in _run_callback\n    callback(*args, **kwargs)\n  File \"/home/james/anaconda3/envs/vizdoom/lib/python3.6/site-packages/tornado/stack_context.py\", line 277, in null_wrapper\n    return fn(*args, **kwargs)\n  File \"/home/james/anaconda3/envs/vizdoom/lib/python3.6/site-packages/ipykernel/kernelbase.py\", line 283, in dispatcher\n    return self.dispatch_shell(stream, msg)\n  File \"/home/james/anaconda3/envs/vizdoom/lib/python3.6/site-packages/ipykernel/kernelbase.py\", line 235, in dispatch_shell\n    handler(stream, idents, msg)\n  File \"/home/james/anaconda3/envs/vizdoom/lib/python3.6/site-packages/ipykernel/kernelbase.py\", line 399, in execute_request\n    user_expressions, allow_stdin)\n  File \"/home/james/anaconda3/envs/vizdoom/lib/python3.6/site-packages/ipykernel/ipkernel.py\", line 196, in do_execute\n    res = shell.run_cell(code, store_history=store_history, silent=silent)\n  File \"/home/james/anaconda3/envs/vizdoom/lib/python3.6/site-packages/ipykernel/zmqshell.py\", line 533, in run_cell\n    return super(ZMQInteractiveShell, self).run_cell(*args, **kwargs)\n  File \"/home/james/anaconda3/envs/vizdoom/lib/python3.6/site-packages/IPython/core/interactiveshell.py\", line 2698, in run_cell\n    interactivity=interactivity, compiler=compiler, result=result)\n  File \"/home/james/anaconda3/envs/vizdoom/lib/python3.6/site-packages/IPython/core/interactiveshell.py\", line 2802, in run_ast_nodes\n    if self.run_code(code, result):\n  File \"/home/james/anaconda3/envs/vizdoom/lib/python3.6/site-packages/IPython/core/interactiveshell.py\", line 2862, in run_code\n    exec(code_obj, self.user_global_ns, self.user_ns)\n  File \"<ipython-input-7-32a9a711a612>\", line 9, in <module>\n    train_mode=False)\n  File \"../python/helper.py\", line 17, in create_agent\n    return agent_types[agent_type](agent_file=agent_filename, **kwargs)\n  File \"../python/agent/DDQNAgent.py\", line 18, in __init__\n    **kwargs)\n  File \"../python/agent/DQNAgent.py\", line 71, in __init__\n    **kwargs)\n  File \"../python/agent/Agent.py\", line 113, in __init__\n    scope=self.MAIN_SCOPE)\n  File \"../python/helper.py\", line 26, in create_network\n    return network_types[net_type](network_file=network_filename, **kwargs)\n  File \"../python/network/DQNetwork.py\", line 31, in __init__\n    scope=scope)\n  File \"../python/network/Network.py\", line 80, in __init__\n    self.saver = tf.train.Saver(max_to_keep=None)\n  File \"/home/james/anaconda3/envs/vizdoom/lib/python3.6/site-packages/tensorflow/python/training/saver.py\", line 1056, in __init__\n    self.build()\n  File \"/home/james/anaconda3/envs/vizdoom/lib/python3.6/site-packages/tensorflow/python/training/saver.py\", line 1086, in build\n    restore_sequentially=self._restore_sequentially)\n  File \"/home/james/anaconda3/envs/vizdoom/lib/python3.6/site-packages/tensorflow/python/training/saver.py\", line 691, in build\n    restore_sequentially, reshape)\n  File \"/home/james/anaconda3/envs/vizdoom/lib/python3.6/site-packages/tensorflow/python/training/saver.py\", line 419, in _AddRestoreOps\n    assign_ops.append(saveable.restore(tensors, shapes))\n  File \"/home/james/anaconda3/envs/vizdoom/lib/python3.6/site-packages/tensorflow/python/training/saver.py\", line 155, in restore\n    self.op.get_shape().is_fully_defined())\n  File \"/home/james/anaconda3/envs/vizdoom/lib/python3.6/site-packages/tensorflow/python/ops/state_ops.py\", line 270, in assign\n    validate_shape=validate_shape)\n  File \"/home/james/anaconda3/envs/vizdoom/lib/python3.6/site-packages/tensorflow/python/ops/gen_state_ops.py\", line 47, in assign\n    use_locking=use_locking, name=name)\n  File \"/home/james/anaconda3/envs/vizdoom/lib/python3.6/site-packages/tensorflow/python/framework/op_def_library.py\", line 768, in apply_op\n    op_def=op_def)\n  File \"/home/james/anaconda3/envs/vizdoom/lib/python3.6/site-packages/tensorflow/python/framework/ops.py\", line 2336, in create_op\n    original_op=self._default_original_op, op_def=op_def)\n  File \"/home/james/anaconda3/envs/vizdoom/lib/python3.6/site-packages/tensorflow/python/framework/ops.py\", line 1228, in __init__\n    self._traceback = _extract_stack()\n\nResourceExhaustedError (see above for traceback): OOM when allocating tensor with shape[4,4,32,64]\n\t [[Node: main_network/save/Assign_3 = Assign[T=DT_FLOAT, _class=[\"loc:@main_network/CONV_2/weights\"], use_locking=true, validate_shape=true, _device=\"/job:localhost/replica:0/task:0/gpu:0\"](main_network/CONV_2/weights, main_network/save/RestoreV2_3/_43)]]\n"
     ]
    }
   ],
   "source": [
    "tf.reset_default_graph()\n",
    "game = initialize_vizdoom(config_file_path)\n",
    "agent = create_agent(agent_file_path,\n",
    "                     game=game, \n",
    "                     params_file=params_file_path,\n",
    "                     action_set=action_set,\n",
    "                     output_directory=results_dir,\n",
    "                     train_mode=False)\n",
    "agent.initialize_new_episode()\n",
    "current_screen = game.get_state().screen_buffer\n",
    "agent.update_state(current_screen)\n",
    "print(\"data format: \", agent.network.data_format)\n",
    "print(\"state shape: \", agent.state.shape)\n",
    "print(\"Q: \", agent.network.get_q_values(agent.state))"
   ]
  },
  {
   "cell_type": "code",
   "execution_count": null,
   "metadata": {
    "collapsed": true
   },
   "outputs": [],
   "source": [
    "[print(v) for v in tf.get_collection(tf.GraphKeys.GLOBAL_VARIABLES, scope=\"main_network\") \\\n",
    " if \"CONV\" in v.name]\n",
    "print(tf.get_default_graph().get_tensor_by_name(\"main_network/CONV_1/Relu:0\"))"
   ]
  },
  {
   "cell_type": "code",
   "execution_count": null,
   "metadata": {
    "collapsed": true
   },
   "outputs": [],
   "source": [
    "sess = agent.network.sess\n",
    "s1 = agent.network._check_state(agent.state)\n",
    "fd = {agent.network.state: s1}\n",
    "conv1_w = tf.get_default_graph().get_tensor_by_name(\"main_network/CONV_1/weights:0\")\n",
    "print(\"CONV_1 weights: \", sess.run(conv1_w[:, :, 0, 0]))\n",
    "conv1_b = tf.get_default_graph().get_tensor_by_name(\"main_network/CONV_1/biases:0\")\n",
    "print(\"CONV_1 biases: \", sess.run(conv1_b[:5]))\n",
    "conv2_w = tf.get_default_graph().get_tensor_by_name(\"main_network/CONV_2/weights:0\")\n",
    "print(\"CONV_2 weights: \", sess.run(conv2_w[:, :, 0, 0]))\n",
    "conv2_b = tf.get_default_graph().get_tensor_by_name(\"main_network/CONV_2/biases:0\")\n",
    "print(\"CONV_2 biases: \", sess.run(conv2_b[:5]))\n",
    "conv1_relu = tf.get_default_graph().get_tensor_by_name(\"main_network/CONV_1/Relu:0\")\n",
    "print(\"CONV_1 output: \", sess.run(conv1_relu, feed_dict=fd)[0, :5, :5, 10])"
   ]
  }
 ],
 "metadata": {
  "kernelspec": {
   "display_name": "Python 3 (vizdoom)",
   "language": "python",
   "name": "vizdoom"
  },
  "language_info": {
   "codemirror_mode": {
    "name": "ipython",
    "version": 3
   },
   "file_extension": ".py",
   "mimetype": "text/x-python",
   "name": "python",
   "nbconvert_exporter": "python",
   "pygments_lexer": "ipython3",
   "version": "3.6.1"
  }
 },
 "nbformat": 4,
 "nbformat_minor": 2
}
