{
 "cells": [
  {
   "cell_type": "markdown",
   "metadata": {},
   "source": [
    "# Gridworld Construction\n",
    "This notebook tests the implementation of a gridworld environment using numpy."
   ]
  },
  {
   "cell_type": "markdown",
   "metadata": {},
   "source": [
    "## Initial setup"
   ]
  },
  {
   "cell_type": "code",
   "execution_count": 178,
   "metadata": {
    "collapsed": true
   },
   "outputs": [],
   "source": [
    "import numpy as np\n",
    "from copy import copy\n",
    "from random import random"
   ]
  },
  {
   "cell_type": "markdown",
   "metadata": {},
   "source": [
    "## Define states"
   ]
  },
  {
   "cell_type": "code",
   "execution_count": 100,
   "metadata": {
    "collapsed": true
   },
   "outputs": [],
   "source": [
    "def coord_to_idx(*coordinates):\n",
    "    # Convert to [[y1, y2, ...], [x1, x2, ...]]\n",
    "    idx = np.zeros([2, len(coordinates)], dtype=np.int32)\n",
    "    for i, c in enumerate(coordinates):\n",
    "        idx[:, i] = c\n",
    "    return idx"
   ]
  },
  {
   "cell_type": "code",
   "execution_count": 166,
   "metadata": {
    "collapsed": true
   },
   "outputs": [],
   "source": [
    "def coord_to_state(coord):\n",
    "    # Convert [y1, x1] to s1\n",
    "    if coord.ndim == 1:\n",
    "        return (coord[0]*width + coord[1]).astype(np.int16)\n",
    "    \n",
    "    # Convert [[y1, x1], ..., [yn, xn]] to [s1, ..., sn]\n",
    "    else:\n",
    "        return (coord[:, 0]*width + coord[:, 1]).astype(np.int16)"
   ]
  },
  {
   "cell_type": "code",
   "execution_count": 153,
   "metadata": {},
   "outputs": [],
   "source": [
    "height, width = 8, 8\n",
    "states = np.zeros([height*width], dtype=np.int16)"
   ]
  },
  {
   "cell_type": "code",
   "execution_count": 154,
   "metadata": {},
   "outputs": [],
   "source": [
    "starts = np.array([[0, 0]])\n",
    "goals  = np.array([[0, 7]])\n",
    "walls  = np.vstack([np.vstack([np.arange(5, 8), np.ones([3])*2]).T,\n",
    "                    np.vstack([np.arange(5), np.ones([5])*5]).T])\n",
    "holes = np.array([[2, 1], \n",
    "                  [3, 3], \n",
    "                  [7, 4],\n",
    "                  [3, 7]])"
   ]
  },
  {
   "cell_type": "code",
   "execution_count": 155,
   "metadata": {},
   "outputs": [
    {
     "data": {
      "text/plain": [
       "array([1, 0, 0, 0, 0, 3, 0, 2, 0, 0, 0, 0, 0, 3, 0, 0, 0, 4, 0, 0, 0, 3, 0,\n",
       "       0, 0, 0, 0, 4, 0, 3, 0, 4, 0, 0, 0, 0, 0, 3, 0, 0, 0, 0, 3, 0, 0, 0,\n",
       "       0, 0, 0, 0, 3, 0, 0, 0, 0, 0, 0, 0, 3, 0, 4, 0, 0, 0], dtype=int16)"
      ]
     },
     "execution_count": 155,
     "metadata": {},
     "output_type": "execute_result"
    }
   ],
   "source": [
    "states[coord_to_state(starts)] = 1\n",
    "states[coord_to_state(goals)] = 2\n",
    "states[coord_to_state(walls)] = 3\n",
    "states[coord_to_state(holes)] = 4\n",
    "states"
   ]
  },
  {
   "cell_type": "code",
   "execution_count": 156,
   "metadata": {},
   "outputs": [
    {
     "data": {
      "text/plain": [
       "array([[1, 0, 0, 0, 0, 3, 0, 2],\n",
       "       [0, 0, 0, 0, 0, 3, 0, 0],\n",
       "       [0, 4, 0, 0, 0, 3, 0, 0],\n",
       "       [0, 0, 0, 4, 0, 3, 0, 4],\n",
       "       [0, 0, 0, 0, 0, 3, 0, 0],\n",
       "       [0, 0, 3, 0, 0, 0, 0, 0],\n",
       "       [0, 0, 3, 0, 0, 0, 0, 0],\n",
       "       [0, 0, 3, 0, 4, 0, 0, 0]], dtype=int16)"
      ]
     },
     "execution_count": 156,
     "metadata": {},
     "output_type": "execute_result"
    }
   ],
   "source": [
    "states.reshape([height, width])"
   ]
  },
  {
   "cell_type": "code",
   "execution_count": 168,
   "metadata": {},
   "outputs": [],
   "source": [
    "def is_terminal_state(pos):\n",
    "    s = states[coord_to_state(pos)]\n",
    "    \n",
    "    if (s == 2) or (s == 4):\n",
    "        return True\n",
    "    else:\n",
    "        return False"
   ]
  },
  {
   "cell_type": "markdown",
   "metadata": {},
   "source": [
    "## Define actions"
   ]
  },
  {
   "cell_type": "code",
   "execution_count": 199,
   "metadata": {},
   "outputs": [],
   "source": [
    "def make_action(action, pos):\n",
    "    # Create placeholde for new position\n",
    "    new_pos = copy(pos)\n",
    "    \n",
    "    # Modify according to action\n",
    "    if action == 0: # move left\n",
    "        new_pos[1] = max(pos[1] - 1, 0)\n",
    "    elif action == 1: # move down\n",
    "        new_pos[0] = min(pos[0] + 1, width - 1)\n",
    "    elif action == 2: # move right\n",
    "        new_pos[1] = min(pos[1] + 1, height - 1)\n",
    "    elif action == 3: # move up\n",
    "        new_pos[0] = max(pos[0] - 1, 0)\n",
    "    else:\n",
    "        raise ValueError(\"Undefined action index %d\" % action)\n",
    "    \n",
    "    # Check if wall exists\n",
    "    if states[coord_to_state(new_pos)] == 3:\n",
    "        return pos\n",
    "    else:\n",
    "        return new_pos"
   ]
  },
  {
   "cell_type": "markdown",
   "metadata": {},
   "source": [
    "## Define rewards"
   ]
  },
  {
   "cell_type": "code",
   "execution_count": 159,
   "metadata": {
    "collapsed": true
   },
   "outputs": [],
   "source": [
    "def get_reward(pos):\n",
    "    # Get state\n",
    "    s = states[coord_to_state(pos)]\n",
    "    \n",
    "    # Determine reward\n",
    "    if s == 0: # normal\n",
    "        return 0.0\n",
    "    elif s == 1: # start\n",
    "        return 0.0\n",
    "    elif s == 2: # goal\n",
    "        return 1.0\n",
    "    elif s == 3: # wall\n",
    "        return 0.0\n",
    "    elif s == 4: # hole\n",
    "        return -1.0"
   ]
  },
  {
   "cell_type": "markdown",
   "metadata": {},
   "source": [
    "## Simulate random trajectories"
   ]
  },
  {
   "cell_type": "code",
   "execution_count": 169,
   "metadata": {},
   "outputs": [
    {
     "name": "stdout",
     "output_type": "stream",
     "text": [
      "Old position: (0, 0)   Action: 2   New position: (0, 1)   Reward: 0\n",
      "Old position: (0, 1)   Action: 3   New position: (0, 1)   Reward: 0\n",
      "Old position: (0, 1)   Action: 3   New position: (0, 1)   Reward: 0\n",
      "Old position: (0, 1)   Action: 2   New position: (0, 2)   Reward: 0\n",
      "Old position: (0, 2)   Action: 1   New position: (1, 2)   Reward: 0\n",
      "Old position: (1, 2)   Action: 3   New position: (0, 2)   Reward: 0\n",
      "Old position: (0, 2)   Action: 2   New position: (0, 3)   Reward: 0\n",
      "Old position: (0, 3)   Action: 2   New position: (0, 4)   Reward: 0\n",
      "Old position: (0, 4)   Action: 0   New position: (0, 3)   Reward: 0\n",
      "Old position: (0, 3)   Action: 2   New position: (0, 4)   Reward: 0\n",
      "Old position: (0, 4)   Action: 0   New position: (0, 3)   Reward: 0\n",
      "Old position: (0, 3)   Action: 0   New position: (0, 2)   Reward: 0\n",
      "Old position: (0, 2)   Action: 1   New position: (1, 2)   Reward: 0\n",
      "Old position: (1, 2)   Action: 1   New position: (2, 2)   Reward: 0\n",
      "Old position: (2, 2)   Action: 1   New position: (3, 2)   Reward: 0\n",
      "Old position: (3, 2)   Action: 1   New position: (4, 2)   Reward: 0\n",
      "Old position: (4, 2)   Action: 2   New position: (4, 3)   Reward: 0\n",
      "Old position: (4, 3)   Action: 3   New position: (3, 3)   Reward: -1\n"
     ]
    }
   ],
   "source": [
    "num_actions = 4\n",
    "steps = 100\n",
    "\n",
    "start_idx = np.random.randint(starts.shape[0])\n",
    "start_pos = starts[start_idx, :]\n",
    "pos = start_pos\n",
    "\n",
    "for i in range(steps):\n",
    "    print(\"Old position: (%d, %d)\" % (pos[0], pos[1]), end=\"   \")\n",
    "    \n",
    "    random_action = np.random.randint(num_actions)\n",
    "    pos = make_action(random_action, pos)\n",
    "    reward = get_reward(pos)\n",
    "    is_terminal = is_terminal_state(pos)\n",
    "    \n",
    "    print(\"Action: %d\" % random_action, end=\"   \")\n",
    "    print(\"New position: (%d, %d)\" % (pos[0], pos[1]), end=\"   \")\n",
    "    print(\"Reward: %d\" % reward)\n",
    "    \n",
    "    if is_terminal:\n",
    "        break"
   ]
  },
  {
   "cell_type": "markdown",
   "metadata": {},
   "source": [
    "## Learn with a Q-table"
   ]
  },
  {
   "cell_type": "code",
   "execution_count": 202,
   "metadata": {
    "scrolled": true
   },
   "outputs": [
    {
     "name": "stdout",
     "output_type": "stream",
     "text": [
      "Step 0\n",
      "Step 1000\n",
      "Step 2000\n",
      "Step 3000\n",
      "Step 4000\n",
      "Step 5000\n",
      "Step 6000\n",
      "Step 7000\n",
      "Step 8000\n",
      "Step 9000\n",
      "Step 10000\n",
      "Step 11000\n",
      "Step 12000\n",
      "Step 13000\n",
      "Step 14000\n",
      "Step 15000\n",
      "Step 16000\n",
      "Step 17000\n",
      "Step 18000\n",
      "Step 19000\n",
      "Step 20000\n",
      "Step 21000\n",
      "Step 22000\n",
      "Step 23000\n",
      "Step 24000\n",
      "Step 25000\n",
      "Step 26000\n",
      "Step 27000\n",
      "Step 28000\n",
      "Step 29000\n",
      "Step 30000\n",
      "Step 31000\n",
      "Step 32000\n",
      "Step 33000\n",
      "Step 34000\n",
      "Step 35000\n",
      "Step 36000\n",
      "Step 37000\n",
      "Step 38000\n",
      "Step 39000\n",
      "Step 40000\n",
      "Step 41000\n",
      "Step 42000\n",
      "Step 43000\n",
      "Step 44000\n",
      "Step 45000\n",
      "Step 46000\n",
      "Step 47000\n",
      "Step 48000\n",
      "Step 49000\n",
      "Step 50000\n",
      "Step 51000\n",
      "Step 52000\n",
      "Step 53000\n",
      "Step 54000\n",
      "Step 55000\n",
      "Step 56000\n",
      "Step 57000\n",
      "Step 58000\n",
      "Step 59000\n",
      "Step 60000\n",
      "Step 61000\n",
      "Step 62000\n",
      "Step 63000\n",
      "Step 64000\n",
      "Step 65000\n",
      "Step 66000\n",
      "Step 67000\n",
      "Step 68000\n",
      "Step 69000\n",
      "Step 70000\n",
      "Step 71000\n",
      "Step 72000\n",
      "Step 73000\n",
      "Step 74000\n",
      "Step 75000\n",
      "Step 76000\n",
      "Step 77000\n",
      "Step 78000\n",
      "Step 79000\n",
      "Step 80000\n",
      "Step 81000\n",
      "Step 82000\n",
      "Step 83000\n",
      "Step 84000\n",
      "Step 85000\n",
      "Step 86000\n",
      "Step 87000\n",
      "Step 88000\n",
      "Step 89000\n",
      "Step 90000\n",
      "Step 91000\n",
      "Step 92000\n",
      "Step 93000\n",
      "Step 94000\n",
      "Step 95000\n",
      "Step 96000\n",
      "Step 97000\n",
      "Step 98000\n",
      "Step 99000\n"
     ]
    }
   ],
   "source": [
    "Q = np.zeros([height*width, num_actions])\n",
    "alpha = 1.0\n",
    "gamma = 0.9\n",
    "epsilon = 0.3 # fixed; could change to linear decay\n",
    "learning_steps = 100000\n",
    "verbose = False\n",
    "\n",
    "start_idx = np.random.randint(starts.shape[0])\n",
    "start_pos = starts[start_idx, :]\n",
    "pos = start_pos\n",
    "\n",
    "for i in range(learning_steps):\n",
    "    # Get current state\n",
    "    s1 = pos[0]*width + pos[1]\n",
    "    \n",
    "    # Make action and get reward, new state\n",
    "    if random() > epsilon:\n",
    "        # Make best action (exploit)\n",
    "        #a = np.argmax(Q[s1, :]) # tie-break goes to lowest index\n",
    "        a = np.random.choice(np.flatnonzero(Q[s1, :] == np.max(Q[s1, :]))) # random tie-breaking\n",
    "    else:\n",
    "        # Make random action (explore)\n",
    "        a = np.random.randint(num_actions)\n",
    "    new_pos = make_action(a, pos)\n",
    "    r = get_reward(new_pos)\n",
    "    s2 = new_pos[0]*width + new_pos[1]\n",
    "    is_terminal = is_terminal_state(new_pos)\n",
    "    \n",
    "    # Update Q-table according to Bellman equation:\n",
    "    # Q(s,a) <-- Q(s,a) + α*ΔQ(s,a), where ΔQ(s,a) = (r + γ*max(Q(s',a))) - Q(s,a\n",
    "    Q[s1, a] = Q[s1, a] + alpha * (r + gamma * np.max(Q[s2, :]) - Q[s1, a])\n",
    "    \n",
    "    if verbose:\n",
    "        print(\"Step %d\" % i)\n",
    "        print(\"Old position: (%d, %d)\" % (pos[0], pos[1]), end=\"   \")\n",
    "        print(\"Action: %d\" % a, end=\"   \")\n",
    "        print(\"New position: (%d, %d)\" % (new_pos[0], new_pos[1]), end=\"   \")\n",
    "        print(\"Reward: %d\" % r)\n",
    "    \n",
    "    elif i % 1000 == 0:\n",
    "        print(\"Step %d\" % i)\n",
    "    \n",
    "    if is_terminal:\n",
    "        start_idx = np.random.randint(starts.shape[0])\n",
    "        start_pos = starts[start_idx, :]\n",
    "        pos = start_pos\n",
    "    else:\n",
    "        pos = new_pos"
   ]
  },
  {
   "cell_type": "code",
   "execution_count": 203,
   "metadata": {},
   "outputs": [
    {
     "data": {
      "text/plain": [
       "array([[ 0.16677182,  0.18530202,  0.18530202,  0.16677182],\n",
       "       [ 0.16677182,  0.20589113,  0.20589113,  0.18530202],\n",
       "       [ 0.18530202,  0.22876792,  0.22876792,  0.20589113],\n",
       "       [ 0.20589113,  0.25418658,  0.25418658,  0.22876792],\n",
       "       [ 0.22876792,  0.28242954,  0.25418658,  0.25418658],\n",
       "       [ 0.        ,  0.        ,  0.        ,  0.        ],\n",
       "       [ 0.9       ,  0.81      ,  1.        ,  0.9       ],\n",
       "       [ 0.        ,  0.        ,  0.        ,  0.        ],\n",
       "       [ 0.18530202,  0.20589113,  0.20589113,  0.16677182],\n",
       "       [ 0.18530202, -1.        ,  0.22876792,  0.18530202],\n",
       "       [ 0.20589113,  0.25418658,  0.25418658,  0.20589113],\n",
       "       [ 0.22876792,  0.28242954,  0.28242954,  0.22876792],\n",
       "       [ 0.25418658,  0.3138106 ,  0.28242954,  0.25418658],\n",
       "       [ 0.        ,  0.        ,  0.        ,  0.        ],\n",
       "       [ 0.81      ,  0.729     ,  0.9       ,  0.9       ],\n",
       "       [ 0.81      ,  0.81      ,  0.9       ,  1.        ],\n",
       "       [ 0.20589113,  0.22876792, -1.        ,  0.18530202],\n",
       "       [ 0.        ,  0.        ,  0.        ,  0.        ],\n",
       "       [-1.        ,  0.28242954,  0.28242954,  0.22876792],\n",
       "       [ 0.25418658, -1.        ,  0.3138106 ,  0.25418658],\n",
       "       [ 0.28242954,  0.34867844,  0.3138106 ,  0.28242954],\n",
       "       [ 0.        ,  0.        ,  0.        ,  0.        ],\n",
       "       [ 0.729     ,  0.6561    ,  0.81      ,  0.81      ],\n",
       "       [ 0.729     , -1.        ,  0.81      ,  0.9       ],\n",
       "       [ 0.22876792,  0.25418658,  0.25418658,  0.20589113],\n",
       "       [ 0.22876792,  0.28242954,  0.28242954, -1.        ],\n",
       "       [ 0.25418658,  0.3138106 , -1.        ,  0.25418658],\n",
       "       [ 0.        ,  0.        ,  0.        ,  0.        ],\n",
       "       [-1.        ,  0.38742049,  0.34867844,  0.3138106 ],\n",
       "       [ 0.        ,  0.        ,  0.        ,  0.        ],\n",
       "       [ 0.6561    ,  0.59049   , -1.        ,  0.729     ],\n",
       "       [ 0.        ,  0.        ,  0.        ,  0.        ],\n",
       "       [ 0.25418658,  0.22876792,  0.28242954,  0.22876792],\n",
       "       [ 0.25418658,  0.25418658,  0.3138106 ,  0.25418658],\n",
       "       [ 0.28242954,  0.3138106 ,  0.34867844,  0.28242954],\n",
       "       [ 0.3138106 ,  0.38742049,  0.38742049, -1.        ],\n",
       "       [ 0.34867844,  0.43046721,  0.38742049,  0.34867844],\n",
       "       [ 0.        ,  0.        ,  0.        ,  0.        ],\n",
       "       [ 0.59049   ,  0.531441  ,  0.531441  ,  0.6561    ],\n",
       "       [ 0.59049   ,  0.4782969 ,  0.531441  , -1.        ],\n",
       "       [ 0.        ,  0.20589113,  0.25418658,  0.25418658],\n",
       "       [ 0.22876792,  0.22876792,  0.25418658,  0.28242954],\n",
       "       [ 0.        ,  0.        ,  0.        ,  0.        ],\n",
       "       [ 0.38742049,  0.34867844,  0.43046721,  0.34867844],\n",
       "       [ 0.38742049,  0.38742049,  0.4782969 ,  0.38742049],\n",
       "       [ 0.43046721,  0.43046721,  0.531441  ,  0.4782969 ],\n",
       "       [ 0.4782969 ,  0.4782969 ,  0.4782969 ,  0.59049   ],\n",
       "       [ 0.531441  ,  0.43046721,  0.4782969 ,  0.531441  ],\n",
       "       [ 0.        ,  0.        ,  0.22876792,  0.22876792],\n",
       "       [ 0.        ,  0.        ,  0.22876792,  0.25418658],\n",
       "       [ 0.        ,  0.        ,  0.        ,  0.        ],\n",
       "       [ 0.34867844,  0.3138106 ,  0.38742049,  0.38742049],\n",
       "       [ 0.34867844, -1.        ,  0.43046721,  0.43046721],\n",
       "       [ 0.38742049,  0.38742049,  0.4782969 ,  0.4782969 ],\n",
       "       [ 0.43046721,  0.43046721,  0.43046721,  0.531441  ],\n",
       "       [ 0.4782969 ,  0.38742049,  0.43046721,  0.4782969 ],\n",
       "       [ 0.        ,  0.        ,  0.        ,  0.20589113],\n",
       "       [ 0.        ,  0.        ,  0.        ,  0.        ],\n",
       "       [ 0.        ,  0.        ,  0.        ,  0.        ],\n",
       "       [ 0.        ,  0.        , -1.        ,  0.34867844],\n",
       "       [ 0.        ,  0.        ,  0.        ,  0.        ],\n",
       "       [-1.        ,  0.38742049,  0.43046721,  0.43046721],\n",
       "       [ 0.38742049,  0.43046721,  0.38742049,  0.4782969 ],\n",
       "       [ 0.        ,  0.        ,  0.        ,  0.43046721]])"
      ]
     },
     "execution_count": 203,
     "metadata": {},
     "output_type": "execute_result"
    }
   ],
   "source": [
    "Q"
   ]
  },
  {
   "cell_type": "markdown",
   "metadata": {},
   "source": [
    "## Test Q-table"
   ]
  },
  {
   "cell_type": "code",
   "execution_count": 218,
   "metadata": {
    "collapsed": true
   },
   "outputs": [],
   "source": [
    "start_idx = np.random.randint(starts.shape[0])\n",
    "start_pos = starts[start_idx, :]\n",
    "pos = start_pos\n",
    "num_episodes = 10\n",
    "trajectories = []\n",
    "\n",
    "for i in range(num_episodes):\n",
    "    is_terminal = False\n",
    "    trajectories.append([])\n",
    "    \n",
    "    while not is_terminal:\n",
    "        # Get current state\n",
    "        s1 = pos[0]*width + pos[1]\n",
    "        trajectories[i].append(s1)\n",
    "\n",
    "        # Make action and get reward, new state\n",
    "        #a = np.argmax(Q[s1, :]) # tie-break goes to lowest index\n",
    "        a = np.random.choice(np.flatnonzero(Q[s1, :] == np.max(Q[s1, :]))) # random tie-breaking\n",
    "        new_pos = make_action(a, pos)\n",
    "        r = get_reward(new_pos)\n",
    "        s2 = new_pos[0]*width + new_pos[1]\n",
    "        is_terminal = is_terminal_state(new_pos)\n",
    "\n",
    "        if verbose:\n",
    "            print(\"Step %d\" % i)\n",
    "            print(\"Old position: (%d, %d)\" % (pos[0], pos[1]), end=\"   \")\n",
    "            print(\"Action: %d\" % a, end=\"   \")\n",
    "            print(\"New position: (%d, %d)\" % (new_pos[0], new_pos[1]), end=\"   \")\n",
    "            print(\"Reward: %d\" % r)\n",
    "        \n",
    "        pos = new_pos\n",
    "    \n",
    "    trajectories[i].append(s2)\n",
    "    start_idx = np.random.randint(starts.shape[0])\n",
    "    start_pos = starts[start_idx, :]\n",
    "    pos = start_pos"
   ]
  },
  {
   "cell_type": "code",
   "execution_count": 221,
   "metadata": {},
   "outputs": [
    {
     "data": {
      "text/plain": [
       "array([[-1, -1,  0,  0,  0,  3,  0, -1],\n",
       "       [ 0, -1, -1,  0,  0,  3,  0, -1],\n",
       "       [ 0,  4, -1, -1, -1,  3, -1, -1],\n",
       "       [ 0,  0,  0,  4, -1,  3, -1,  4],\n",
       "       [ 0,  0,  0,  0, -1,  3, -1,  0],\n",
       "       [ 0,  0,  3,  0, -1, -1, -1,  0],\n",
       "       [ 0,  0,  3,  0,  0,  0,  0,  0],\n",
       "       [ 0,  0,  3,  0,  4,  0,  0,  0]], dtype=int16)"
      ]
     },
     "execution_count": 221,
     "metadata": {},
     "output_type": "execute_result"
    }
   ],
   "source": [
    "world = copy(states)\n",
    "world[trajectories[0]] = -1\n",
    "world.reshape([height, width])"
   ]
  },
  {
   "cell_type": "markdown",
   "metadata": {},
   "source": [
    "Optimal behavior!"
   ]
  },
  {
   "cell_type": "code",
   "execution_count": null,
   "metadata": {
    "collapsed": true
   },
   "outputs": [],
   "source": []
  }
 ],
 "metadata": {
  "kernelspec": {
   "display_name": "Python 3",
   "language": "python",
   "name": "python3"
  },
  "language_info": {
   "codemirror_mode": {
    "name": "ipython",
    "version": 3
   },
   "file_extension": ".py",
   "mimetype": "text/x-python",
   "name": "python",
   "nbconvert_exporter": "python",
   "pygments_lexer": "ipython3",
   "version": "3.6.1"
  }
 },
 "nbformat": 4,
 "nbformat_minor": 2
}
