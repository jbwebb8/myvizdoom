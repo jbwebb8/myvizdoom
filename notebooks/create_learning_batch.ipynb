{
 "cells": [
  {
   "cell_type": "markdown",
   "metadata": {},
   "source": [
    "# Create Learning Batch\n",
    "This notebook will create a store of states (screen buffers) that can be used for pre-training an agent or offline learning."
   ]
  },
  {
   "cell_type": "markdown",
   "metadata": {},
   "source": [
    "## Initial setup"
   ]
  },
  {
   "cell_type": "code",
   "execution_count": 10,
   "metadata": {
    "collapsed": true
   },
   "outputs": [],
   "source": [
    "from vizdoom import *\n",
    "import tensorflow as tf\n",
    "import numpy as np\n",
    "from tqdm import trange\n",
    "import sys"
   ]
  },
  {
   "cell_type": "markdown",
   "metadata": {},
   "source": [
    "## Load game"
   ]
  },
  {
   "cell_type": "code",
   "execution_count": 11,
   "metadata": {
    "collapsed": true
   },
   "outputs": [],
   "source": [
    "def initialize_vizdoom(config_file):\n",
    "    game = DoomGame()\n",
    "    game.load_config(config_file)\n",
    "    game.set_window_visible(True)\n",
    "    game.init()\n",
    "    return game"
   ]
  },
  {
   "cell_type": "code",
   "execution_count": 14,
   "metadata": {
    "collapsed": false
   },
   "outputs": [
    {
     "ename": "AttributeError",
     "evalue": "'numpy.ndarray' object has no attribute 'append'",
     "output_type": "error",
     "traceback": [
      "\u001b[0;31m---------------------------------------------------------------------------\u001b[0m",
      "\u001b[0;31mAttributeError\u001b[0m                            Traceback (most recent call last)",
      "\u001b[0;32m<ipython-input-14-75e050118327>\u001b[0m in \u001b[0;36m<module>\u001b[0;34m()\u001b[0m\n\u001b[1;32m     13\u001b[0m         \u001b[0mgame\u001b[0m\u001b[0;34m.\u001b[0m\u001b[0mnew_episode\u001b[0m\u001b[0;34m(\u001b[0m\u001b[0;34m)\u001b[0m\u001b[0;34m\u001b[0m\u001b[0m\n\u001b[1;32m     14\u001b[0m     \u001b[0;32mif\u001b[0m \u001b[0mi\u001b[0m \u001b[0;34m%\u001b[0m \u001b[0mframe_skip\u001b[0m \u001b[0;34m==\u001b[0m \u001b[0;36m0\u001b[0m\u001b[0;34m:\u001b[0m\u001b[0;34m\u001b[0m\u001b[0m\n\u001b[0;32m---> 15\u001b[0;31m         \u001b[0mscreen_buffers\u001b[0m\u001b[0;34m.\u001b[0m\u001b[0mappend\u001b[0m\u001b[0;34m(\u001b[0m\u001b[0mgame\u001b[0m\u001b[0;34m.\u001b[0m\u001b[0mget_state\u001b[0m\u001b[0;34m(\u001b[0m\u001b[0;34m)\u001b[0m\u001b[0;34m.\u001b[0m\u001b[0mscreen_buffer\u001b[0m\u001b[0;34m)\u001b[0m\u001b[0;34m\u001b[0m\u001b[0m\n\u001b[0m\u001b[1;32m     16\u001b[0m         \u001b[0mpos_x\u001b[0m \u001b[0;34m=\u001b[0m \u001b[0mgame\u001b[0m\u001b[0;34m.\u001b[0m\u001b[0mget_game_variable\u001b[0m\u001b[0;34m(\u001b[0m\u001b[0mGameVariable\u001b[0m\u001b[0;34m.\u001b[0m\u001b[0mPOSITION_X\u001b[0m\u001b[0;34m)\u001b[0m\u001b[0;34m\u001b[0m\u001b[0m\n\u001b[1;32m     17\u001b[0m         \u001b[0mpos_y\u001b[0m \u001b[0;34m=\u001b[0m \u001b[0mgame\u001b[0m\u001b[0;34m.\u001b[0m\u001b[0mget_game_variable\u001b[0m\u001b[0;34m(\u001b[0m\u001b[0mGameVariable\u001b[0m\u001b[0;34m.\u001b[0m\u001b[0mPOSITION_Y\u001b[0m\u001b[0;34m)\u001b[0m\u001b[0;34m\u001b[0m\u001b[0m\n",
      "\u001b[0;31mAttributeError\u001b[0m: 'numpy.ndarray' object has no attribute 'append'"
     ]
    }
   ],
   "source": [
    "config_file = \"../config/open_field.cfg\"\n",
    "results_dir = \"../experiments/tools/learning_batches/batch_1/\"\n",
    "game = initialize_vizdoom(config_file)\n",
    "num_frames = 50000\n",
    "frame_skip = 10\n",
    "image_height = game.get_screen_height()\n",
    "image_width = game.get_screen_width()\n",
    "screen_buffers = np.zeros([num_frames, 3, image_height, image_width])\n",
    "positions = np.zeros([num_frames, 2])\n",
    "game.new_episode()\n",
    "for i in range(num_frames):\n",
    "    if game.is_episode_finished():\n",
    "        game.new_episode()\n",
    "    if i % frame_skip == 0:\n",
    "        screen_buffers[i] = game.get_state().screen_buffer\n",
    "        pos_x = game.get_game_variable(GameVariable.POSITION_X)\n",
    "        pos_y = game.get_game_variable(GameVariable.POSITION_Y)\n",
    "        positions[i] = [pos_x, pos_y]\n",
    "    game.advance_action()\n",
    "    print(\"Game tick %d of %d\" % (i+1, num_frames), end=\"\\r\")\n",
    "    sys.stdout.flush()\n",
    "    if i % 1000 == 0:\n",
    "        print(\"\\nSaving...\")\n",
    "        np.save(results_dir + \"screen_buffers\", np.asarray(screen_buffers))\n",
    "        np.save(results_dir + \"positions\", np.asarray(positions))"
   ]
  },
  {
   "cell_type": "code",
   "execution_count": null,
   "metadata": {
    "collapsed": true
   },
   "outputs": [],
   "source": []
  },
  {
   "cell_type": "code",
   "execution_count": null,
   "metadata": {
    "collapsed": true
   },
   "outputs": [],
   "source": []
  }
 ],
 "metadata": {
  "kernelspec": {
   "display_name": "Python 3 (vizdoom)",
   "language": "python",
   "name": "vizdoom"
  },
  "language_info": {
   "codemirror_mode": {
    "name": "ipython",
    "version": 3
   },
   "file_extension": ".py",
   "mimetype": "text/x-python",
   "name": "python",
   "nbconvert_exporter": "python",
   "pygments_lexer": "ipython3",
   "version": "3.6.1"
  }
 },
 "nbformat": 4,
 "nbformat_minor": 2
}
